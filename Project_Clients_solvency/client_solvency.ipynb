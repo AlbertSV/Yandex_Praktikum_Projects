{
 "cells": [
  {
   "cell_type": "markdown",
   "metadata": {},
   "source": [
    "## Research of Borrower Reliability \n",
    "\n",
    "The customer is the credit department of the bank. It is necessary to find out whether the marital status and the number of children of the client affect the fact of repaying the loan on time.\n",
    "\n",
    "Research results will be consider  Результаты исследования будут учтены при построении модели **кредитного скоринга** — специальной системы, которая оценивает способность потенциального заёмщика вернуть кредит банку.\n",
    "\n",
    "Perform data preprocessing. Identify the influence of individual factors on loan repayment.\n",
    "\n",
    "*Data Structure:*\n",
    "\n",
    "- *children* — amount of children in family \n",
    "- *days_employed* — total work experience in days\n",
    "- *dob_years* — clients age in years\n",
    "- *education* — clients level education \n",
    "- *education_id* — education level identification \n",
    "- *family_status* - marital status\n",
    "- *family_status_id* - matital status identification \n",
    "- *gender* - clients gender\n",
    "- *income_type* - type of employment\n",
    "- *debt* - did you have any loan repayment arrears?\n",
    "- *total_income* - income per month\n",
    "- *purpose* - purpose of the loan\n"
   ]
  },
  {
   "cell_type": "markdown",
   "metadata": {},
   "source": [
    "### Step 1. Data Research "
   ]
  },
  {
   "cell_type": "code",
   "execution_count": 50,
   "metadata": {},
   "outputs": [],
   "source": [
    "import pandas as pd\n",
    "import math as math\n",
    "import matplotlib.pyplot as plt\n",
    "\n",
    "from pymystem3 import Mystem # call the pymystem3 library for lemmatization\n"
   ]
  },
  {
   "cell_type": "code",
   "execution_count": 38,
   "metadata": {},
   "outputs": [],
   "source": [
    "m = Mystem()"
   ]
  },
  {
   "cell_type": "code",
   "execution_count": 39,
   "metadata": {},
   "outputs": [
    {
     "name": "stdout",
     "output_type": "stream",
     "text": [
      "<class 'pandas.core.frame.DataFrame'>\n",
      "RangeIndex: 21525 entries, 0 to 21524\n",
      "Data columns (total 12 columns):\n",
      "children            21525 non-null int64\n",
      "days_employed       19351 non-null float64\n",
      "dob_years           21525 non-null int64\n",
      "education           21525 non-null object\n",
      "education_id        21525 non-null int64\n",
      "family_status       21525 non-null object\n",
      "family_status_id    21525 non-null int64\n",
      "gender              21525 non-null object\n",
      "income_type         21525 non-null object\n",
      "debt                21525 non-null int64\n",
      "total_income        19351 non-null float64\n",
      "purpose             21525 non-null object\n",
      "dtypes: float64(2), int64(5), object(5)\n",
      "memory usage: 2.0+ MB\n"
     ]
    },
    {
     "data": {
      "text/html": [
       "<div>\n",
       "<style scoped>\n",
       "    .dataframe tbody tr th:only-of-type {\n",
       "        vertical-align: middle;\n",
       "    }\n",
       "\n",
       "    .dataframe tbody tr th {\n",
       "        vertical-align: top;\n",
       "    }\n",
       "\n",
       "    .dataframe thead th {\n",
       "        text-align: right;\n",
       "    }\n",
       "</style>\n",
       "<table border=\"1\" class=\"dataframe\">\n",
       "  <thead>\n",
       "    <tr style=\"text-align: right;\">\n",
       "      <th></th>\n",
       "      <th>children</th>\n",
       "      <th>days_employed</th>\n",
       "      <th>dob_years</th>\n",
       "      <th>education</th>\n",
       "      <th>education_id</th>\n",
       "      <th>family_status</th>\n",
       "      <th>family_status_id</th>\n",
       "      <th>gender</th>\n",
       "      <th>income_type</th>\n",
       "      <th>debt</th>\n",
       "      <th>total_income</th>\n",
       "      <th>purpose</th>\n",
       "    </tr>\n",
       "  </thead>\n",
       "  <tbody>\n",
       "    <tr>\n",
       "      <td>0</td>\n",
       "      <td>1</td>\n",
       "      <td>-8437.673028</td>\n",
       "      <td>42</td>\n",
       "      <td>высшее</td>\n",
       "      <td>0</td>\n",
       "      <td>женат / замужем</td>\n",
       "      <td>0</td>\n",
       "      <td>F</td>\n",
       "      <td>сотрудник</td>\n",
       "      <td>0</td>\n",
       "      <td>253875.639453</td>\n",
       "      <td>покупка жилья</td>\n",
       "    </tr>\n",
       "    <tr>\n",
       "      <td>1</td>\n",
       "      <td>1</td>\n",
       "      <td>-4024.803754</td>\n",
       "      <td>36</td>\n",
       "      <td>среднее</td>\n",
       "      <td>1</td>\n",
       "      <td>женат / замужем</td>\n",
       "      <td>0</td>\n",
       "      <td>F</td>\n",
       "      <td>сотрудник</td>\n",
       "      <td>0</td>\n",
       "      <td>112080.014102</td>\n",
       "      <td>приобретение автомобиля</td>\n",
       "    </tr>\n",
       "    <tr>\n",
       "      <td>2</td>\n",
       "      <td>0</td>\n",
       "      <td>-5623.422610</td>\n",
       "      <td>33</td>\n",
       "      <td>Среднее</td>\n",
       "      <td>1</td>\n",
       "      <td>женат / замужем</td>\n",
       "      <td>0</td>\n",
       "      <td>M</td>\n",
       "      <td>сотрудник</td>\n",
       "      <td>0</td>\n",
       "      <td>145885.952297</td>\n",
       "      <td>покупка жилья</td>\n",
       "    </tr>\n",
       "    <tr>\n",
       "      <td>3</td>\n",
       "      <td>3</td>\n",
       "      <td>-4124.747207</td>\n",
       "      <td>32</td>\n",
       "      <td>среднее</td>\n",
       "      <td>1</td>\n",
       "      <td>женат / замужем</td>\n",
       "      <td>0</td>\n",
       "      <td>M</td>\n",
       "      <td>сотрудник</td>\n",
       "      <td>0</td>\n",
       "      <td>267628.550329</td>\n",
       "      <td>дополнительное образование</td>\n",
       "    </tr>\n",
       "    <tr>\n",
       "      <td>4</td>\n",
       "      <td>0</td>\n",
       "      <td>340266.072047</td>\n",
       "      <td>53</td>\n",
       "      <td>среднее</td>\n",
       "      <td>1</td>\n",
       "      <td>гражданский брак</td>\n",
       "      <td>1</td>\n",
       "      <td>F</td>\n",
       "      <td>пенсионер</td>\n",
       "      <td>0</td>\n",
       "      <td>158616.077870</td>\n",
       "      <td>сыграть свадьбу</td>\n",
       "    </tr>\n",
       "    <tr>\n",
       "      <td>5</td>\n",
       "      <td>0</td>\n",
       "      <td>-926.185831</td>\n",
       "      <td>27</td>\n",
       "      <td>высшее</td>\n",
       "      <td>0</td>\n",
       "      <td>гражданский брак</td>\n",
       "      <td>1</td>\n",
       "      <td>M</td>\n",
       "      <td>компаньон</td>\n",
       "      <td>0</td>\n",
       "      <td>255763.565419</td>\n",
       "      <td>покупка жилья</td>\n",
       "    </tr>\n",
       "    <tr>\n",
       "      <td>6</td>\n",
       "      <td>0</td>\n",
       "      <td>-2879.202052</td>\n",
       "      <td>43</td>\n",
       "      <td>высшее</td>\n",
       "      <td>0</td>\n",
       "      <td>женат / замужем</td>\n",
       "      <td>0</td>\n",
       "      <td>F</td>\n",
       "      <td>компаньон</td>\n",
       "      <td>0</td>\n",
       "      <td>240525.971920</td>\n",
       "      <td>операции с жильем</td>\n",
       "    </tr>\n",
       "    <tr>\n",
       "      <td>7</td>\n",
       "      <td>0</td>\n",
       "      <td>-152.779569</td>\n",
       "      <td>50</td>\n",
       "      <td>СРЕДНЕЕ</td>\n",
       "      <td>1</td>\n",
       "      <td>женат / замужем</td>\n",
       "      <td>0</td>\n",
       "      <td>M</td>\n",
       "      <td>сотрудник</td>\n",
       "      <td>0</td>\n",
       "      <td>135823.934197</td>\n",
       "      <td>образование</td>\n",
       "    </tr>\n",
       "    <tr>\n",
       "      <td>8</td>\n",
       "      <td>2</td>\n",
       "      <td>-6929.865299</td>\n",
       "      <td>35</td>\n",
       "      <td>ВЫСШЕЕ</td>\n",
       "      <td>0</td>\n",
       "      <td>гражданский брак</td>\n",
       "      <td>1</td>\n",
       "      <td>F</td>\n",
       "      <td>сотрудник</td>\n",
       "      <td>0</td>\n",
       "      <td>95856.832424</td>\n",
       "      <td>на проведение свадьбы</td>\n",
       "    </tr>\n",
       "    <tr>\n",
       "      <td>9</td>\n",
       "      <td>0</td>\n",
       "      <td>-2188.756445</td>\n",
       "      <td>41</td>\n",
       "      <td>среднее</td>\n",
       "      <td>1</td>\n",
       "      <td>женат / замужем</td>\n",
       "      <td>0</td>\n",
       "      <td>M</td>\n",
       "      <td>сотрудник</td>\n",
       "      <td>0</td>\n",
       "      <td>144425.938277</td>\n",
       "      <td>покупка жилья для семьи</td>\n",
       "    </tr>\n",
       "  </tbody>\n",
       "</table>\n",
       "</div>"
      ],
      "text/plain": [
       "   children  days_employed  dob_years education  education_id  \\\n",
       "0         1   -8437.673028         42    высшее             0   \n",
       "1         1   -4024.803754         36   среднее             1   \n",
       "2         0   -5623.422610         33   Среднее             1   \n",
       "3         3   -4124.747207         32   среднее             1   \n",
       "4         0  340266.072047         53   среднее             1   \n",
       "5         0    -926.185831         27    высшее             0   \n",
       "6         0   -2879.202052         43    высшее             0   \n",
       "7         0    -152.779569         50   СРЕДНЕЕ             1   \n",
       "8         2   -6929.865299         35    ВЫСШЕЕ             0   \n",
       "9         0   -2188.756445         41   среднее             1   \n",
       "\n",
       "      family_status  family_status_id gender income_type  debt   total_income  \\\n",
       "0   женат / замужем                 0      F   сотрудник     0  253875.639453   \n",
       "1   женат / замужем                 0      F   сотрудник     0  112080.014102   \n",
       "2   женат / замужем                 0      M   сотрудник     0  145885.952297   \n",
       "3   женат / замужем                 0      M   сотрудник     0  267628.550329   \n",
       "4  гражданский брак                 1      F   пенсионер     0  158616.077870   \n",
       "5  гражданский брак                 1      M   компаньон     0  255763.565419   \n",
       "6   женат / замужем                 0      F   компаньон     0  240525.971920   \n",
       "7   женат / замужем                 0      M   сотрудник     0  135823.934197   \n",
       "8  гражданский брак                 1      F   сотрудник     0   95856.832424   \n",
       "9   женат / замужем                 0      M   сотрудник     0  144425.938277   \n",
       "\n",
       "                      purpose  \n",
       "0               покупка жилья  \n",
       "1     приобретение автомобиля  \n",
       "2               покупка жилья  \n",
       "3  дополнительное образование  \n",
       "4             сыграть свадьбу  \n",
       "5               покупка жилья  \n",
       "6           операции с жильем  \n",
       "7                 образование  \n",
       "8       на проведение свадьбы  \n",
       "9     покупка жилья для семьи  "
      ]
     },
     "metadata": {},
     "output_type": "display_data"
    },
    {
     "name": "stdout",
     "output_type": "stream",
     "text": [
      "children            2174\n",
      "days_employed          0\n",
      "dob_years           2174\n",
      "education           2174\n",
      "education_id        2174\n",
      "family_status       2174\n",
      "family_status_id    2174\n",
      "gender              2174\n",
      "income_type         2174\n",
      "debt                2174\n",
      "total_income           0\n",
      "purpose             2174\n",
      "dtype: int64\n",
      " 0     14149\n",
      " 1      4818\n",
      " 2      2055\n",
      " 3       330\n",
      " 20       76\n",
      "-1        47\n",
      " 4        41\n",
      " 5         9\n",
      "Name: children, dtype: int64\n"
     ]
    }
   ],
   "source": [
    "clients_data = pd.read_csv('/datasets/data.csv')\n",
    "clients_data.info()\n",
    "display(clients_data.head(10))\n",
    "print(clients_data[clients_data['days_employed'].isnull()].count()) # проверим на наличие пропусков\n",
    "print(clients_data['children'].value_counts())"
   ]
  },
  {
   "cell_type": "markdown",
   "metadata": {},
   "source": [
    "### Conclusion"
   ]
  },
  {
   "cell_type": "markdown",
   "metadata": {},
   "source": [
    "Amount of work experience in days and income per month less then in other columns. It seems not all people set this information for those two columns. 2174 gaps were found. It is more than 10% from all data. Gaps are NaN (numerical) and random. "
   ]
  },
  {
   "cell_type": "markdown",
   "metadata": {},
   "source": [
    "### Step 2. Data Preparation"
   ]
  },
  {
   "cell_type": "code",
   "execution_count": 40,
   "metadata": {},
   "outputs": [],
   "source": [
    "columns_list = ['days_employed','total_income']\n",
    "income_type_list = list(clients_data['income_type'].unique())\n",
    "avg_child = math.ceil(clients_data['children'].mean()) # average amount of children\n",
    "\n",
    "for column in columns_list:\n",
    "    for income in income_type_list:\n",
    "        clients_data.loc[clients_data['income_type'] == income, column] \\\n",
    "        = clients_data.loc[clients_data['income_type'] == income, column].\\\n",
    "        fillna(clients_data.query('income_type == @income')[column].mean())       \n",
    "\n",
    "clients_data.loc[clients_data['children'] < 0, 'children'] = avg_child \n",
    "#replace the \"negative\" children with average statistical"
   ]
  },
  {
   "cell_type": "code",
   "execution_count": 42,
   "metadata": {},
   "outputs": [
    {
     "name": "stdout",
     "output_type": "stream",
     "text": [
      "Дубликатов: 71\n",
      "Дубликатов: 0\n"
     ]
    }
   ],
   "source": [
    "column_type = ['total_income','days_employed','children']\n",
    "for column in column_type:\n",
    "    clients_data[column] = clients_data[column].astype('int')\n",
    "#replace float variables with integer ones\n",
    "\n",
    "clients_data['education'] = clients_data['education'].str.lower() \n",
    "#change given to lower case\n",
    "\n",
    "print('Дубликатов:',clients_data.duplicated().sum())\n",
    "clients_data = clients_data.drop_duplicates().reset_index(drop=True)\n",
    "print('Дубликатов:',clients_data.duplicated().sum())"
   ]
  },
  {
   "cell_type": "markdown",
   "metadata": {},
   "source": [
    "Duplicates: 71\n",
    "\n",
    "Duplicates after cleariang data: 0"
   ]
  },
  {
   "cell_type": "code",
   "execution_count": 43,
   "metadata": {},
   "outputs": [
    {
     "name": "stdout",
     "output_type": "stream",
     "text": [
      "<class 'pandas.core.frame.DataFrame'>\n",
      "RangeIndex: 21454 entries, 0 to 21453\n",
      "Data columns (total 12 columns):\n",
      "children            21454 non-null int64\n",
      "days_employed       21454 non-null int64\n",
      "dob_years           21454 non-null int64\n",
      "education           21454 non-null object\n",
      "education_id        21454 non-null int64\n",
      "family_status       21454 non-null object\n",
      "family_status_id    21454 non-null int64\n",
      "gender              21454 non-null object\n",
      "income_type         21454 non-null object\n",
      "debt                21454 non-null int64\n",
      "total_income        21454 non-null int64\n",
      "purpose             21454 non-null object\n",
      "dtypes: int64(7), object(5)\n",
      "memory usage: 2.0+ MB\n",
      "0     14091\n",
      "1      4855\n",
      "2      2052\n",
      "3       330\n",
      "20       76\n",
      "4        41\n",
      "5         9\n",
      "Name: children, dtype: int64\n"
     ]
    }
   ],
   "source": [
    "clients_data.info() # data checked\n",
    "print(clients_data['children'].value_counts())\n"
   ]
  },
  {
   "cell_type": "markdown",
   "metadata": {},
   "source": [
    "### Conclusion"
   ]
  },
  {
   "cell_type": "markdown",
   "metadata": {},
   "source": [
    "Columns days_employed and total_income are contain numerical values. For the statistic saving gaps are changed to the average by the columns. Some values are equal tk -1 for the children data. This data changed to the average as well. \n",
    "\n",
    "Some data in columns, like *days_employed*, *total_income*, were changed to the integer type. "
   ]
  },
  {
   "cell_type": "markdown",
   "metadata": {},
   "source": [
    "71 duplicates were found. For educational column data were changed to the lowercase. \n"
   ]
  },
  {
   "cell_type": "markdown",
   "metadata": {},
   "source": [
    "### Lemmatisation and categorysation"
   ]
  },
  {
   "cell_type": "code",
   "execution_count": 44,
   "metadata": {},
   "outputs": [
    {
     "name": "stdout",
     "output_type": "stream",
     "text": [
      "[автомобиль, \\n]                                          972\n",
      "[свадьба, \\n]                                             791\n",
      "[на,  , проведение,  , свадьба, \\n]                       768\n",
      "[сыграть,  , свадьба, \\n]                                 765\n",
      "[операция,  , с,  , недвижимость, \\n]                     675\n",
      "[покупка,  , коммерческий,  , недвижимость, \\n]           661\n",
      "[операция,  , с,  , жилье, \\n]                            652\n",
      "[покупка,  , жилье,  , для,  , сдача, \\n]                 651\n",
      "[операция,  , с,  , коммерческий,  , недвижимость, \\n]    650\n",
      "[покупка,  , жилье, \\n]                                   646\n",
      "[жилье, \\n]                                               646\n",
      "[покупка,  , жилье,  , для,  , семья, \\n]                 638\n",
      "[строительство,  , собственный,  , недвижимость, \\n]      635\n",
      "[недвижимость, \\n]                                        633\n",
      "[операция,  , со,  , свой,  , недвижимость, \\n]           627\n",
      "[строительство,  , жилой,  , недвижимость, \\n]            624\n",
      "[покупка,  , недвижимость, \\n]                            621\n",
      "[покупка,  , свой,  , жилье, \\n]                          620\n",
      "[строительство,  , недвижимость, \\n]                      619\n",
      "[ремонт,  , жилье, \\n]                                    607\n",
      "[покупка,  , жилой,  , недвижимость, \\n]                  606\n",
      "[на,  , покупка,  , свой,  , автомобиль, \\n]              505\n",
      "[заниматься,  , высокий,  , образование, \\n]              496\n",
      "[сделка,  , с,  , подержанный,  , автомобиль, \\n]         486\n",
      "[свой,  , автомобиль, \\n]                                 478\n",
      "[на,  , покупка,  , подержать,  , автомобиль, \\n]         478\n",
      "[на,  , покупка,  , автомобиль, \\n]                       471\n",
      "[приобретение,  , автомобиль, \\n]                         461\n",
      "[дополнительный,  , образование, \\n]                      460\n",
      "[сделка,  , с,  , автомобиль, \\n]                         455\n",
      "[высокий,  , образование, \\n]                             452\n",
      "[образование, \\n]                                         447\n",
      "[получение,  , дополнительный,  , образование, \\n]        446\n",
      "[получение,  , образование, \\n]                           442\n",
      "[профильный,  , образование, \\n]                          436\n",
      "[получение,  , высокий,  , образование, \\n]               426\n",
      "[заниматься,  , образование, \\n]                          408\n",
      "Name: purpose_lem, dtype: int64\n"
     ]
    }
   ],
   "source": [
    "\n",
    "def lem_func(row): #function for lemmatisation \n",
    "    lem = m.lemmatize(row)\n",
    "    return lem\n",
    "clients_data['purpose_lem'] = clients_data['purpose'].apply(lem_func) \n",
    "#applied for the purpose column\n",
    "\n",
    "print(clients_data['purpose_lem'].value_counts())"
   ]
  },
  {
   "cell_type": "code",
   "execution_count": 66,
   "metadata": {},
   "outputs": [
    {
     "name": "stdout",
     "output_type": "stream",
     "text": [
      "недвижимость        10811\n",
      "автокредит           4306\n",
      "образовательский     4013\n",
      "потребительский      2324\n",
      "Name: purpose_goal, dtype: int64\n",
      "выше среднего    13126\n",
      "средний           4569\n",
      "ниже среднего     2276\n",
      "богатый           1483\n",
      "Name: income_category, dtype: int64\n",
      "нет детей            14091\n",
      "один ребенок          4855\n",
      "два ребенка           2052\n",
      "многодетная семья      456\n",
      "Name: kids_category, dtype: int64\n"
     ]
    }
   ],
   "source": [
    "def goal_func(row): # changing lemmatized column to the credit category \n",
    "    \n",
    "    if 'автомобиль' in row:\n",
    "        return 'автокредит'\n",
    "    if  'жилье' in row:\n",
    "        return 'недвижимость'\n",
    "    if  'недвижимость'in row:\n",
    "        return 'недвижимость'\n",
    "    if  'свадьба' in row:\n",
    "        return 'потребительский'\n",
    "    if 'образование' in row:\n",
    "        return 'образовательский'\n",
    "    \n",
    "clients_data['purpose_goal'] = clients_data['purpose_lem'].apply(goal_func)\n",
    "\n",
    "print(clients_data['purpose_goal'].value_counts())\n",
    "\n",
    "def income_func(row): # function for the categorisation by income \n",
    "    inc = row['total_income']\n",
    "    \n",
    "    if inc < 10329:\n",
    "        return 'ниже мрот'\n",
    "    if inc < 80000:\n",
    "        return 'ниже среднего'\n",
    "    if inc < 120000:\n",
    "        return 'средний'\n",
    "    if inc < 300000:\n",
    "        return 'выше среднего'\n",
    "    if inc >= 300000:\n",
    "        return 'богатый'\n",
    "        \n",
    "clients_data['income_category'] = clients_data.apply(income_func, axis=1)\n",
    "print(clients_data['income_category'].value_counts())\n",
    "\n",
    "def kids(row): # function for categorisation by children amount \n",
    "    kid = row['children']\n",
    "    \n",
    "    if kid == 0:\n",
    "        return 'нет детей'\n",
    "    if kid == 1:\n",
    "        return 'один ребенок'\n",
    "    if kid == 2:\n",
    "        return 'два ребенка'\n",
    "    if kid >= 3:\n",
    "        return 'многодетная семья'\n",
    "        \n",
    "clients_data['kids_category'] = clients_data.apply(kids, axis=1)\n",
    "print(clients_data['kids_category'].value_counts())"
   ]
  },
  {
   "cell_type": "code",
   "execution_count": 96,
   "metadata": {},
   "outputs": [
    {
     "data": {
      "image/png": "[encoded data removed]",
      "text/plain": [
       "<Figure size 432x288 with 1 Axes>"
      ]
     },
     "metadata": {},
     "output_type": "display_data"
    },
    {
     "data": {
      "image/png": "[encoded data removed]",
      "text/plain": [
       "<Figure size 432x288 with 1 Axes>"
      ]
     },
     "metadata": {},
     "output_type": "display_data"
    },
    {
     "data": {
      "image/png": "[encoded data removed]",
      "text/plain": [
       "<Figure size 432x288 with 1 Axes>"
      ]
     },
     "metadata": {},
     "output_type": "display_data"
    }
   ],
   "source": [
    "column_pie = ['kids_category','income_category','purpose_goal']\n",
    "cmap = plt.get_cmap(\"tab20c\")\n",
    "colors = cmap([4, 8, 12, 1])\n",
    "for column in column_pie:\n",
    "   \n",
    "    fig, ax = plt.subplots()\n",
    "    ax.set_title(column)\n",
    "    ax.pie(clients_data[column].value_counts(), labels=clients_data[column].unique(),\\\n",
    "           wedgeprops=dict(edgecolor='w'), colors=colors)\n",
    "    ax.axis(\"equal\")\n",
    "    plt.show()\n",
    "\n",
    "#print(genre_sales)"
   ]
  },
  {
   "cell_type": "markdown",
   "metadata": {},
   "source": [
    "### Conclusion"
   ]
  },
  {
   "cell_type": "markdown",
   "metadata": {},
   "source": [
    "*Purpose* column has values with one word based, so the data divided by the purposes are incorrect. Method *mystem* is used for the lemmatisation. The function used for the *purpose* column."
   ]
  },
  {
   "cell_type": "markdown",
   "metadata": {},
   "source": [
    "Function for the categorisation by lemma of credit type is used.  Clients income is categorised by the data based on the income in Moscow city. Families with children also were categorised."
   ]
  },
  {
   "cell_type": "markdown",
   "metadata": {},
   "source": [
    "Most people in data have income \"more than average\", only one child and the purpose is property purchase."
   ]
  },
  {
   "cell_type": "markdown",
   "metadata": {},
   "source": [
    "### Step 3. Answers on questions"
   ]
  },
  {
   "cell_type": "markdown",
   "metadata": {},
   "source": [
    "- Is there a link between having children and repaying a loan on time?\n",
    "- Is there a link between family status and repaying a loan on time? \n",
    "- Is there a link between income level and repaying a loan on time? \n",
    "- How different purposes are influence on the repaing a loan on time? "
   ]
  },
  {
   "cell_type": "code",
   "execution_count": 97,
   "metadata": {},
   "outputs": [],
   "source": [
    "def percent_format(percent): # функция для перевода значения в проценты\n",
    "    percent = '{:.2%}'.format(percent)\n",
    "    return percent"
   ]
  },
  {
   "cell_type": "code",
   "execution_count": 106,
   "metadata": {},
   "outputs": [
    {
     "data": {
      "text/html": [
       "<div>\n",
       "<style scoped>\n",
       "    .dataframe tbody tr th:only-of-type {\n",
       "        vertical-align: middle;\n",
       "    }\n",
       "\n",
       "    .dataframe tbody tr th {\n",
       "        vertical-align: top;\n",
       "    }\n",
       "\n",
       "    .dataframe thead tr th {\n",
       "        text-align: left;\n",
       "    }\n",
       "\n",
       "    .dataframe thead tr:last-of-type th {\n",
       "        text-align: right;\n",
       "    }\n",
       "</style>\n",
       "<table border=\"1\" class=\"dataframe\">\n",
       "  <thead>\n",
       "    <tr>\n",
       "      <th></th>\n",
       "      <th colspan=\"2\" halign=\"left\">count</th>\n",
       "      <th>%</th>\n",
       "    </tr>\n",
       "    <tr>\n",
       "      <th>debt</th>\n",
       "      <th>0</th>\n",
       "      <th>1</th>\n",
       "      <th></th>\n",
       "    </tr>\n",
       "    <tr>\n",
       "      <th>kids_category</th>\n",
       "      <th></th>\n",
       "      <th></th>\n",
       "      <th></th>\n",
       "    </tr>\n",
       "  </thead>\n",
       "  <tbody>\n",
       "    <tr>\n",
       "      <td>нет детей</td>\n",
       "      <td>13028</td>\n",
       "      <td>1063</td>\n",
       "      <td>7.54%</td>\n",
       "    </tr>\n",
       "    <tr>\n",
       "      <td>многодетная семья</td>\n",
       "      <td>417</td>\n",
       "      <td>39</td>\n",
       "      <td>8.55%</td>\n",
       "    </tr>\n",
       "    <tr>\n",
       "      <td>один ребенок</td>\n",
       "      <td>4410</td>\n",
       "      <td>445</td>\n",
       "      <td>9.17%</td>\n",
       "    </tr>\n",
       "    <tr>\n",
       "      <td>два ребенка</td>\n",
       "      <td>1858</td>\n",
       "      <td>194</td>\n",
       "      <td>9.45%</td>\n",
       "    </tr>\n",
       "  </tbody>\n",
       "</table>\n",
       "</div>"
      ],
      "text/plain": [
       "                   count            %\n",
       "debt                   0     1       \n",
       "kids_category                        \n",
       "нет детей          13028  1063  7.54%\n",
       "многодетная семья    417    39  8.55%\n",
       "один ребенок        4410   445  9.17%\n",
       "два ребенка         1858   194  9.45%"
      ]
     },
     "metadata": {},
     "output_type": "display_data"
    }
   ],
   "source": [
    "kids_data_pivot = clients_data.pivot_table(index=['kids_category'], columns='debt', values='children', aggfunc=['count'])\n",
    "kids_data_pivot['%'] = (kids_data_pivot[('count', 1)] / (kids_data_pivot[('count', 1)] + kids_data_pivot[('count', 0)]))\n",
    "kids_data_pivot['%'] = kids_data_pivot['%'].apply(percent_format)\n",
    "# сводная таблица с процентами по задолжностям у семей с детьми\n",
    "display(kids_data_pivot.sort_values(by='%'))"
   ]
  },
  {
   "cell_type": "markdown",
   "metadata": {},
   "source": [
    "According to the debtors table families without children have less debts, than the families with kids."
   ]
  },
  {
   "cell_type": "code",
   "execution_count": 107,
   "metadata": {},
   "outputs": [
    {
     "data": {
      "text/html": [
       "<div>\n",
       "<style scoped>\n",
       "    .dataframe tbody tr th:only-of-type {\n",
       "        vertical-align: middle;\n",
       "    }\n",
       "\n",
       "    .dataframe tbody tr th {\n",
       "        vertical-align: top;\n",
       "    }\n",
       "\n",
       "    .dataframe thead tr th {\n",
       "        text-align: left;\n",
       "    }\n",
       "\n",
       "    .dataframe thead tr:last-of-type th {\n",
       "        text-align: right;\n",
       "    }\n",
       "</style>\n",
       "<table border=\"1\" class=\"dataframe\">\n",
       "  <thead>\n",
       "    <tr>\n",
       "      <th></th>\n",
       "      <th colspan=\"2\" halign=\"left\">count</th>\n",
       "      <th>%</th>\n",
       "    </tr>\n",
       "    <tr>\n",
       "      <th>debt</th>\n",
       "      <th>0</th>\n",
       "      <th>1</th>\n",
       "      <th></th>\n",
       "    </tr>\n",
       "    <tr>\n",
       "      <th>family_status</th>\n",
       "      <th></th>\n",
       "      <th></th>\n",
       "      <th></th>\n",
       "    </tr>\n",
       "  </thead>\n",
       "  <tbody>\n",
       "    <tr>\n",
       "      <td>вдовец / вдова</td>\n",
       "      <td>896</td>\n",
       "      <td>63</td>\n",
       "      <td>6.57%</td>\n",
       "    </tr>\n",
       "    <tr>\n",
       "      <td>в разводе</td>\n",
       "      <td>1110</td>\n",
       "      <td>85</td>\n",
       "      <td>7.11%</td>\n",
       "    </tr>\n",
       "    <tr>\n",
       "      <td>женат / замужем</td>\n",
       "      <td>11408</td>\n",
       "      <td>931</td>\n",
       "      <td>7.55%</td>\n",
       "    </tr>\n",
       "    <tr>\n",
       "      <td>гражданский брак</td>\n",
       "      <td>3763</td>\n",
       "      <td>388</td>\n",
       "      <td>9.35%</td>\n",
       "    </tr>\n",
       "    <tr>\n",
       "      <td>Не женат / не замужем</td>\n",
       "      <td>2536</td>\n",
       "      <td>274</td>\n",
       "      <td>9.75%</td>\n",
       "    </tr>\n",
       "  </tbody>\n",
       "</table>\n",
       "</div>"
      ],
      "text/plain": [
       "                       count           %\n",
       "debt                       0    1       \n",
       "family_status                           \n",
       "вдовец / вдова           896   63  6.57%\n",
       "в разводе               1110   85  7.11%\n",
       "женат / замужем        11408  931  7.55%\n",
       "гражданский брак        3763  388  9.35%\n",
       "Не женат / не замужем   2536  274  9.75%"
      ]
     },
     "metadata": {},
     "output_type": "display_data"
    }
   ],
   "source": [
    "family_status_data = clients_data.pivot_table(index=['family_status'], columns='debt', values='family_status_id', aggfunc=['count'])\n",
    "family_status_data['%'] = (family_status_data[('count', 1)] / (family_status_data[('count', 1)] + family_status_data[('count', 0)]))\n",
    "family_status_data['%'] = family_status_data['%'].apply(percent_format) # summary table with percentages on debts of clients with different marital status\n",
    "display(family_status_data.sort_values(by='%'))"
   ]
  },
  {
   "cell_type": "markdown",
   "metadata": {},
   "source": [
    "Pivot table of clients with different family status. According to this table best payers are widowers, but single people without family have more debts than others."
   ]
  },
  {
   "cell_type": "code",
   "execution_count": 108,
   "metadata": {},
   "outputs": [
    {
     "data": {
      "text/html": [
       "<div>\n",
       "<style scoped>\n",
       "    .dataframe tbody tr th:only-of-type {\n",
       "        vertical-align: middle;\n",
       "    }\n",
       "\n",
       "    .dataframe tbody tr th {\n",
       "        vertical-align: top;\n",
       "    }\n",
       "\n",
       "    .dataframe thead tr th {\n",
       "        text-align: left;\n",
       "    }\n",
       "\n",
       "    .dataframe thead tr:last-of-type th {\n",
       "        text-align: right;\n",
       "    }\n",
       "</style>\n",
       "<table border=\"1\" class=\"dataframe\">\n",
       "  <thead>\n",
       "    <tr>\n",
       "      <th></th>\n",
       "      <th colspan=\"2\" halign=\"left\">count</th>\n",
       "      <th>%</th>\n",
       "    </tr>\n",
       "    <tr>\n",
       "      <th>debt</th>\n",
       "      <th>0</th>\n",
       "      <th>1</th>\n",
       "      <th></th>\n",
       "    </tr>\n",
       "    <tr>\n",
       "      <th>income_category</th>\n",
       "      <th></th>\n",
       "      <th></th>\n",
       "      <th></th>\n",
       "    </tr>\n",
       "  </thead>\n",
       "  <tbody>\n",
       "    <tr>\n",
       "      <td>богатый</td>\n",
       "      <td>1377</td>\n",
       "      <td>106</td>\n",
       "      <td>7.15%</td>\n",
       "    </tr>\n",
       "    <tr>\n",
       "      <td>ниже среднего</td>\n",
       "      <td>2102</td>\n",
       "      <td>174</td>\n",
       "      <td>7.64%</td>\n",
       "    </tr>\n",
       "    <tr>\n",
       "      <td>средний</td>\n",
       "      <td>4192</td>\n",
       "      <td>377</td>\n",
       "      <td>8.25%</td>\n",
       "    </tr>\n",
       "    <tr>\n",
       "      <td>выше среднего</td>\n",
       "      <td>12042</td>\n",
       "      <td>1084</td>\n",
       "      <td>8.26%</td>\n",
       "    </tr>\n",
       "  </tbody>\n",
       "</table>\n",
       "</div>"
      ],
      "text/plain": [
       "                 count            %\n",
       "debt                 0     1       \n",
       "income_category                    \n",
       "богатый           1377   106  7.15%\n",
       "ниже среднего     2102   174  7.64%\n",
       "средний           4192   377  8.25%\n",
       "выше среднего    12042  1084  8.26%"
      ]
     },
     "metadata": {},
     "output_type": "display_data"
    }
   ],
   "source": [
    "income_pivot_data = clients_data.pivot_table(index=['income_category'], columns='debt', values='total_income', aggfunc=['count'])\n",
    "income_pivot_data['%'] = (income_pivot_data[('count', 1)] / (income_pivot_data[('count', 1)] + income_pivot_data[('count', 0)]))\n",
    "income_pivot_data['%'] = income_pivot_data['%'].apply(percent_format) # pivot table with percentages on debts of clients with different income levels\n",
    "display(income_pivot_data.sort_values(by='%'))\n"
   ]
  },
  {
   "cell_type": "markdown",
   "metadata": {},
   "source": [
    "Summary table of debts of clients with different income levels (income level is taken for Moscow). Most of all debts are owned by people with average (средний) and above average (выше среднего) income levels. At the same time, people with an income level of \"rich\" (богатый) debts are the least."
   ]
  },
  {
   "cell_type": "code",
   "execution_count": 109,
   "metadata": {},
   "outputs": [
    {
     "data": {
      "text/html": [
       "<div>\n",
       "<style scoped>\n",
       "    .dataframe tbody tr th:only-of-type {\n",
       "        vertical-align: middle;\n",
       "    }\n",
       "\n",
       "    .dataframe tbody tr th {\n",
       "        vertical-align: top;\n",
       "    }\n",
       "\n",
       "    .dataframe thead tr th {\n",
       "        text-align: left;\n",
       "    }\n",
       "\n",
       "    .dataframe thead tr:last-of-type th {\n",
       "        text-align: right;\n",
       "    }\n",
       "</style>\n",
       "<table border=\"1\" class=\"dataframe\">\n",
       "  <thead>\n",
       "    <tr>\n",
       "      <th></th>\n",
       "      <th colspan=\"2\" halign=\"left\">count</th>\n",
       "      <th>%</th>\n",
       "    </tr>\n",
       "    <tr>\n",
       "      <th>debt</th>\n",
       "      <th>0</th>\n",
       "      <th>1</th>\n",
       "      <th></th>\n",
       "    </tr>\n",
       "    <tr>\n",
       "      <th>purpose_goal</th>\n",
       "      <th></th>\n",
       "      <th></th>\n",
       "      <th></th>\n",
       "    </tr>\n",
       "  </thead>\n",
       "  <tbody>\n",
       "    <tr>\n",
       "      <td>недвижимость</td>\n",
       "      <td>10029</td>\n",
       "      <td>782</td>\n",
       "      <td>7.23%</td>\n",
       "    </tr>\n",
       "    <tr>\n",
       "      <td>потребительский</td>\n",
       "      <td>2138</td>\n",
       "      <td>186</td>\n",
       "      <td>8.00%</td>\n",
       "    </tr>\n",
       "    <tr>\n",
       "      <td>образовательский</td>\n",
       "      <td>3643</td>\n",
       "      <td>370</td>\n",
       "      <td>9.22%</td>\n",
       "    </tr>\n",
       "    <tr>\n",
       "      <td>автокредит</td>\n",
       "      <td>3903</td>\n",
       "      <td>403</td>\n",
       "      <td>9.36%</td>\n",
       "    </tr>\n",
       "  </tbody>\n",
       "</table>\n",
       "</div>"
      ],
      "text/plain": [
       "                  count           %\n",
       "debt                  0    1       \n",
       "purpose_goal                       \n",
       "недвижимость      10029  782  7.23%\n",
       "потребительский    2138  186  8.00%\n",
       "образовательский   3643  370  9.22%\n",
       "автокредит         3903  403  9.36%"
      ]
     },
     "metadata": {},
     "output_type": "display_data"
    }
   ],
   "source": [
    "purpose_pivot_data = clients_data.pivot_table(index=['purpose_goal'], columns='debt', values='purpose', aggfunc=['count'])\n",
    "purpose_pivot_data['%'] = (purpose_pivot_data[('count', 1)] / (purpose_pivot_data[('count', 1)] + purpose_pivot_data[('count', 0)]))\n",
    "purpose_pivot_data['%'] = purpose_pivot_data['%'].apply(percent_format) # pivot table with percentages on debts from clients with different goals\n",
    "display(purpose_pivot_data.sort_values(by='%'))"
   ]
  },
  {
   "cell_type": "markdown",
   "metadata": {},
   "source": [
    "A pivot table of debts from customers with different loan purposes. People who take out a loan for a car or an education do not pay it back more often than others."
   ]
  },
  {
   "cell_type": "markdown",
   "metadata": {},
   "source": [
    "## Step 4. General conclusion"
   ]
  },
  {
   "cell_type": "markdown",
   "metadata": {},
   "source": [
    "Data preprocessing has been carried out. Missing NaN values found, possibly random. The gaps are filled in with the averages for each individual category. Duplicates were also found, removed using dropduplicated. Several columns have their data type changed from float to integer using astype. Lemmatization and categorization of data has been carried out.\n",
    "\n",
    "For each type of data, leaders among debtors were identified:\n",
    "- Clients with and without children. Leader - families with two children.\n",
    "- Clients separated by marital status. The leader is bachelors.\n",
    "- Clients divided by income level. Leader - with an income level \"above average\".\n",
    "- Clients divided by the purpose of the loan. The leader is a car loan.\n",
    "\n",
    "*If the client is: a bachelor with two children, above average income and takes out a car loan, it is worth considering giving him/her a loan.*"
   ]
  }
 ],
 "metadata": {
  "kernelspec": {
   "display_name": "Python 3",
   "language": "python",
   "name": "python3"
  },
  "language_info": {
   "codemirror_mode": {
    "name": "ipython",
    "version": 3
   },
   "file_extension": ".py",
   "mimetype": "text/x-python",
   "name": "python",
   "nbconvert_exporter": "python",
   "pygments_lexer": "ipython3",
   "version": "3.7.8"
  },
  "toc": {
   "base_numbering": 1,
   "nav_menu": {},
   "number_sections": true,
   "sideBar": true,
   "skip_h1_title": false,
   "title_cell": "Table of Contents",
   "title_sidebar": "Contents",
   "toc_cell": false,
   "toc_position": {},
   "toc_section_display": true,
   "toc_window_display": false
  }
 },
 "nbformat": 4,
 "nbformat_minor": 2
}
