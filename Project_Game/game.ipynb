{
 "cells": [
  {
   "cell_type": "markdown",
   "metadata": {},
   "source": [
    "## Studying the patterns that determine the success of games\n",
    "\n",
    "It is necessary to identify patterns that determine the success of the game. This will allow you to bid on a potentially popular product and plan advertising campaigns.\n",
    "\n",
    "**Data**\n",
    "\n",
    "- *Name* — game name\n",
    "- *Platform* — the platform on which the game is implemented\n",
    "- *Year_of_Release* — the year when the game was released\n",
    "- *Genre* — game genre\n",
    "- *NA_sales* — sales in North America (millions of dollars)\n",
    "- *EU_sales* — sales in Europe (millions of dollars)\n",
    "- *JP_sales* — sales in Japan (millions of dollars)\n",
    "- *Other_sales* — sales in other countries (millions of dollars)\n",
    "- *Critic_Score* — Critics score (max 100)\n",
    "- *User_Score* — user score (maximum 10)\n",
    "- *Rating* — rating from the ESRB (Entertainment Software Rating Board).\n"
   ]
  },
  {
   "cell_type": "code",
   "execution_count": 1,
   "metadata": {},
   "outputs": [],
   "source": [
    "import pandas as pd\n",
    "import numpy as np\n",
    "import matplotlib.pyplot as plt\n",
    "import seaborn as sns\n",
    "\n",
    "from scipy import stats as st"
   ]
  },
  {
   "cell_type": "markdown",
   "metadata": {},
   "source": [
    "### Data preprocessing"
   ]
  },
  {
   "cell_type": "code",
   "execution_count": 2,
   "metadata": {},
   "outputs": [
    {
     "name": "stdout",
     "output_type": "stream",
     "text": [
      "<class 'pandas.core.frame.DataFrame'>\n",
      "RangeIndex: 16715 entries, 0 to 16714\n",
      "Data columns (total 11 columns):\n",
      "Name               16713 non-null object\n",
      "Platform           16715 non-null object\n",
      "Year_of_Release    16446 non-null float64\n",
      "Genre              16713 non-null object\n",
      "NA_sales           16715 non-null float64\n",
      "EU_sales           16715 non-null float64\n",
      "JP_sales           16715 non-null float64\n",
      "Other_sales        16715 non-null float64\n",
      "Critic_Score       8137 non-null float64\n",
      "User_Score         10014 non-null object\n",
      "Rating             9949 non-null object\n",
      "dtypes: float64(6), object(5)\n",
      "memory usage: 1.4+ MB\n"
     ]
    },
    {
     "data": {
      "text/html": [
       "<div>\n",
       "<style scoped>\n",
       "    .dataframe tbody tr th:only-of-type {\n",
       "        vertical-align: middle;\n",
       "    }\n",
       "\n",
       "    .dataframe tbody tr th {\n",
       "        vertical-align: top;\n",
       "    }\n",
       "\n",
       "    .dataframe thead th {\n",
       "        text-align: right;\n",
       "    }\n",
       "</style>\n",
       "<table border=\"1\" class=\"dataframe\">\n",
       "  <thead>\n",
       "    <tr style=\"text-align: right;\">\n",
       "      <th></th>\n",
       "      <th>Name</th>\n",
       "      <th>Platform</th>\n",
       "      <th>Year_of_Release</th>\n",
       "      <th>Genre</th>\n",
       "      <th>NA_sales</th>\n",
       "      <th>EU_sales</th>\n",
       "      <th>JP_sales</th>\n",
       "      <th>Other_sales</th>\n",
       "      <th>Critic_Score</th>\n",
       "      <th>User_Score</th>\n",
       "      <th>Rating</th>\n",
       "    </tr>\n",
       "  </thead>\n",
       "  <tbody>\n",
       "    <tr>\n",
       "      <td>0</td>\n",
       "      <td>Wii Sports</td>\n",
       "      <td>Wii</td>\n",
       "      <td>2006.0</td>\n",
       "      <td>Sports</td>\n",
       "      <td>41.36</td>\n",
       "      <td>28.96</td>\n",
       "      <td>3.77</td>\n",
       "      <td>8.45</td>\n",
       "      <td>76.0</td>\n",
       "      <td>8</td>\n",
       "      <td>E</td>\n",
       "    </tr>\n",
       "    <tr>\n",
       "      <td>1</td>\n",
       "      <td>Super Mario Bros.</td>\n",
       "      <td>NES</td>\n",
       "      <td>1985.0</td>\n",
       "      <td>Platform</td>\n",
       "      <td>29.08</td>\n",
       "      <td>3.58</td>\n",
       "      <td>6.81</td>\n",
       "      <td>0.77</td>\n",
       "      <td>NaN</td>\n",
       "      <td>NaN</td>\n",
       "      <td>NaN</td>\n",
       "    </tr>\n",
       "    <tr>\n",
       "      <td>2</td>\n",
       "      <td>Mario Kart Wii</td>\n",
       "      <td>Wii</td>\n",
       "      <td>2008.0</td>\n",
       "      <td>Racing</td>\n",
       "      <td>15.68</td>\n",
       "      <td>12.76</td>\n",
       "      <td>3.79</td>\n",
       "      <td>3.29</td>\n",
       "      <td>82.0</td>\n",
       "      <td>8.3</td>\n",
       "      <td>E</td>\n",
       "    </tr>\n",
       "    <tr>\n",
       "      <td>3</td>\n",
       "      <td>Wii Sports Resort</td>\n",
       "      <td>Wii</td>\n",
       "      <td>2009.0</td>\n",
       "      <td>Sports</td>\n",
       "      <td>15.61</td>\n",
       "      <td>10.93</td>\n",
       "      <td>3.28</td>\n",
       "      <td>2.95</td>\n",
       "      <td>80.0</td>\n",
       "      <td>8</td>\n",
       "      <td>E</td>\n",
       "    </tr>\n",
       "    <tr>\n",
       "      <td>4</td>\n",
       "      <td>Pokemon Red/Pokemon Blue</td>\n",
       "      <td>GB</td>\n",
       "      <td>1996.0</td>\n",
       "      <td>Role-Playing</td>\n",
       "      <td>11.27</td>\n",
       "      <td>8.89</td>\n",
       "      <td>10.22</td>\n",
       "      <td>1.00</td>\n",
       "      <td>NaN</td>\n",
       "      <td>NaN</td>\n",
       "      <td>NaN</td>\n",
       "    </tr>\n",
       "    <tr>\n",
       "      <td>5</td>\n",
       "      <td>Tetris</td>\n",
       "      <td>GB</td>\n",
       "      <td>1989.0</td>\n",
       "      <td>Puzzle</td>\n",
       "      <td>23.20</td>\n",
       "      <td>2.26</td>\n",
       "      <td>4.22</td>\n",
       "      <td>0.58</td>\n",
       "      <td>NaN</td>\n",
       "      <td>NaN</td>\n",
       "      <td>NaN</td>\n",
       "    </tr>\n",
       "    <tr>\n",
       "      <td>6</td>\n",
       "      <td>New Super Mario Bros.</td>\n",
       "      <td>DS</td>\n",
       "      <td>2006.0</td>\n",
       "      <td>Platform</td>\n",
       "      <td>11.28</td>\n",
       "      <td>9.14</td>\n",
       "      <td>6.50</td>\n",
       "      <td>2.88</td>\n",
       "      <td>89.0</td>\n",
       "      <td>8.5</td>\n",
       "      <td>E</td>\n",
       "    </tr>\n",
       "    <tr>\n",
       "      <td>7</td>\n",
       "      <td>Wii Play</td>\n",
       "      <td>Wii</td>\n",
       "      <td>2006.0</td>\n",
       "      <td>Misc</td>\n",
       "      <td>13.96</td>\n",
       "      <td>9.18</td>\n",
       "      <td>2.93</td>\n",
       "      <td>2.84</td>\n",
       "      <td>58.0</td>\n",
       "      <td>6.6</td>\n",
       "      <td>E</td>\n",
       "    </tr>\n",
       "    <tr>\n",
       "      <td>8</td>\n",
       "      <td>New Super Mario Bros. Wii</td>\n",
       "      <td>Wii</td>\n",
       "      <td>2009.0</td>\n",
       "      <td>Platform</td>\n",
       "      <td>14.44</td>\n",
       "      <td>6.94</td>\n",
       "      <td>4.70</td>\n",
       "      <td>2.24</td>\n",
       "      <td>87.0</td>\n",
       "      <td>8.4</td>\n",
       "      <td>E</td>\n",
       "    </tr>\n",
       "    <tr>\n",
       "      <td>9</td>\n",
       "      <td>Duck Hunt</td>\n",
       "      <td>NES</td>\n",
       "      <td>1984.0</td>\n",
       "      <td>Shooter</td>\n",
       "      <td>26.93</td>\n",
       "      <td>0.63</td>\n",
       "      <td>0.28</td>\n",
       "      <td>0.47</td>\n",
       "      <td>NaN</td>\n",
       "      <td>NaN</td>\n",
       "      <td>NaN</td>\n",
       "    </tr>\n",
       "  </tbody>\n",
       "</table>\n",
       "</div>"
      ],
      "text/plain": [
       "                        Name Platform  Year_of_Release         Genre  \\\n",
       "0                 Wii Sports      Wii           2006.0        Sports   \n",
       "1          Super Mario Bros.      NES           1985.0      Platform   \n",
       "2             Mario Kart Wii      Wii           2008.0        Racing   \n",
       "3          Wii Sports Resort      Wii           2009.0        Sports   \n",
       "4   Pokemon Red/Pokemon Blue       GB           1996.0  Role-Playing   \n",
       "5                     Tetris       GB           1989.0        Puzzle   \n",
       "6      New Super Mario Bros.       DS           2006.0      Platform   \n",
       "7                   Wii Play      Wii           2006.0          Misc   \n",
       "8  New Super Mario Bros. Wii      Wii           2009.0      Platform   \n",
       "9                  Duck Hunt      NES           1984.0       Shooter   \n",
       "\n",
       "   NA_sales  EU_sales  JP_sales  Other_sales  Critic_Score User_Score Rating  \n",
       "0     41.36     28.96      3.77         8.45          76.0          8      E  \n",
       "1     29.08      3.58      6.81         0.77           NaN        NaN    NaN  \n",
       "2     15.68     12.76      3.79         3.29          82.0        8.3      E  \n",
       "3     15.61     10.93      3.28         2.95          80.0          8      E  \n",
       "4     11.27      8.89     10.22         1.00           NaN        NaN    NaN  \n",
       "5     23.20      2.26      4.22         0.58           NaN        NaN    NaN  \n",
       "6     11.28      9.14      6.50         2.88          89.0        8.5      E  \n",
       "7     13.96      9.18      2.93         2.84          58.0        6.6      E  \n",
       "8     14.44      6.94      4.70         2.24          87.0        8.4      E  \n",
       "9     26.93      0.63      0.28         0.47           NaN        NaN    NaN  "
      ]
     },
     "metadata": {},
     "output_type": "display_data"
    }
   ],
   "source": [
    "games_data = pd.read_csv('/datasets/games.csv')\n",
    "games_data.info()\n",
    "display(games_data.head(10))"
   ]
  },
  {
   "cell_type": "markdown",
   "metadata": {},
   "source": [
    "Let's preprocess the data. Let's replace the gaps, convert the data type in the columns to a more acceptable form (for example, years to integer). Let's convert the column names to lower case. We categorize the age rating by age, as a number."
   ]
  },
  {
   "cell_type": "code",
   "execution_count": 3,
   "metadata": {},
   "outputs": [
    {
     "name": "stdout",
     "output_type": "stream",
     "text": [
      "<class 'pandas.core.frame.DataFrame'>\n",
      "RangeIndex: 16715 entries, 0 to 16714\n",
      "Data columns (total 11 columns):\n",
      "name               16713 non-null object\n",
      "platform           16715 non-null object\n",
      "year_of_release    16446 non-null float64\n",
      "genre              16713 non-null object\n",
      "na_sales           16715 non-null float64\n",
      "eu_sales           16715 non-null float64\n",
      "jp_sales           16715 non-null float64\n",
      "other_sales        16715 non-null float64\n",
      "critic_score       8137 non-null float64\n",
      "user_score         10014 non-null object\n",
      "rating             9949 non-null object\n",
      "dtypes: float64(6), object(5)\n",
      "memory usage: 1.4+ MB\n"
     ]
    }
   ],
   "source": [
    "games_data.columns = [x.lower() for x in games_data.columns] \n",
    "# converting column names to lowercase\n",
    "games_data.info()"
   ]
  },
  {
   "cell_type": "code",
   "execution_count": 4,
   "metadata": {},
   "outputs": [
    {
     "data": {
      "text/html": [
       "<div>\n",
       "<style scoped>\n",
       "    .dataframe tbody tr th:only-of-type {\n",
       "        vertical-align: middle;\n",
       "    }\n",
       "\n",
       "    .dataframe tbody tr th {\n",
       "        vertical-align: top;\n",
       "    }\n",
       "\n",
       "    .dataframe thead th {\n",
       "        text-align: right;\n",
       "    }\n",
       "</style>\n",
       "<table border=\"1\" class=\"dataframe\">\n",
       "  <thead>\n",
       "    <tr style=\"text-align: right;\">\n",
       "      <th></th>\n",
       "      <th>year_of_release</th>\n",
       "      <th>na_sales</th>\n",
       "      <th>eu_sales</th>\n",
       "      <th>jp_sales</th>\n",
       "      <th>other_sales</th>\n",
       "      <th>critic_score</th>\n",
       "    </tr>\n",
       "  </thead>\n",
       "  <tbody>\n",
       "    <tr>\n",
       "      <td>year_of_release</td>\n",
       "      <td>1.000000</td>\n",
       "      <td>-0.092500</td>\n",
       "      <td>0.003978</td>\n",
       "      <td>-0.168366</td>\n",
       "      <td>0.037820</td>\n",
       "      <td>0.011411</td>\n",
       "    </tr>\n",
       "    <tr>\n",
       "      <td>na_sales</td>\n",
       "      <td>-0.092500</td>\n",
       "      <td>1.000000</td>\n",
       "      <td>0.765335</td>\n",
       "      <td>0.449594</td>\n",
       "      <td>0.638649</td>\n",
       "      <td>0.240755</td>\n",
       "    </tr>\n",
       "    <tr>\n",
       "      <td>eu_sales</td>\n",
       "      <td>0.003978</td>\n",
       "      <td>0.765335</td>\n",
       "      <td>1.000000</td>\n",
       "      <td>0.435061</td>\n",
       "      <td>0.722792</td>\n",
       "      <td>0.220752</td>\n",
       "    </tr>\n",
       "    <tr>\n",
       "      <td>jp_sales</td>\n",
       "      <td>-0.168366</td>\n",
       "      <td>0.449594</td>\n",
       "      <td>0.435061</td>\n",
       "      <td>1.000000</td>\n",
       "      <td>0.291089</td>\n",
       "      <td>0.152593</td>\n",
       "    </tr>\n",
       "    <tr>\n",
       "      <td>other_sales</td>\n",
       "      <td>0.037820</td>\n",
       "      <td>0.638649</td>\n",
       "      <td>0.722792</td>\n",
       "      <td>0.291089</td>\n",
       "      <td>1.000000</td>\n",
       "      <td>0.198554</td>\n",
       "    </tr>\n",
       "    <tr>\n",
       "      <td>critic_score</td>\n",
       "      <td>0.011411</td>\n",
       "      <td>0.240755</td>\n",
       "      <td>0.220752</td>\n",
       "      <td>0.152593</td>\n",
       "      <td>0.198554</td>\n",
       "      <td>1.000000</td>\n",
       "    </tr>\n",
       "  </tbody>\n",
       "</table>\n",
       "</div>"
      ],
      "text/plain": [
       "                 year_of_release  na_sales  eu_sales  jp_sales  other_sales  \\\n",
       "year_of_release         1.000000 -0.092500  0.003978 -0.168366     0.037820   \n",
       "na_sales               -0.092500  1.000000  0.765335  0.449594     0.638649   \n",
       "eu_sales                0.003978  0.765335  1.000000  0.435061     0.722792   \n",
       "jp_sales               -0.168366  0.449594  0.435061  1.000000     0.291089   \n",
       "other_sales             0.037820  0.638649  0.722792  0.291089     1.000000   \n",
       "critic_score            0.011411  0.240755  0.220752  0.152593     0.198554   \n",
       "\n",
       "                 critic_score  \n",
       "year_of_release      0.011411  \n",
       "na_sales             0.240755  \n",
       "eu_sales             0.220752  \n",
       "jp_sales             0.152593  \n",
       "other_sales          0.198554  \n",
       "critic_score         1.000000  "
      ]
     },
     "metadata": {},
     "output_type": "display_data"
    },
    {
     "name": "stdout",
     "output_type": "stream",
     "text": [
      "<class 'pandas.core.frame.DataFrame'>\n",
      "Int64Index: 16713 entries, 0 to 16714\n",
      "Data columns (total 11 columns):\n",
      "name               16713 non-null object\n",
      "platform           16713 non-null object\n",
      "year_of_release    16444 non-null float64\n",
      "genre              16713 non-null object\n",
      "na_sales           16713 non-null float64\n",
      "eu_sales           16713 non-null float64\n",
      "jp_sales           16713 non-null float64\n",
      "other_sales        16713 non-null float64\n",
      "critic_score       8137 non-null float64\n",
      "user_score         10014 non-null object\n",
      "rating             9949 non-null object\n",
      "dtypes: float64(6), object(5)\n",
      "memory usage: 1.5+ MB\n"
     ]
    }
   ],
   "source": [
    "display(games_data.corr())\n",
    "games_data = games_data.dropna(axis='index', how='any', subset=['name'])\n",
    "games_data.info()"
   ]
  },
  {
   "cell_type": "markdown",
   "metadata": {},
   "source": [
    "For gaps in the title of the games, deleted the lines, since 2 gaps are only 0.012% of the total amount of data"
   ]
  },
  {
   "cell_type": "code",
   "execution_count": 5,
   "metadata": {},
   "outputs": [
    {
     "data": {
      "text/plain": [
       "E       3990\n",
       "T       2961\n",
       "M       1563\n",
       "E10+    1420\n",
       "EC         8\n",
       "K-A        3\n",
       "RP         3\n",
       "AO         1\n",
       "Name: rating, dtype: int64"
      ]
     },
     "execution_count": 5,
     "metadata": {},
     "output_type": "execute_result"
    }
   ],
   "source": [
    "games_data['rating'].value_counts()"
   ]
  },
  {
   "cell_type": "code",
   "execution_count": 9,
   "metadata": {},
   "outputs": [
    {
     "name": "stdout",
     "output_type": "stream",
     "text": [
      " 6.0     3993\n",
      " 13.0    2961\n",
      " 17.0    1563\n",
      " 10.0    1420\n",
      " 3.0        8\n",
      "-1.0        3\n",
      " 18.0       1\n",
      "Name: age_rating, dtype: int64\n"
     ]
    }
   ],
   "source": [
    "def rating_func(row): # function to categorize by age rating\n",
    "    rat = row['rating']\n",
    "    \n",
    "    if rat ==  'EC':\n",
    "        return 3\n",
    "    if rat == 'E' or rat == 'K-A':\n",
    "        return 6\n",
    "    if rat == 'E10+':\n",
    "        return 10\n",
    "    if rat == 'T':\n",
    "        return 13\n",
    "    if rat == 'M':\n",
    "        return 17\n",
    "    if rat == 'AO':\n",
    "        return 18\n",
    "    if rat == 'unknown' or rat == 'RP':\n",
    "        return -1\n",
    "        \n",
    "games_data['age_rating'] = games_data.apply(rating_func, axis=1)\n",
    "\n",
    "print(games_data['age_rating'].value_counts())"
   ]
  },
  {
   "cell_type": "markdown",
   "metadata": {},
   "source": [
    "Translated the rating for games into age values. (age taken from Wikipedia for the ESRB system)"
   ]
  },
  {
   "cell_type": "code",
   "execution_count": 10,
   "metadata": {},
   "outputs": [
    {
     "name": "stdout",
     "output_type": "stream",
     "text": [
      "count    16713.000000\n",
      "mean         0.533315\n",
      "std          1.548282\n",
      "min          0.000000\n",
      "25%          0.060000\n",
      "50%          0.170000\n",
      "75%          0.470000\n",
      "max         82.540000\n",
      "Name: total_sales, dtype: float64\n",
      "ниже медианы              4422\n",
      "ниже третьего квантиля    4151\n",
      "ниже первого квантиля     3938\n",
      "выше среднего             3809\n",
      "ниже среднего              393\n",
      "Name: sales_category, dtype: int64\n",
      "<class 'pandas.core.frame.DataFrame'>\n",
      "Int64Index: 16713 entries, 0 to 16714\n",
      "Data columns (total 14 columns):\n",
      "name               16713 non-null object\n",
      "platform           16713 non-null object\n",
      "year_of_release    16713 non-null int64\n",
      "genre              16713 non-null object\n",
      "na_sales           16713 non-null float64\n",
      "eu_sales           16713 non-null float64\n",
      "jp_sales           16713 non-null float64\n",
      "other_sales        16713 non-null float64\n",
      "critic_score       16713 non-null float64\n",
      "user_score         16713 non-null float64\n",
      "rating             16713 non-null object\n",
      "age_rating         9949 non-null float64\n",
      "total_sales        16713 non-null float64\n",
      "sales_category     16713 non-null object\n",
      "dtypes: float64(8), int64(1), object(5)\n",
      "memory usage: 1.9+ MB\n",
      "None\n"
     ]
    }
   ],
   "source": [
    "games_data['rating'] = games_data['rating'].fillna('unknown')\n",
    "games_data['year_of_release'] = games_data['year_of_release'].fillna(-1)\n",
    "games_data['year_of_release'] = games_data['year_of_release'].astype('int')\n",
    "\n",
    "games_data['user_score'] = games_data['user_score'].replace('tbd', np.nan)\n",
    "games_data['user_score'] = games_data['user_score'].astype('float')\n",
    "\n",
    "games_data['total_sales'] = games_data['na_sales'] + games_data['eu_sales'] + games_data['jp_sales'] + games_data['other_sales']\n",
    "\n",
    "print(games_data['total_sales'].describe())\n",
    "\n",
    "def sales_func(row): # function to categorize by income\n",
    "    inc = row['total_sales']\n",
    "    \n",
    "    if inc < 0.06:\n",
    "        return 'ниже первого квантиля'\n",
    "    if inc < 0.17:\n",
    "        return 'ниже медианы'\n",
    "    if inc < 0.47:\n",
    "        return 'ниже третьего квантиля'\n",
    "    if inc < 0.53:\n",
    "        return 'ниже среднего'\n",
    "    if inc >= 0.53:\n",
    "        return 'выше среднего'\n",
    "        \n",
    "games_data['sales_category'] = games_data.apply(sales_func, axis=1)\n",
    "print(games_data['sales_category'].value_counts())\n",
    "\n",
    "\n",
    "sales_type_list = ('выше среднего','ниже медианы', 'ниже первого квантиля','ниже среднего','ниже третьего квантиля')\n",
    "\n",
    "for sales in sales_type_list: # gap replacement by column average, data grouped by gaming revenue\n",
    "    games_data.loc[games_data['sales_category'] == sales, 'critic_score'] = \\\n",
    "    games_data.loc[games_data['sales_category'] == sales, 'critic_score'].\\\n",
    "    fillna(games_data.query('sales_category == @sales')['critic_score'].mean())\n",
    "    \n",
    "    games_data.loc[games_data['sales_category'] == sales, 'user_score'] =\\\n",
    "    games_data.loc[games_data['sales_category'] == sales, 'user_score'].\\\n",
    "    fillna(games_data.query('sales_category == @sales')['user_score'].mean())\n",
    "    \n",
    "print(games_data.info())\n",
    "    "
   ]
  },
  {
   "cell_type": "markdown",
   "metadata": {},
   "source": [
    "For the age rating, the missing values were replaced with \"unknown\"\n",
    "\n",
    "For the year of manufacture by -1, since it will not be possible to replace the average\n",
    "\n",
    "Changed the value of tbd (to be determined) to Nan. To replace gaps in ratings from players and critics, I categorized by total revenue from the game, then calculated the average rating by revenue categories and replaced the gaps. Categories were taken from the calculation of revenue quantiles. The average rating was grouped by revenue, as there is little direct relationship between sales and rating.\n",
    "\n",
    "I also replaced the user rating type with a real one, since the rating is a number.\n",
    "\n",
    "For the year of issue, the data type was replaced with an integer\n"
   ]
  },
  {
   "cell_type": "markdown",
   "metadata": {},
   "source": [
    "Since it will not be possible to find out the year of issue, and it will also be incorrect to replace the values with averages or medians, we will remove these gaps, since they make up 1.6% of the total data, which is not a very significant data removal"
   ]
  },
  {
   "cell_type": "markdown",
   "metadata": {},
   "source": [
    "### Exploratory Analysis"
   ]
  },
  {
   "cell_type": "code",
   "execution_count": 11,
   "metadata": {},
   "outputs": [
    {
     "name": "stdout",
     "output_type": "stream",
     "text": [
      "count      37.000000\n",
      "mean      444.432432\n",
      "std       451.604334\n",
      "min         9.000000\n",
      "25%        36.000000\n",
      "50%       338.000000\n",
      "75%       762.000000\n",
      "max      1427.000000\n",
      "Name: name, dtype: float64\n"
     ]
    },
    {
     "data": {
      "image/png": "[encoded data removed]",
      "text/plain": [
       "<Figure size 432x288 with 1 Axes>"
      ]
     },
     "metadata": {
      "needs_background": "light"
     },
     "output_type": "display_data"
    },
    {
     "data": {
      "text/html": [
       "<div>\n",
       "<style scoped>\n",
       "    .dataframe tbody tr th:only-of-type {\n",
       "        vertical-align: middle;\n",
       "    }\n",
       "\n",
       "    .dataframe tbody tr th {\n",
       "        vertical-align: top;\n",
       "    }\n",
       "\n",
       "    .dataframe thead th {\n",
       "        text-align: right;\n",
       "    }\n",
       "</style>\n",
       "<table border=\"1\" class=\"dataframe\">\n",
       "  <thead>\n",
       "    <tr style=\"text-align: right;\">\n",
       "      <th></th>\n",
       "      <th>year_of_release</th>\n",
       "      <th>name</th>\n",
       "    </tr>\n",
       "  </thead>\n",
       "  <tbody>\n",
       "    <tr>\n",
       "      <td>1</td>\n",
       "      <td>1981</td>\n",
       "      <td>46</td>\n",
       "    </tr>\n",
       "    <tr>\n",
       "      <td>11</td>\n",
       "      <td>1991</td>\n",
       "      <td>41</td>\n",
       "    </tr>\n",
       "    <tr>\n",
       "      <td>12</td>\n",
       "      <td>1992</td>\n",
       "      <td>43</td>\n",
       "    </tr>\n",
       "    <tr>\n",
       "      <td>13</td>\n",
       "      <td>1993</td>\n",
       "      <td>60</td>\n",
       "    </tr>\n",
       "    <tr>\n",
       "      <td>14</td>\n",
       "      <td>1994</td>\n",
       "      <td>121</td>\n",
       "    </tr>\n",
       "    <tr>\n",
       "      <td>15</td>\n",
       "      <td>1995</td>\n",
       "      <td>219</td>\n",
       "    </tr>\n",
       "    <tr>\n",
       "      <td>16</td>\n",
       "      <td>1996</td>\n",
       "      <td>263</td>\n",
       "    </tr>\n",
       "    <tr>\n",
       "      <td>17</td>\n",
       "      <td>1997</td>\n",
       "      <td>289</td>\n",
       "    </tr>\n",
       "    <tr>\n",
       "      <td>18</td>\n",
       "      <td>1998</td>\n",
       "      <td>379</td>\n",
       "    </tr>\n",
       "    <tr>\n",
       "      <td>19</td>\n",
       "      <td>1999</td>\n",
       "      <td>338</td>\n",
       "    </tr>\n",
       "    <tr>\n",
       "      <td>20</td>\n",
       "      <td>2000</td>\n",
       "      <td>350</td>\n",
       "    </tr>\n",
       "    <tr>\n",
       "      <td>21</td>\n",
       "      <td>2001</td>\n",
       "      <td>482</td>\n",
       "    </tr>\n",
       "    <tr>\n",
       "      <td>22</td>\n",
       "      <td>2002</td>\n",
       "      <td>829</td>\n",
       "    </tr>\n",
       "    <tr>\n",
       "      <td>23</td>\n",
       "      <td>2003</td>\n",
       "      <td>775</td>\n",
       "    </tr>\n",
       "    <tr>\n",
       "      <td>24</td>\n",
       "      <td>2004</td>\n",
       "      <td>762</td>\n",
       "    </tr>\n",
       "    <tr>\n",
       "      <td>25</td>\n",
       "      <td>2005</td>\n",
       "      <td>939</td>\n",
       "    </tr>\n",
       "    <tr>\n",
       "      <td>26</td>\n",
       "      <td>2006</td>\n",
       "      <td>1006</td>\n",
       "    </tr>\n",
       "    <tr>\n",
       "      <td>27</td>\n",
       "      <td>2007</td>\n",
       "      <td>1197</td>\n",
       "    </tr>\n",
       "    <tr>\n",
       "      <td>28</td>\n",
       "      <td>2008</td>\n",
       "      <td>1427</td>\n",
       "    </tr>\n",
       "    <tr>\n",
       "      <td>29</td>\n",
       "      <td>2009</td>\n",
       "      <td>1426</td>\n",
       "    </tr>\n",
       "    <tr>\n",
       "      <td>30</td>\n",
       "      <td>2010</td>\n",
       "      <td>1255</td>\n",
       "    </tr>\n",
       "    <tr>\n",
       "      <td>31</td>\n",
       "      <td>2011</td>\n",
       "      <td>1136</td>\n",
       "    </tr>\n",
       "    <tr>\n",
       "      <td>32</td>\n",
       "      <td>2012</td>\n",
       "      <td>653</td>\n",
       "    </tr>\n",
       "    <tr>\n",
       "      <td>33</td>\n",
       "      <td>2013</td>\n",
       "      <td>544</td>\n",
       "    </tr>\n",
       "    <tr>\n",
       "      <td>34</td>\n",
       "      <td>2014</td>\n",
       "      <td>581</td>\n",
       "    </tr>\n",
       "    <tr>\n",
       "      <td>35</td>\n",
       "      <td>2015</td>\n",
       "      <td>606</td>\n",
       "    </tr>\n",
       "    <tr>\n",
       "      <td>36</td>\n",
       "      <td>2016</td>\n",
       "      <td>502</td>\n",
       "    </tr>\n",
       "  </tbody>\n",
       "</table>\n",
       "</div>"
      ],
      "text/plain": [
       "    year_of_release  name\n",
       "1              1981    46\n",
       "11             1991    41\n",
       "12             1992    43\n",
       "13             1993    60\n",
       "14             1994   121\n",
       "15             1995   219\n",
       "16             1996   263\n",
       "17             1997   289\n",
       "18             1998   379\n",
       "19             1999   338\n",
       "20             2000   350\n",
       "21             2001   482\n",
       "22             2002   829\n",
       "23             2003   775\n",
       "24             2004   762\n",
       "25             2005   939\n",
       "26             2006  1006\n",
       "27             2007  1197\n",
       "28             2008  1427\n",
       "29             2009  1426\n",
       "30             2010  1255\n",
       "31             2011  1136\n",
       "32             2012   653\n",
       "33             2013   544\n",
       "34             2014   581\n",
       "35             2015   606\n",
       "36             2016   502"
      ]
     },
     "metadata": {},
     "output_type": "display_data"
    }
   ],
   "source": [
    "games_data_year = games_data.query('year_of_release > 0') # selection of data in which the year is indicated\n",
    "sales_by_year = games_data_year.groupby('year_of_release')['name'].count().reset_index()\n",
    "sales_by_year.plot(kind='bar', y='name', x='year_of_release', legend=True)\n",
    "print(sales_by_year['name'].describe())\n",
    "plt.show()\n",
    "sales_by_year = sales_by_year.query('name > 36')\n",
    "display(sales_by_year)"
   ]
  },
  {
   "cell_type": "markdown",
   "metadata": {},
   "source": [
    "Based on the first quintile, we will limit the years with the release of games over 36"
   ]
  },
  {
   "cell_type": "code",
   "execution_count": 12,
   "metadata": {
    "scrolled": false
   },
   "outputs": [
    {
     "name": "stdout",
     "output_type": "stream",
     "text": [
      "['3DS', 'PSP', 'GBA', 'PS4', 'PS', 'DS', 'Wii', 'PS3', 'X360', 'PS2']\n"
     ]
    },
    {
     "data": {
      "image/png": "[encoded data removed]",
      "text/plain": [
       "<Figure size 432x288 with 1 Axes>"
      ]
     },
     "metadata": {
      "needs_background": "light"
     },
     "output_type": "display_data"
    },
    {
     "data": {
      "image/png": "[encoded data removed]",
      "text/plain": [
       "<Figure size 432x288 with 1 Axes>"
      ]
     },
     "metadata": {
      "needs_background": "light"
     },
     "output_type": "display_data"
    },
    {
     "data": {
      "image/png": "[encoded data removed]",
      "text/plain": [
       "<Figure size 432x288 with 1 Axes>"
      ]
     },
     "metadata": {
      "needs_background": "light"
     },
     "output_type": "display_data"
    },
    {
     "data": {
      "image/png": "[encoded data removed]",
      "text/plain": [
       "<Figure size 432x288 with 1 Axes>"
      ]
     },
     "metadata": {
      "needs_background": "light"
     },
     "output_type": "display_data"
    },
    {
     "data": {
      "image/png": "[encoded data removed]",
      "text/plain": [
       "<Figure size 432x288 with 1 Axes>"
      ]
     },
     "metadata": {
      "needs_background": "light"
     },
     "output_type": "display_data"
    },
    {
     "data": {
      "image/png": "[encoded data removed]",
      "text/plain": [
       "<Figure size 432x288 with 1 Axes>"
      ]
     },
     "metadata": {
      "needs_background": "light"
     },
     "output_type": "display_data"
    },
    {
     "data": {
      "image/png": "[encoded data removed]",
      "text/plain": [
       "<Figure size 432x288 with 1 Axes>"
      ]
     },
     "metadata": {
      "needs_background": "light"
     },
     "output_type": "display_data"
    },
    {
     "data": {
      "image/png": "[encoded data removed]",
      "text/plain": [
       "<Figure size 432x288 with 1 Axes>"
      ]
     },
     "metadata": {
      "needs_background": "light"
     },
     "output_type": "display_data"
    },
    {
     "data": {
      "image/png": "[encoded data removed]",
      "text/plain": [
       "<Figure size 432x288 with 1 Axes>"
      ]
     },
     "metadata": {
      "needs_background": "light"
     },
     "output_type": "display_data"
    },
    {
     "data": {
      "image/png": "[encoded data removed]",
      "text/plain": [
       "<Figure size 432x288 with 1 Axes>"
      ]
     },
     "metadata": {
      "needs_background": "light"
     },
     "output_type": "display_data"
    },
    {
     "name": "stdout",
     "output_type": "stream",
     "text": [
      "   platform  total_sales\n",
      "21      3DS       257.81\n",
      "22      PSP       289.53\n",
      "23      GBA       312.88\n",
      "24      PS4       314.14\n",
      "25       PS       727.58\n",
      "26       DS       802.76\n",
      "27      Wii       891.18\n",
      "28      PS3       931.34\n",
      "29     X360       961.24\n",
      "30      PS2      1233.56\n"
     ]
    }
   ],
   "source": [
    "games_data_year = games_data_year.query('year_of_release > 1990 or year_of_release == 1981')\n",
    "#print(games_data_year['year_of_release'].value_counts().reset_index())\n",
    "\n",
    "platform_sales = games_data_year.groupby(['platform'])['total_sales'].sum().sort_values().reset_index().tail(10)\n",
    "platform_sales_by_year = games_data_year.groupby(['platform','year_of_release'])['total_sales'].sum().sort_values().reset_index()\n",
    "top_10_list = list(platform_sales.loc[:,'platform'])\n",
    "# data grouping, highlighting the top 10 sales platforms\n",
    "print(top_10_list)\n",
    "for pltfrm in top_10_list:\n",
    "    platform_top_10_by_year = platform_sales_by_year[platform_sales_by_year['platform'] == pltfrm].sort_values(by='year_of_release')\n",
    "    platform_top_10_by_year.plot(kind='bar', y='total_sales', x='year_of_release', label=pltfrm, legend=True) \n",
    "    plt.show()\n",
    "# building histograms for platforms (years from sales)\n",
    "print(platform_sales)\n"
   ]
  },
  {
   "cell_type": "markdown",
   "metadata": {},
   "source": [
    "Based on the constructed graphs, it can be seen that, on average, platforms stay on the market for 7 years, therefore, we can assume that every 7 years there is a change in platform generations and it is necessary to consider the last 7 years, for the forecast for the next year"
   ]
  },
  {
   "cell_type": "code",
   "execution_count": 13,
   "metadata": {},
   "outputs": [
    {
     "name": "stdout",
     "output_type": "stream",
     "text": [
      "<class 'pandas.core.frame.DataFrame'>\n",
      "Int64Index: 5277 entries, 14 to 16714\n",
      "Data columns (total 14 columns):\n",
      "name               5277 non-null object\n",
      "platform           5277 non-null object\n",
      "year_of_release    5277 non-null int64\n",
      "genre              5277 non-null object\n",
      "na_sales           5277 non-null float64\n",
      "eu_sales           5277 non-null float64\n",
      "jp_sales           5277 non-null float64\n",
      "other_sales        5277 non-null float64\n",
      "critic_score       5277 non-null float64\n",
      "user_score         5277 non-null float64\n",
      "rating             5277 non-null object\n",
      "age_rating         3113 non-null float64\n",
      "total_sales        5277 non-null float64\n",
      "sales_category     5277 non-null object\n",
      "dtypes: float64(8), int64(1), object(5)\n",
      "memory usage: 618.4+ KB\n"
     ]
    }
   ],
   "source": [
    "games_data_actual = games_data.query('year_of_release >= 2010') # selection of the last seven years\n",
    "games_data_actual.info()"
   ]
  },
  {
   "cell_type": "code",
   "execution_count": 14,
   "metadata": {
    "scrolled": false
   },
   "outputs": [
    {
     "name": "stdout",
     "output_type": "stream",
     "text": [
      "['PSP', 'WiiU', 'PC', 'DS', 'XOne', 'Wii', '3DS', 'PS4', 'X360', 'PS3']\n"
     ]
    },
    {
     "data": {
      "image/png": "[encoded data removed]",
      "text/plain": [
       "<Figure size 432x288 with 1 Axes>"
      ]
     },
     "metadata": {
      "needs_background": "light"
     },
     "output_type": "display_data"
    },
    {
     "data": {
      "image/png": "[encoded data removed]",
      "text/plain": [
       "<Figure size 432x288 with 1 Axes>"
      ]
     },
     "metadata": {
      "needs_background": "light"
     },
     "output_type": "display_data"
    },
    {
     "data": {
      "image/png": "[encoded data removed]",
      "text/plain": [
       "<Figure size 432x288 with 1 Axes>"
      ]
     },
     "metadata": {
      "needs_background": "light"
     },
     "output_type": "display_data"
    },
    {
     "data": {
      "image/png": "[encoded data removed]",
      "text/plain": [
       "<Figure size 432x288 with 1 Axes>"
      ]
     },
     "metadata": {
      "needs_background": "light"
     },
     "output_type": "display_data"
    },
    {
     "data": {
      "image/png": "[encoded data removed]",
      "text/plain": [
       "<Figure size 432x288 with 1 Axes>"
      ]
     },
     "metadata": {
      "needs_background": "light"
     },
     "output_type": "display_data"
    },
    {
     "data": {
      "image/png": "[encoded data removed]",
      "text/plain": [
       "<Figure size 432x288 with 1 Axes>"
      ]
     },
     "metadata": {
      "needs_background": "light"
     },
     "output_type": "display_data"
    },
    {
     "data": {
      "image/png": "[encoded data removed]",
      "text/plain": [
       "<Figure size 432x288 with 1 Axes>"
      ]
     },
     "metadata": {
      "needs_background": "light"
     },
     "output_type": "display_data"
    },
    {
     "data": {
      "image/png": "[encoded data removed]",
      "text/plain": [
       "<Figure size 432x288 with 1 Axes>"
      ]
     },
     "metadata": {
      "needs_background": "light"
     },
     "output_type": "display_data"
    },
    {
     "data": {
      "image/png": "[encoded data removed]",
      "text/plain": [
       "<Figure size 432x288 with 1 Axes>"
      ]
     },
     "metadata": {
      "needs_background": "light"
     },
     "output_type": "display_data"
    },
    {
     "data": {
      "image/png": "[encoded data removed]",
      "text/plain": [
       "<Figure size 432x288 with 1 Axes>"
      ]
     },
     "metadata": {
      "needs_background": "light"
     },
     "output_type": "display_data"
    }
   ],
   "source": [
    "games_data_actual_sales = games_data_actual.groupby(['platform'])['total_sales']\\\n",
    "    .sum().sort_values().reset_index().tail(10)\n",
    "games_sales_by_year = games_data_actual.groupby(['platform','year_of_release'])['total_sales'].sum().sort_values().reset_index()\n",
    "top_10_list_new = list(games_data_actual_sales.loc[:,'platform'])\n",
    "print(top_10_list_new)\n",
    "for platform_new in top_10_list_new:\n",
    "    platform_top_10_new = games_sales_by_year[games_sales_by_year['platform'] == platform_new].sort_values(by='year_of_release')\n",
    "    platform_top_10_new.plot(kind='bar', y='total_sales', x='year_of_release', label=platform_new, legend=True) \n",
    "    plt.show()\n",
    "# viewing dependencies for platforms, but already with a limitation by years\n"
   ]
  },
  {
   "cell_type": "markdown",
   "metadata": {},
   "source": [
    "\n",
    "The 10 platforms have shown good earnings performance over the past 7 years, but only PS4 and XOne have maintained growth over the past two years, given that 2016 data is incomplete. Let's single out these 2 platforms"
   ]
  },
  {
   "cell_type": "code",
   "execution_count": 12,
   "metadata": {
    "scrolled": false
   },
   "outputs": [
    {
     "data": {
      "image/png": "[encoded data removed]",
      "text/plain": [
       "<Figure size 720x576 with 1 Axes>"
      ]
     },
     "metadata": {
      "needs_background": "light"
     },
     "output_type": "display_data"
    },
    {
     "name": "stdout",
     "output_type": "stream",
     "text": [
      "count    4196.000000\n",
      "mean        0.193003\n",
      "std         0.219301\n",
      "min         0.010000\n",
      "25%         0.040000\n",
      "50%         0.110000\n",
      "75%         0.260000\n",
      "max         1.000000\n",
      "Name: total_sales, dtype: float64\n"
     ]
    },
    {
     "data": {
      "image/png": "[encoded data removed]",
      "text/plain": [
       "<Figure size 720x576 with 1 Axes>"
      ]
     },
     "metadata": {
      "needs_background": "light"
     },
     "output_type": "display_data"
    },
    {
     "name": "stdout",
     "output_type": "stream",
     "text": [
      "count    338.000000\n",
      "mean       0.306213\n",
      "std        0.384944\n",
      "min        0.010000\n",
      "25%        0.050000\n",
      "50%        0.140000\n",
      "75%        0.390000\n",
      "max        1.730000\n",
      "Name: total_sales, dtype: float64\n"
     ]
    },
    {
     "data": {
      "image/png": "[encoded data removed]",
      "text/plain": [
       "<Figure size 720x576 with 1 Axes>"
      ]
     },
     "metadata": {
      "needs_background": "light"
     },
     "output_type": "display_data"
    },
    {
     "name": "stdout",
     "output_type": "stream",
     "text": [
      "count    220.000000\n",
      "mean       0.343227\n",
      "std        0.403082\n",
      "min        0.010000\n",
      "25%        0.050000\n",
      "50%        0.175000\n",
      "75%        0.480000\n",
      "max        1.570000\n",
      "Name: total_sales, dtype: float64\n"
     ]
    }
   ],
   "source": [
    "games_others_platform = games_data_actual.query('platform != \"PS4\" & platform != \"XOne\" & total_sales < 1')\n",
    "\n",
    "fig0, ax0 = plt.subplots(figsize=(10, 8))\n",
    "ax0.set_title('Others')\n",
    "ax0.boxplot(games_others_platform['total_sales'])\n",
    "plt.show()\n",
    "print(games_others_platform['total_sales'].describe())\n",
    "# platform sales \"mustache\"\n",
    "games_top_PS4_corrected = games_data_actual.query('platform == \"PS4\" & total_sales < 1.735')\n",
    "\n",
    "fig1, ax1 = plt.subplots(figsize=(10, 8))\n",
    "ax1.set_title('PS4')\n",
    "ax1.boxplot(games_top_PS4_corrected['total_sales'])\n",
    "plt.show()\n",
    "print(games_top_PS4_corrected['total_sales'].describe())\n",
    "\n",
    "games_top_XOne_corrected = games_data_actual.query('platform == \"XOne\" & total_sales < 1.6225')\n",
    "\n",
    "fig2, ax2 = plt.subplots(figsize=(10, 8))\n",
    "ax2.set_title('XOne')\n",
    "ax2.boxplot(games_top_XOne_corrected['total_sales'])\n",
    "plt.show()\n",
    "print(games_top_XOne_corrected['total_sales'].describe())"
   ]
  },
  {
   "cell_type": "markdown",
   "metadata": {},
   "source": [
    "- The difference between sales by games max and min on all platforms is more than 21 million.\n",
    "- For PS4 platform : 14M difference\n",
    "- For XOne platform: the difference is less than 7 million.\n",
    "\n",
    "Limit sales values from above based on quantiles.\n",
    "\n",
    "- For all platforms : average = 0.19 million\n",
    "- For PS4 platform : Average = 0.31 million\n",
    "- For XOne platform : average = 0.34 million\n",
    "\n",
    "On average, it is more profitable to release a game on the XOne platform than on other platforms. But the PS4 platform has seen a larger number of games that have sold in large numbers."
   ]
  },
  {
   "cell_type": "code",
   "execution_count": 16,
   "metadata": {
    "scrolled": false
   },
   "outputs": [
    {
     "data": {
      "image/png": "[encoded data removed]",
      "text/plain": [
       "<Figure size 720x576 with 1 Axes>"
      ]
     },
     "metadata": {
      "needs_background": "light"
     },
     "output_type": "display_data"
    },
    {
     "name": "stdout",
     "output_type": "stream",
     "text": [
      "count    4638.000000\n",
      "mean        6.831688\n",
      "std         1.040934\n",
      "min         0.200000\n",
      "25%         6.867327\n",
      "50%         6.887341\n",
      "75%         7.175000\n",
      "max         9.300000\n",
      "Name: user_score, dtype: float64\n"
     ]
    },
    {
     "data": {
      "image/png": "[encoded data removed]",
      "text/plain": [
       "<Figure size 720x576 with 1 Axes>"
      ]
     },
     "metadata": {
      "needs_background": "light"
     },
     "output_type": "display_data"
    },
    {
     "name": "stdout",
     "output_type": "stream",
     "text": [
      "count    4638.000000\n",
      "mean       67.452311\n",
      "std         9.401752\n",
      "min        13.000000\n",
      "25%        63.974887\n",
      "50%        64.085072\n",
      "75%        73.000000\n",
      "max        97.000000\n",
      "Name: critic_score, dtype: float64\n"
     ]
    },
    {
     "data": {
      "text/html": [
       "<div>\n",
       "<style scoped>\n",
       "    .dataframe tbody tr th:only-of-type {\n",
       "        vertical-align: middle;\n",
       "    }\n",
       "\n",
       "    .dataframe tbody tr th {\n",
       "        vertical-align: top;\n",
       "    }\n",
       "\n",
       "    .dataframe thead th {\n",
       "        text-align: right;\n",
       "    }\n",
       "</style>\n",
       "<table border=\"1\" class=\"dataframe\">\n",
       "  <thead>\n",
       "    <tr style=\"text-align: right;\">\n",
       "      <th></th>\n",
       "      <th>year_of_release</th>\n",
       "      <th>na_sales</th>\n",
       "      <th>eu_sales</th>\n",
       "      <th>jp_sales</th>\n",
       "      <th>other_sales</th>\n",
       "      <th>critic_score</th>\n",
       "      <th>user_score</th>\n",
       "      <th>age_rating</th>\n",
       "      <th>total_sales</th>\n",
       "    </tr>\n",
       "  </thead>\n",
       "  <tbody>\n",
       "    <tr>\n",
       "      <td>year_of_release</td>\n",
       "      <td>1.000000</td>\n",
       "      <td>-0.083048</td>\n",
       "      <td>-0.042653</td>\n",
       "      <td>0.043241</td>\n",
       "      <td>-0.061941</td>\n",
       "      <td>0.052999</td>\n",
       "      <td>-0.054169</td>\n",
       "      <td>0.126361</td>\n",
       "      <td>-0.055739</td>\n",
       "    </tr>\n",
       "    <tr>\n",
       "      <td>na_sales</td>\n",
       "      <td>-0.083048</td>\n",
       "      <td>1.000000</td>\n",
       "      <td>0.798257</td>\n",
       "      <td>0.265763</td>\n",
       "      <td>0.789515</td>\n",
       "      <td>0.332991</td>\n",
       "      <td>0.036463</td>\n",
       "      <td>0.079354</td>\n",
       "      <td>0.933406</td>\n",
       "    </tr>\n",
       "    <tr>\n",
       "      <td>eu_sales</td>\n",
       "      <td>-0.042653</td>\n",
       "      <td>0.798257</td>\n",
       "      <td>1.000000</td>\n",
       "      <td>0.315316</td>\n",
       "      <td>0.950024</td>\n",
       "      <td>0.363408</td>\n",
       "      <td>0.028727</td>\n",
       "      <td>0.095777</td>\n",
       "      <td>0.929991</td>\n",
       "    </tr>\n",
       "    <tr>\n",
       "      <td>jp_sales</td>\n",
       "      <td>0.043241</td>\n",
       "      <td>0.265763</td>\n",
       "      <td>0.315316</td>\n",
       "      <td>1.000000</td>\n",
       "      <td>0.241259</td>\n",
       "      <td>0.151247</td>\n",
       "      <td>0.129846</td>\n",
       "      <td>-0.011776</td>\n",
       "      <td>0.473790</td>\n",
       "    </tr>\n",
       "    <tr>\n",
       "      <td>other_sales</td>\n",
       "      <td>-0.061941</td>\n",
       "      <td>0.789515</td>\n",
       "      <td>0.950024</td>\n",
       "      <td>0.241259</td>\n",
       "      <td>1.000000</td>\n",
       "      <td>0.352011</td>\n",
       "      <td>0.035440</td>\n",
       "      <td>0.108417</td>\n",
       "      <td>0.898967</td>\n",
       "    </tr>\n",
       "    <tr>\n",
       "      <td>critic_score</td>\n",
       "      <td>0.052999</td>\n",
       "      <td>0.332991</td>\n",
       "      <td>0.363408</td>\n",
       "      <td>0.151247</td>\n",
       "      <td>0.352011</td>\n",
       "      <td>1.000000</td>\n",
       "      <td>0.429052</td>\n",
       "      <td>0.090174</td>\n",
       "      <td>0.367911</td>\n",
       "    </tr>\n",
       "    <tr>\n",
       "      <td>user_score</td>\n",
       "      <td>-0.054169</td>\n",
       "      <td>0.036463</td>\n",
       "      <td>0.028727</td>\n",
       "      <td>0.129846</td>\n",
       "      <td>0.035440</td>\n",
       "      <td>0.429052</td>\n",
       "      <td>1.000000</td>\n",
       "      <td>0.063873</td>\n",
       "      <td>0.058703</td>\n",
       "    </tr>\n",
       "    <tr>\n",
       "      <td>age_rating</td>\n",
       "      <td>0.126361</td>\n",
       "      <td>0.079354</td>\n",
       "      <td>0.095777</td>\n",
       "      <td>-0.011776</td>\n",
       "      <td>0.108417</td>\n",
       "      <td>0.090174</td>\n",
       "      <td>0.063873</td>\n",
       "      <td>1.000000</td>\n",
       "      <td>0.087815</td>\n",
       "    </tr>\n",
       "    <tr>\n",
       "      <td>total_sales</td>\n",
       "      <td>-0.055739</td>\n",
       "      <td>0.933406</td>\n",
       "      <td>0.929991</td>\n",
       "      <td>0.473790</td>\n",
       "      <td>0.898967</td>\n",
       "      <td>0.367911</td>\n",
       "      <td>0.058703</td>\n",
       "      <td>0.087815</td>\n",
       "      <td>1.000000</td>\n",
       "    </tr>\n",
       "  </tbody>\n",
       "</table>\n",
       "</div>"
      ],
      "text/plain": [
       "                 year_of_release  na_sales  eu_sales  jp_sales  other_sales  \\\n",
       "year_of_release         1.000000 -0.083048 -0.042653  0.043241    -0.061941   \n",
       "na_sales               -0.083048  1.000000  0.798257  0.265763     0.789515   \n",
       "eu_sales               -0.042653  0.798257  1.000000  0.315316     0.950024   \n",
       "jp_sales                0.043241  0.265763  0.315316  1.000000     0.241259   \n",
       "other_sales            -0.061941  0.789515  0.950024  0.241259     1.000000   \n",
       "critic_score            0.052999  0.332991  0.363408  0.151247     0.352011   \n",
       "user_score             -0.054169  0.036463  0.028727  0.129846     0.035440   \n",
       "age_rating              0.126361  0.079354  0.095777 -0.011776     0.108417   \n",
       "total_sales            -0.055739  0.933406  0.929991  0.473790     0.898967   \n",
       "\n",
       "                 critic_score  user_score  age_rating  total_sales  \n",
       "year_of_release      0.052999   -0.054169    0.126361    -0.055739  \n",
       "na_sales             0.332991    0.036463    0.079354     0.933406  \n",
       "eu_sales             0.363408    0.028727    0.095777     0.929991  \n",
       "jp_sales             0.151247    0.129846   -0.011776     0.473790  \n",
       "other_sales          0.352011    0.035440    0.108417     0.898967  \n",
       "critic_score         1.000000    0.429052    0.090174     0.367911  \n",
       "user_score           0.429052    1.000000    0.063873     0.058703  \n",
       "age_rating           0.090174    0.063873    1.000000     0.087815  \n",
       "total_sales          0.367911    0.058703    0.087815     1.000000  "
      ]
     },
     "metadata": {},
     "output_type": "display_data"
    },
    {
     "data": {
      "image/png": "[encoded data removed]",
      "text/plain": [
       "<Figure size 720x576 with 1 Axes>"
      ]
     },
     "metadata": {
      "needs_background": "light"
     },
     "output_type": "display_data"
    },
    {
     "name": "stdout",
     "output_type": "stream",
     "text": [
      "count    392.000000\n",
      "mean       6.846546\n",
      "std        1.195696\n",
      "min        1.500000\n",
      "25%        6.600000\n",
      "50%        6.893670\n",
      "75%        7.500000\n",
      "max        9.200000\n",
      "Name: user_score, dtype: float64\n"
     ]
    },
    {
     "data": {
      "image/png": "[encoded data removed]",
      "text/plain": [
       "<Figure size 720x576 with 1 Axes>"
      ]
     },
     "metadata": {
      "needs_background": "light"
     },
     "output_type": "display_data"
    },
    {
     "name": "stdout",
     "output_type": "stream",
     "text": [
      "count    392.000000\n",
      "mean      70.378225\n",
      "std       10.669406\n",
      "min       19.000000\n",
      "25%       64.085072\n",
      "50%       69.000000\n",
      "75%       77.000000\n",
      "max       97.000000\n",
      "Name: critic_score, dtype: float64\n"
     ]
    },
    {
     "data": {
      "text/html": [
       "<div>\n",
       "<style scoped>\n",
       "    .dataframe tbody tr th:only-of-type {\n",
       "        vertical-align: middle;\n",
       "    }\n",
       "\n",
       "    .dataframe tbody tr th {\n",
       "        vertical-align: top;\n",
       "    }\n",
       "\n",
       "    .dataframe thead th {\n",
       "        text-align: right;\n",
       "    }\n",
       "</style>\n",
       "<table border=\"1\" class=\"dataframe\">\n",
       "  <thead>\n",
       "    <tr style=\"text-align: right;\">\n",
       "      <th></th>\n",
       "      <th>year_of_release</th>\n",
       "      <th>na_sales</th>\n",
       "      <th>eu_sales</th>\n",
       "      <th>jp_sales</th>\n",
       "      <th>other_sales</th>\n",
       "      <th>critic_score</th>\n",
       "      <th>user_score</th>\n",
       "      <th>age_rating</th>\n",
       "      <th>total_sales</th>\n",
       "    </tr>\n",
       "  </thead>\n",
       "  <tbody>\n",
       "    <tr>\n",
       "      <td>year_of_release</td>\n",
       "      <td>1.000000</td>\n",
       "      <td>-0.248961</td>\n",
       "      <td>-0.208306</td>\n",
       "      <td>-0.060993</td>\n",
       "      <td>-0.234796</td>\n",
       "      <td>-0.100238</td>\n",
       "      <td>0.118595</td>\n",
       "      <td>0.065413</td>\n",
       "      <td>-0.235032</td>\n",
       "    </tr>\n",
       "    <tr>\n",
       "      <td>na_sales</td>\n",
       "      <td>-0.248961</td>\n",
       "      <td>1.000000</td>\n",
       "      <td>0.785362</td>\n",
       "      <td>0.472981</td>\n",
       "      <td>0.944259</td>\n",
       "      <td>0.410657</td>\n",
       "      <td>0.001135</td>\n",
       "      <td>0.160032</td>\n",
       "      <td>0.928160</td>\n",
       "    </tr>\n",
       "    <tr>\n",
       "      <td>eu_sales</td>\n",
       "      <td>-0.208306</td>\n",
       "      <td>0.785362</td>\n",
       "      <td>1.000000</td>\n",
       "      <td>0.464563</td>\n",
       "      <td>0.944698</td>\n",
       "      <td>0.380469</td>\n",
       "      <td>-0.031655</td>\n",
       "      <td>0.112412</td>\n",
       "      <td>0.958157</td>\n",
       "    </tr>\n",
       "    <tr>\n",
       "      <td>jp_sales</td>\n",
       "      <td>-0.060993</td>\n",
       "      <td>0.472981</td>\n",
       "      <td>0.464563</td>\n",
       "      <td>1.000000</td>\n",
       "      <td>0.496467</td>\n",
       "      <td>0.262350</td>\n",
       "      <td>0.157302</td>\n",
       "      <td>0.291441</td>\n",
       "      <td>0.527129</td>\n",
       "    </tr>\n",
       "    <tr>\n",
       "      <td>other_sales</td>\n",
       "      <td>-0.234796</td>\n",
       "      <td>0.944259</td>\n",
       "      <td>0.944698</td>\n",
       "      <td>0.496467</td>\n",
       "      <td>1.000000</td>\n",
       "      <td>0.417982</td>\n",
       "      <td>-0.013332</td>\n",
       "      <td>0.144260</td>\n",
       "      <td>0.998051</td>\n",
       "    </tr>\n",
       "    <tr>\n",
       "      <td>critic_score</td>\n",
       "      <td>-0.100238</td>\n",
       "      <td>0.410657</td>\n",
       "      <td>0.380469</td>\n",
       "      <td>0.262350</td>\n",
       "      <td>0.417982</td>\n",
       "      <td>1.000000</td>\n",
       "      <td>0.514702</td>\n",
       "      <td>0.099224</td>\n",
       "      <td>0.418061</td>\n",
       "    </tr>\n",
       "    <tr>\n",
       "      <td>user_score</td>\n",
       "      <td>0.118595</td>\n",
       "      <td>0.001135</td>\n",
       "      <td>-0.031655</td>\n",
       "      <td>0.157302</td>\n",
       "      <td>-0.013332</td>\n",
       "      <td>0.514702</td>\n",
       "      <td>1.000000</td>\n",
       "      <td>0.204662</td>\n",
       "      <td>-0.010893</td>\n",
       "    </tr>\n",
       "    <tr>\n",
       "      <td>age_rating</td>\n",
       "      <td>0.065413</td>\n",
       "      <td>0.160032</td>\n",
       "      <td>0.112412</td>\n",
       "      <td>0.291441</td>\n",
       "      <td>0.144260</td>\n",
       "      <td>0.099224</td>\n",
       "      <td>0.204662</td>\n",
       "      <td>1.000000</td>\n",
       "      <td>0.150335</td>\n",
       "    </tr>\n",
       "    <tr>\n",
       "      <td>total_sales</td>\n",
       "      <td>-0.235032</td>\n",
       "      <td>0.928160</td>\n",
       "      <td>0.958157</td>\n",
       "      <td>0.527129</td>\n",
       "      <td>0.998051</td>\n",
       "      <td>0.418061</td>\n",
       "      <td>-0.010893</td>\n",
       "      <td>0.150335</td>\n",
       "      <td>1.000000</td>\n",
       "    </tr>\n",
       "  </tbody>\n",
       "</table>\n",
       "</div>"
      ],
      "text/plain": [
       "                 year_of_release  na_sales  eu_sales  jp_sales  other_sales  \\\n",
       "year_of_release         1.000000 -0.248961 -0.208306 -0.060993    -0.234796   \n",
       "na_sales               -0.248961  1.000000  0.785362  0.472981     0.944259   \n",
       "eu_sales               -0.208306  0.785362  1.000000  0.464563     0.944698   \n",
       "jp_sales               -0.060993  0.472981  0.464563  1.000000     0.496467   \n",
       "other_sales            -0.234796  0.944259  0.944698  0.496467     1.000000   \n",
       "critic_score           -0.100238  0.410657  0.380469  0.262350     0.417982   \n",
       "user_score              0.118595  0.001135 -0.031655  0.157302    -0.013332   \n",
       "age_rating              0.065413  0.160032  0.112412  0.291441     0.144260   \n",
       "total_sales            -0.235032  0.928160  0.958157  0.527129     0.998051   \n",
       "\n",
       "                 critic_score  user_score  age_rating  total_sales  \n",
       "year_of_release     -0.100238    0.118595    0.065413    -0.235032  \n",
       "na_sales             0.410657    0.001135    0.160032     0.928160  \n",
       "eu_sales             0.380469   -0.031655    0.112412     0.958157  \n",
       "jp_sales             0.262350    0.157302    0.291441     0.527129  \n",
       "other_sales          0.417982   -0.013332    0.144260     0.998051  \n",
       "critic_score         1.000000    0.514702    0.099224     0.418061  \n",
       "user_score           0.514702    1.000000    0.204662    -0.010893  \n",
       "age_rating           0.099224    0.204662    1.000000     0.150335  \n",
       "total_sales          0.418061   -0.010893    0.150335     1.000000  "
      ]
     },
     "metadata": {},
     "output_type": "display_data"
    },
    {
     "data": {
      "image/png": "[encoded data removed]",
      "text/plain": [
       "<Figure size 720x576 with 1 Axes>"
      ]
     },
     "metadata": {
      "needs_background": "light"
     },
     "output_type": "display_data"
    },
    {
     "name": "stdout",
     "output_type": "stream",
     "text": [
      "count    247.000000\n",
      "mean       6.648620\n",
      "std        1.207684\n",
      "min        1.600000\n",
      "25%        6.100000\n",
      "50%        6.887341\n",
      "75%        7.300000\n",
      "max        9.200000\n",
      "Name: user_score, dtype: float64\n"
     ]
    },
    {
     "data": {
      "image/png": "[encoded data removed]",
      "text/plain": [
       "<Figure size 720x576 with 1 Axes>"
      ]
     },
     "metadata": {
      "needs_background": "light"
     },
     "output_type": "display_data"
    },
    {
     "name": "stdout",
     "output_type": "stream",
     "text": [
      "count    247.000000\n",
      "mean      71.203261\n",
      "std       11.415995\n",
      "min       20.000000\n",
      "25%       64.085072\n",
      "50%       71.000000\n",
      "75%       79.000000\n",
      "max       97.000000\n",
      "Name: critic_score, dtype: float64\n"
     ]
    },
    {
     "data": {
      "text/html": [
       "<div>\n",
       "<style scoped>\n",
       "    .dataframe tbody tr th:only-of-type {\n",
       "        vertical-align: middle;\n",
       "    }\n",
       "\n",
       "    .dataframe tbody tr th {\n",
       "        vertical-align: top;\n",
       "    }\n",
       "\n",
       "    .dataframe thead th {\n",
       "        text-align: right;\n",
       "    }\n",
       "</style>\n",
       "<table border=\"1\" class=\"dataframe\">\n",
       "  <thead>\n",
       "    <tr style=\"text-align: right;\">\n",
       "      <th></th>\n",
       "      <th>year_of_release</th>\n",
       "      <th>na_sales</th>\n",
       "      <th>eu_sales</th>\n",
       "      <th>jp_sales</th>\n",
       "      <th>other_sales</th>\n",
       "      <th>critic_score</th>\n",
       "      <th>user_score</th>\n",
       "      <th>age_rating</th>\n",
       "      <th>total_sales</th>\n",
       "    </tr>\n",
       "  </thead>\n",
       "  <tbody>\n",
       "    <tr>\n",
       "      <td>year_of_release</td>\n",
       "      <td>1.000000</td>\n",
       "      <td>-0.242667</td>\n",
       "      <td>-0.194925</td>\n",
       "      <td>-0.127050</td>\n",
       "      <td>-0.243414</td>\n",
       "      <td>0.006890</td>\n",
       "      <td>0.067157</td>\n",
       "      <td>0.060112</td>\n",
       "      <td>-0.239183</td>\n",
       "    </tr>\n",
       "    <tr>\n",
       "      <td>na_sales</td>\n",
       "      <td>-0.242667</td>\n",
       "      <td>1.000000</td>\n",
       "      <td>0.765367</td>\n",
       "      <td>0.425725</td>\n",
       "      <td>0.988088</td>\n",
       "      <td>0.418594</td>\n",
       "      <td>-0.058906</td>\n",
       "      <td>0.212703</td>\n",
       "      <td>0.970433</td>\n",
       "    </tr>\n",
       "    <tr>\n",
       "      <td>eu_sales</td>\n",
       "      <td>-0.194925</td>\n",
       "      <td>0.765367</td>\n",
       "      <td>1.000000</td>\n",
       "      <td>0.421071</td>\n",
       "      <td>0.852986</td>\n",
       "      <td>0.421798</td>\n",
       "      <td>-0.049079</td>\n",
       "      <td>0.130413</td>\n",
       "      <td>0.898045</td>\n",
       "    </tr>\n",
       "    <tr>\n",
       "      <td>jp_sales</td>\n",
       "      <td>-0.127050</td>\n",
       "      <td>0.425725</td>\n",
       "      <td>0.421071</td>\n",
       "      <td>1.000000</td>\n",
       "      <td>0.441717</td>\n",
       "      <td>0.223219</td>\n",
       "      <td>0.058876</td>\n",
       "      <td>0.130022</td>\n",
       "      <td>0.452701</td>\n",
       "    </tr>\n",
       "    <tr>\n",
       "      <td>other_sales</td>\n",
       "      <td>-0.243414</td>\n",
       "      <td>0.988088</td>\n",
       "      <td>0.852986</td>\n",
       "      <td>0.441717</td>\n",
       "      <td>1.000000</td>\n",
       "      <td>0.439043</td>\n",
       "      <td>-0.058340</td>\n",
       "      <td>0.206565</td>\n",
       "      <td>0.995238</td>\n",
       "    </tr>\n",
       "    <tr>\n",
       "      <td>critic_score</td>\n",
       "      <td>0.006890</td>\n",
       "      <td>0.418594</td>\n",
       "      <td>0.421798</td>\n",
       "      <td>0.223219</td>\n",
       "      <td>0.439043</td>\n",
       "      <td>1.000000</td>\n",
       "      <td>0.378171</td>\n",
       "      <td>0.118530</td>\n",
       "      <td>0.444511</td>\n",
       "    </tr>\n",
       "    <tr>\n",
       "      <td>user_score</td>\n",
       "      <td>0.067157</td>\n",
       "      <td>-0.058906</td>\n",
       "      <td>-0.049079</td>\n",
       "      <td>0.058876</td>\n",
       "      <td>-0.058340</td>\n",
       "      <td>0.378171</td>\n",
       "      <td>1.000000</td>\n",
       "      <td>0.144302</td>\n",
       "      <td>-0.058168</td>\n",
       "    </tr>\n",
       "    <tr>\n",
       "      <td>age_rating</td>\n",
       "      <td>0.060112</td>\n",
       "      <td>0.212703</td>\n",
       "      <td>0.130413</td>\n",
       "      <td>0.130022</td>\n",
       "      <td>0.206565</td>\n",
       "      <td>0.118530</td>\n",
       "      <td>0.144302</td>\n",
       "      <td>1.000000</td>\n",
       "      <td>0.197373</td>\n",
       "    </tr>\n",
       "    <tr>\n",
       "      <td>total_sales</td>\n",
       "      <td>-0.239183</td>\n",
       "      <td>0.970433</td>\n",
       "      <td>0.898045</td>\n",
       "      <td>0.452701</td>\n",
       "      <td>0.995238</td>\n",
       "      <td>0.444511</td>\n",
       "      <td>-0.058168</td>\n",
       "      <td>0.197373</td>\n",
       "      <td>1.000000</td>\n",
       "    </tr>\n",
       "  </tbody>\n",
       "</table>\n",
       "</div>"
      ],
      "text/plain": [
       "                 year_of_release  na_sales  eu_sales  jp_sales  other_sales  \\\n",
       "year_of_release         1.000000 -0.242667 -0.194925 -0.127050    -0.243414   \n",
       "na_sales               -0.242667  1.000000  0.765367  0.425725     0.988088   \n",
       "eu_sales               -0.194925  0.765367  1.000000  0.421071     0.852986   \n",
       "jp_sales               -0.127050  0.425725  0.421071  1.000000     0.441717   \n",
       "other_sales            -0.243414  0.988088  0.852986  0.441717     1.000000   \n",
       "critic_score            0.006890  0.418594  0.421798  0.223219     0.439043   \n",
       "user_score              0.067157 -0.058906 -0.049079  0.058876    -0.058340   \n",
       "age_rating              0.060112  0.212703  0.130413  0.130022     0.206565   \n",
       "total_sales            -0.239183  0.970433  0.898045  0.452701     0.995238   \n",
       "\n",
       "                 critic_score  user_score  age_rating  total_sales  \n",
       "year_of_release      0.006890    0.067157    0.060112    -0.239183  \n",
       "na_sales             0.418594   -0.058906    0.212703     0.970433  \n",
       "eu_sales             0.421798   -0.049079    0.130413     0.898045  \n",
       "jp_sales             0.223219    0.058876    0.130022     0.452701  \n",
       "other_sales          0.439043   -0.058340    0.206565     0.995238  \n",
       "critic_score         1.000000    0.378171    0.118530     0.444511  \n",
       "user_score           0.378171    1.000000    0.144302    -0.058168  \n",
       "age_rating           0.118530    0.144302    1.000000     0.197373  \n",
       "total_sales          0.444511   -0.058168    0.197373     1.000000  "
      ]
     },
     "metadata": {},
     "output_type": "display_data"
    }
   ],
   "source": [
    "games_top_PS4 = games_data_actual.query('platform == \"PS4\"')\n",
    "games_top_XOne = games_data_actual.query('platform == \"XOne\"')\n",
    "games_others = games_data_actual.query('platform != \"PS4\" & platform != \"XOne\"')\n",
    "# allocation of data by platform\n",
    "\n",
    "columns_score = ('user_score','critic_score')\n",
    "\n",
    "for i in columns_score:\n",
    "    fig0, ax0 = plt.subplots(figsize=(10, 8))\n",
    "    ax0.set_title('games_others')\n",
    "    ax0.boxplot(games_others[i])\n",
    "    plt.show()\n",
    "    print(games_others[i].describe())\n",
    "display(games_others.corr())\n",
    "# \"mustaches\" for platforms according to users and critics\n",
    "for i in columns_score:\n",
    "    fig2, ax2 = plt.subplots(figsize=(10, 8))\n",
    "    ax2.set_title('games_top_PS4')\n",
    "    ax2.boxplot(games_top_PS4[i])\n",
    "    plt.show()\n",
    "    print(games_top_PS4[i].describe())\n",
    "display(games_top_PS4.corr())\n",
    "    \n",
    "for i in columns_score:\n",
    "    fig1, ax1 = plt.subplots(figsize=(10, 8))\n",
    "    ax1.set_title('games_top_XOne')\n",
    "    ax1.boxplot(games_top_XOne[i])\n",
    "    plt.show()\n",
    "    print(games_top_XOne[i].describe())\n",
    "display(games_top_XOne.corr())"
   ]
  },
  {
   "cell_type": "markdown",
   "metadata": {},
   "source": [
    "- For the PS4 platform, average critic rating = 70.4 out of 100 and users = 6.8 out of 10. Correlation coefficient between sales and ratings: for critics = 0.42, for users = - 0.01\n",
    "- For the XOne platform, average critic rating = 71.2 out of 100 and users = 6.65 out of 10. Correlation coefficient between sales and ratings: for critics = 0.44, for users = - 0.06\n",
    "- For other platforms, average critic rating = 67.5 out of 100 and users = 6.8 out of 10. Correlation coefficient between sales and ratings: for critics = 0.37, for users = 0.06\n",
    "\n",
    "This shows that there is an average correlation between critic rating and sales, while there is no correlation between user ratings and sales.\n",
    "For the rest of the platforms, the critics rating is also moderately correlated with sales, but slightly worse than the leading platforms, while users are not."
   ]
  },
  {
   "cell_type": "code",
   "execution_count": 19,
   "metadata": {},
   "outputs": [
    {
     "data": {
      "image/png": "[encoded data removed]",
      "text/plain": [
       "<Figure size 432x288 with 1 Axes>"
      ]
     },
     "metadata": {},
     "output_type": "display_data"
    },
    {
     "data": {
      "text/html": [
       "<div>\n",
       "<style scoped>\n",
       "    .dataframe tbody tr th:only-of-type {\n",
       "        vertical-align: middle;\n",
       "    }\n",
       "\n",
       "    .dataframe tbody tr th {\n",
       "        vertical-align: top;\n",
       "    }\n",
       "\n",
       "    .dataframe thead th {\n",
       "        text-align: right;\n",
       "    }\n",
       "</style>\n",
       "<table border=\"1\" class=\"dataframe\">\n",
       "  <thead>\n",
       "    <tr style=\"text-align: right;\">\n",
       "      <th></th>\n",
       "      <th>genre</th>\n",
       "      <th>total_sales</th>\n",
       "    </tr>\n",
       "  </thead>\n",
       "  <tbody>\n",
       "    <tr>\n",
       "      <td>0</td>\n",
       "      <td>Action</td>\n",
       "      <td>673.09</td>\n",
       "    </tr>\n",
       "    <tr>\n",
       "      <td>1</td>\n",
       "      <td>Shooter</td>\n",
       "      <td>479.74</td>\n",
       "    </tr>\n",
       "    <tr>\n",
       "      <td>2</td>\n",
       "      <td>Sports</td>\n",
       "      <td>328.39</td>\n",
       "    </tr>\n",
       "    <tr>\n",
       "      <td>3</td>\n",
       "      <td>Role-Playing</td>\n",
       "      <td>315.28</td>\n",
       "    </tr>\n",
       "    <tr>\n",
       "      <td>4</td>\n",
       "      <td>Misc</td>\n",
       "      <td>234.56</td>\n",
       "    </tr>\n",
       "    <tr>\n",
       "      <td>5</td>\n",
       "      <td>Racing</td>\n",
       "      <td>122.68</td>\n",
       "    </tr>\n",
       "    <tr>\n",
       "      <td>6</td>\n",
       "      <td>Platform</td>\n",
       "      <td>119.72</td>\n",
       "    </tr>\n",
       "    <tr>\n",
       "      <td>7</td>\n",
       "      <td>Fighting</td>\n",
       "      <td>81.59</td>\n",
       "    </tr>\n",
       "    <tr>\n",
       "      <td>8</td>\n",
       "      <td>Simulation</td>\n",
       "      <td>71.75</td>\n",
       "    </tr>\n",
       "    <tr>\n",
       "      <td>9</td>\n",
       "      <td>Adventure</td>\n",
       "      <td>61.00</td>\n",
       "    </tr>\n",
       "    <tr>\n",
       "      <td>10</td>\n",
       "      <td>Strategy</td>\n",
       "      <td>35.84</td>\n",
       "    </tr>\n",
       "    <tr>\n",
       "      <td>11</td>\n",
       "      <td>Puzzle</td>\n",
       "      <td>20.60</td>\n",
       "    </tr>\n",
       "  </tbody>\n",
       "</table>\n",
       "</div>"
      ],
      "text/plain": [
       "           genre  total_sales\n",
       "0         Action       673.09\n",
       "1        Shooter       479.74\n",
       "2         Sports       328.39\n",
       "3   Role-Playing       315.28\n",
       "4           Misc       234.56\n",
       "5         Racing       122.68\n",
       "6       Platform       119.72\n",
       "7       Fighting        81.59\n",
       "8     Simulation        71.75\n",
       "9      Adventure        61.00\n",
       "10      Strategy        35.84\n",
       "11        Puzzle        20.60"
      ]
     },
     "metadata": {},
     "output_type": "display_data"
    },
    {
     "data": {
      "image/png": "[encoded data removed]",
      "text/plain": [
       "<Figure size 432x288 with 1 Axes>"
      ]
     },
     "metadata": {},
     "output_type": "display_data"
    },
    {
     "data": {
      "text/html": [
       "<div>\n",
       "<style scoped>\n",
       "    .dataframe tbody tr th:only-of-type {\n",
       "        vertical-align: middle;\n",
       "    }\n",
       "\n",
       "    .dataframe tbody tr th {\n",
       "        vertical-align: top;\n",
       "    }\n",
       "\n",
       "    .dataframe thead th {\n",
       "        text-align: right;\n",
       "    }\n",
       "</style>\n",
       "<table border=\"1\" class=\"dataframe\">\n",
       "  <thead>\n",
       "    <tr style=\"text-align: right;\">\n",
       "      <th></th>\n",
       "      <th>genre</th>\n",
       "      <th>total_sales</th>\n",
       "    </tr>\n",
       "  </thead>\n",
       "  <tbody>\n",
       "    <tr>\n",
       "      <td>0</td>\n",
       "      <td>Shooter</td>\n",
       "      <td>1.170098</td>\n",
       "    </tr>\n",
       "    <tr>\n",
       "      <td>1</td>\n",
       "      <td>Platform</td>\n",
       "      <td>0.782484</td>\n",
       "    </tr>\n",
       "    <tr>\n",
       "      <td>2</td>\n",
       "      <td>Sports</td>\n",
       "      <td>0.571113</td>\n",
       "    </tr>\n",
       "    <tr>\n",
       "      <td>3</td>\n",
       "      <td>Role-Playing</td>\n",
       "      <td>0.555070</td>\n",
       "    </tr>\n",
       "    <tr>\n",
       "      <td>4</td>\n",
       "      <td>Racing</td>\n",
       "      <td>0.517637</td>\n",
       "    </tr>\n",
       "    <tr>\n",
       "      <td>5</td>\n",
       "      <td>Action</td>\n",
       "      <td>0.450227</td>\n",
       "    </tr>\n",
       "    <tr>\n",
       "      <td>6</td>\n",
       "      <td>Fighting</td>\n",
       "      <td>0.410000</td>\n",
       "    </tr>\n",
       "    <tr>\n",
       "      <td>7</td>\n",
       "      <td>Misc</td>\n",
       "      <td>0.407222</td>\n",
       "    </tr>\n",
       "    <tr>\n",
       "      <td>8</td>\n",
       "      <td>Simulation</td>\n",
       "      <td>0.330645</td>\n",
       "    </tr>\n",
       "    <tr>\n",
       "      <td>9</td>\n",
       "      <td>Strategy</td>\n",
       "      <td>0.210824</td>\n",
       "    </tr>\n",
       "    <tr>\n",
       "      <td>10</td>\n",
       "      <td>Puzzle</td>\n",
       "      <td>0.180702</td>\n",
       "    </tr>\n",
       "    <tr>\n",
       "      <td>11</td>\n",
       "      <td>Adventure</td>\n",
       "      <td>0.108348</td>\n",
       "    </tr>\n",
       "  </tbody>\n",
       "</table>\n",
       "</div>"
      ],
      "text/plain": [
       "           genre  total_sales\n",
       "0        Shooter     1.170098\n",
       "1       Platform     0.782484\n",
       "2         Sports     0.571113\n",
       "3   Role-Playing     0.555070\n",
       "4         Racing     0.517637\n",
       "5         Action     0.450227\n",
       "6       Fighting     0.410000\n",
       "7           Misc     0.407222\n",
       "8     Simulation     0.330645\n",
       "9       Strategy     0.210824\n",
       "10        Puzzle     0.180702\n",
       "11     Adventure     0.108348"
      ]
     },
     "metadata": {},
     "output_type": "display_data"
    }
   ],
   "source": [
    "#print(games_data_actual['genre'].value_counts())\n",
    "genre_sales = games_data_actual.groupby('genre')['total_sales'].sum().sort_values(ascending=False).reset_index()\n",
    "\n",
    "avg_genre_sales = games_data_actual.groupby('genre')['total_sales'].mean().sort_values(ascending=False).reset_index()\n",
    "\n",
    "fig, ax = plt.subplots()\n",
    "ax.set_title('Жанр игр')\n",
    "ax.pie(genre_sales['total_sales'], labels=genre_sales['genre'], wedgeprops=dict(edgecolor='w'))\n",
    "ax.axis(\"equal\")\n",
    "plt.show()\n",
    "\n",
    "display(genre_sales)\n",
    "\n",
    "fig1, ax1 = plt.subplots()\n",
    "ax1.set_title('Жанр игр в среднем')\n",
    "ax1.pie(avg_genre_sales['total_sales'], labels=avg_genre_sales['genre'], wedgeprops=dict(edgecolor='w'))\n",
    "ax1.axis(\"equal\")\n",
    "plt.show()\n",
    "\n",
    "\n",
    "display(avg_genre_sales)\n",
    "# review of the most popular genres"
   ]
  },
  {
   "cell_type": "markdown",
   "metadata": {},
   "source": [
    "The most popular genre for games is \"Action\", the same genre is the best-selling one. \"Puzzle\" is the most unpopular in terms of number of games and sales. In average sales by genre, the most popular genre is Shooter, action has shifted to the middle of the ranking."
   ]
  },
  {
   "cell_type": "code",
   "execution_count": 23,
   "metadata": {},
   "outputs": [
    {
     "name": "stdout",
     "output_type": "stream",
     "text": [
      "Сумма продаж в регионе na_sales 1130.41\n"
     ]
    },
    {
     "data": {
      "text/html": [
       "<div>\n",
       "<style scoped>\n",
       "    .dataframe tbody tr th:only-of-type {\n",
       "        vertical-align: middle;\n",
       "    }\n",
       "\n",
       "    .dataframe tbody tr th {\n",
       "        vertical-align: top;\n",
       "    }\n",
       "\n",
       "    .dataframe thead th {\n",
       "        text-align: right;\n",
       "    }\n",
       "</style>\n",
       "<table border=\"1\" class=\"dataframe\">\n",
       "  <thead>\n",
       "    <tr style=\"text-align: right;\">\n",
       "      <th></th>\n",
       "      <th>platform</th>\n",
       "      <th>na_sales</th>\n",
       "      <th>part</th>\n",
       "    </tr>\n",
       "  </thead>\n",
       "  <tbody>\n",
       "    <tr>\n",
       "      <td>10</td>\n",
       "      <td>X360</td>\n",
       "      <td>334.18</td>\n",
       "      <td>0.295627</td>\n",
       "    </tr>\n",
       "    <tr>\n",
       "      <td>4</td>\n",
       "      <td>PS3</td>\n",
       "      <td>229.25</td>\n",
       "      <td>0.202803</td>\n",
       "    </tr>\n",
       "    <tr>\n",
       "      <td>8</td>\n",
       "      <td>Wii</td>\n",
       "      <td>121.20</td>\n",
       "      <td>0.107218</td>\n",
       "    </tr>\n",
       "    <tr>\n",
       "      <td>5</td>\n",
       "      <td>PS4</td>\n",
       "      <td>108.74</td>\n",
       "      <td>0.096195</td>\n",
       "    </tr>\n",
       "    <tr>\n",
       "      <td>11</td>\n",
       "      <td>XOne</td>\n",
       "      <td>93.12</td>\n",
       "      <td>0.082377</td>\n",
       "    </tr>\n",
       "  </tbody>\n",
       "</table>\n",
       "</div>"
      ],
      "text/plain": [
       "   platform  na_sales      part\n",
       "10     X360    334.18  0.295627\n",
       "4       PS3    229.25  0.202803\n",
       "8       Wii    121.20  0.107218\n",
       "5       PS4    108.74  0.096195\n",
       "11     XOne     93.12  0.082377"
      ]
     },
     "metadata": {},
     "output_type": "display_data"
    },
    {
     "data": {
      "text/html": [
       "<div>\n",
       "<style scoped>\n",
       "    .dataframe tbody tr th:only-of-type {\n",
       "        vertical-align: middle;\n",
       "    }\n",
       "\n",
       "    .dataframe tbody tr th {\n",
       "        vertical-align: top;\n",
       "    }\n",
       "\n",
       "    .dataframe thead th {\n",
       "        text-align: right;\n",
       "    }\n",
       "</style>\n",
       "<table border=\"1\" class=\"dataframe\">\n",
       "  <thead>\n",
       "    <tr style=\"text-align: right;\">\n",
       "      <th></th>\n",
       "      <th>genre</th>\n",
       "      <th>na_sales</th>\n",
       "      <th>part</th>\n",
       "    </tr>\n",
       "  </thead>\n",
       "  <tbody>\n",
       "    <tr>\n",
       "      <td>0</td>\n",
       "      <td>Action</td>\n",
       "      <td>290.64</td>\n",
       "      <td>0.257110</td>\n",
       "    </tr>\n",
       "    <tr>\n",
       "      <td>8</td>\n",
       "      <td>Shooter</td>\n",
       "      <td>237.47</td>\n",
       "      <td>0.210074</td>\n",
       "    </tr>\n",
       "    <tr>\n",
       "      <td>10</td>\n",
       "      <td>Sports</td>\n",
       "      <td>156.81</td>\n",
       "      <td>0.138720</td>\n",
       "    </tr>\n",
       "    <tr>\n",
       "      <td>3</td>\n",
       "      <td>Misc</td>\n",
       "      <td>123.80</td>\n",
       "      <td>0.109518</td>\n",
       "    </tr>\n",
       "    <tr>\n",
       "      <td>7</td>\n",
       "      <td>Role-Playing</td>\n",
       "      <td>112.05</td>\n",
       "      <td>0.099123</td>\n",
       "    </tr>\n",
       "  </tbody>\n",
       "</table>\n",
       "</div>"
      ],
      "text/plain": [
       "           genre  na_sales      part\n",
       "0         Action    290.64  0.257110\n",
       "8        Shooter    237.47  0.210074\n",
       "10        Sports    156.81  0.138720\n",
       "3           Misc    123.80  0.109518\n",
       "7   Role-Playing    112.05  0.099123"
      ]
     },
     "metadata": {},
     "output_type": "display_data"
    },
    {
     "name": "stdout",
     "output_type": "stream",
     "text": [
      "Сумма продаж в регионе eu_sales 841.21\n"
     ]
    },
    {
     "data": {
      "text/html": [
       "<div>\n",
       "<style scoped>\n",
       "    .dataframe tbody tr th:only-of-type {\n",
       "        vertical-align: middle;\n",
       "    }\n",
       "\n",
       "    .dataframe tbody tr th {\n",
       "        vertical-align: top;\n",
       "    }\n",
       "\n",
       "    .dataframe thead th {\n",
       "        text-align: right;\n",
       "    }\n",
       "</style>\n",
       "<table border=\"1\" class=\"dataframe\">\n",
       "  <thead>\n",
       "    <tr style=\"text-align: right;\">\n",
       "      <th></th>\n",
       "      <th>platform</th>\n",
       "      <th>eu_sales</th>\n",
       "      <th>part</th>\n",
       "    </tr>\n",
       "  </thead>\n",
       "  <tbody>\n",
       "    <tr>\n",
       "      <td>4</td>\n",
       "      <td>PS3</td>\n",
       "      <td>213.60</td>\n",
       "      <td>0.253920</td>\n",
       "    </tr>\n",
       "    <tr>\n",
       "      <td>10</td>\n",
       "      <td>X360</td>\n",
       "      <td>163.41</td>\n",
       "      <td>0.194256</td>\n",
       "    </tr>\n",
       "    <tr>\n",
       "      <td>5</td>\n",
       "      <td>PS4</td>\n",
       "      <td>141.09</td>\n",
       "      <td>0.167723</td>\n",
       "    </tr>\n",
       "    <tr>\n",
       "      <td>2</td>\n",
       "      <td>PC</td>\n",
       "      <td>68.82</td>\n",
       "      <td>0.081811</td>\n",
       "    </tr>\n",
       "    <tr>\n",
       "      <td>8</td>\n",
       "      <td>Wii</td>\n",
       "      <td>65.91</td>\n",
       "      <td>0.078351</td>\n",
       "    </tr>\n",
       "  </tbody>\n",
       "</table>\n",
       "</div>"
      ],
      "text/plain": [
       "   platform  eu_sales      part\n",
       "4       PS3    213.60  0.253920\n",
       "10     X360    163.41  0.194256\n",
       "5       PS4    141.09  0.167723\n",
       "2        PC     68.82  0.081811\n",
       "8       Wii     65.91  0.078351"
      ]
     },
     "metadata": {},
     "output_type": "display_data"
    },
    {
     "data": {
      "text/html": [
       "<div>\n",
       "<style scoped>\n",
       "    .dataframe tbody tr th:only-of-type {\n",
       "        vertical-align: middle;\n",
       "    }\n",
       "\n",
       "    .dataframe tbody tr th {\n",
       "        vertical-align: top;\n",
       "    }\n",
       "\n",
       "    .dataframe thead th {\n",
       "        text-align: right;\n",
       "    }\n",
       "</style>\n",
       "<table border=\"1\" class=\"dataframe\">\n",
       "  <thead>\n",
       "    <tr style=\"text-align: right;\">\n",
       "      <th></th>\n",
       "      <th>genre</th>\n",
       "      <th>eu_sales</th>\n",
       "      <th>part</th>\n",
       "    </tr>\n",
       "  </thead>\n",
       "  <tbody>\n",
       "    <tr>\n",
       "      <td>0</td>\n",
       "      <td>Action</td>\n",
       "      <td>233.63</td>\n",
       "      <td>0.277731</td>\n",
       "    </tr>\n",
       "    <tr>\n",
       "      <td>8</td>\n",
       "      <td>Shooter</td>\n",
       "      <td>171.45</td>\n",
       "      <td>0.203814</td>\n",
       "    </tr>\n",
       "    <tr>\n",
       "      <td>10</td>\n",
       "      <td>Sports</td>\n",
       "      <td>116.84</td>\n",
       "      <td>0.138895</td>\n",
       "    </tr>\n",
       "    <tr>\n",
       "      <td>7</td>\n",
       "      <td>Role-Playing</td>\n",
       "      <td>75.48</td>\n",
       "      <td>0.089728</td>\n",
       "    </tr>\n",
       "    <tr>\n",
       "      <td>3</td>\n",
       "      <td>Misc</td>\n",
       "      <td>66.09</td>\n",
       "      <td>0.078565</td>\n",
       "    </tr>\n",
       "  </tbody>\n",
       "</table>\n",
       "</div>"
      ],
      "text/plain": [
       "           genre  eu_sales      part\n",
       "0         Action    233.63  0.277731\n",
       "8        Shooter    171.45  0.203814\n",
       "10        Sports    116.84  0.138895\n",
       "7   Role-Playing     75.48  0.089728\n",
       "3           Misc     66.09  0.078565"
      ]
     },
     "metadata": {},
     "output_type": "display_data"
    },
    {
     "name": "stdout",
     "output_type": "stream",
     "text": [
      "Сумма продаж в регионе jp_sales 305.14\n"
     ]
    },
    {
     "data": {
      "text/html": [
       "<div>\n",
       "<style scoped>\n",
       "    .dataframe tbody tr th:only-of-type {\n",
       "        vertical-align: middle;\n",
       "    }\n",
       "\n",
       "    .dataframe tbody tr th {\n",
       "        vertical-align: top;\n",
       "    }\n",
       "\n",
       "    .dataframe thead th {\n",
       "        text-align: right;\n",
       "    }\n",
       "</style>\n",
       "<table border=\"1\" class=\"dataframe\">\n",
       "  <thead>\n",
       "    <tr style=\"text-align: right;\">\n",
       "      <th></th>\n",
       "      <th>platform</th>\n",
       "      <th>jp_sales</th>\n",
       "      <th>part</th>\n",
       "    </tr>\n",
       "  </thead>\n",
       "  <tbody>\n",
       "    <tr>\n",
       "      <td>0</td>\n",
       "      <td>3DS</td>\n",
       "      <td>100.62</td>\n",
       "      <td>0.329750</td>\n",
       "    </tr>\n",
       "    <tr>\n",
       "      <td>4</td>\n",
       "      <td>PS3</td>\n",
       "      <td>59.26</td>\n",
       "      <td>0.194206</td>\n",
       "    </tr>\n",
       "    <tr>\n",
       "      <td>6</td>\n",
       "      <td>PSP</td>\n",
       "      <td>42.20</td>\n",
       "      <td>0.138297</td>\n",
       "    </tr>\n",
       "    <tr>\n",
       "      <td>1</td>\n",
       "      <td>DS</td>\n",
       "      <td>27.90</td>\n",
       "      <td>0.091433</td>\n",
       "    </tr>\n",
       "    <tr>\n",
       "      <td>7</td>\n",
       "      <td>PSV</td>\n",
       "      <td>21.84</td>\n",
       "      <td>0.071574</td>\n",
       "    </tr>\n",
       "  </tbody>\n",
       "</table>\n",
       "</div>"
      ],
      "text/plain": [
       "  platform  jp_sales      part\n",
       "0      3DS    100.62  0.329750\n",
       "4      PS3     59.26  0.194206\n",
       "6      PSP     42.20  0.138297\n",
       "1       DS     27.90  0.091433\n",
       "7      PSV     21.84  0.071574"
      ]
     },
     "metadata": {},
     "output_type": "display_data"
    },
    {
     "data": {
      "text/html": [
       "<div>\n",
       "<style scoped>\n",
       "    .dataframe tbody tr th:only-of-type {\n",
       "        vertical-align: middle;\n",
       "    }\n",
       "\n",
       "    .dataframe tbody tr th {\n",
       "        vertical-align: top;\n",
       "    }\n",
       "\n",
       "    .dataframe thead th {\n",
       "        text-align: right;\n",
       "    }\n",
       "</style>\n",
       "<table border=\"1\" class=\"dataframe\">\n",
       "  <thead>\n",
       "    <tr style=\"text-align: right;\">\n",
       "      <th></th>\n",
       "      <th>genre</th>\n",
       "      <th>jp_sales</th>\n",
       "      <th>part</th>\n",
       "    </tr>\n",
       "  </thead>\n",
       "  <tbody>\n",
       "    <tr>\n",
       "      <td>7</td>\n",
       "      <td>Role-Playing</td>\n",
       "      <td>103.54</td>\n",
       "      <td>0.339320</td>\n",
       "    </tr>\n",
       "    <tr>\n",
       "      <td>0</td>\n",
       "      <td>Action</td>\n",
       "      <td>72.20</td>\n",
       "      <td>0.236613</td>\n",
       "    </tr>\n",
       "    <tr>\n",
       "      <td>3</td>\n",
       "      <td>Misc</td>\n",
       "      <td>24.29</td>\n",
       "      <td>0.079603</td>\n",
       "    </tr>\n",
       "    <tr>\n",
       "      <td>4</td>\n",
       "      <td>Platform</td>\n",
       "      <td>15.81</td>\n",
       "      <td>0.051812</td>\n",
       "    </tr>\n",
       "    <tr>\n",
       "      <td>1</td>\n",
       "      <td>Adventure</td>\n",
       "      <td>15.67</td>\n",
       "      <td>0.051353</td>\n",
       "    </tr>\n",
       "  </tbody>\n",
       "</table>\n",
       "</div>"
      ],
      "text/plain": [
       "          genre  jp_sales      part\n",
       "7  Role-Playing    103.54  0.339320\n",
       "0        Action     72.20  0.236613\n",
       "3          Misc     24.29  0.079603\n",
       "4      Platform     15.81  0.051812\n",
       "1     Adventure     15.67  0.051353"
      ]
     },
     "metadata": {},
     "output_type": "display_data"
    }
   ],
   "source": [
    "regions_list = ('na_sales','eu_sales','jp_sales')\n",
    "\n",
    "for i in regions_list:\n",
    "    regions_platform = games_data_actual.groupby('platform')[i].sum().reset_index()\n",
    "    sum_reg = regions_platform[i].sum()\n",
    "    print('Сумма продаж в регионе', i, '{:.2f}'.format(sum_reg))\n",
    "    regions_platform['part'] = regions_platform[i] / sum_reg\n",
    "    display(regions_platform.sort_values(by='part', ascending=False).head(5))\n",
    "    regions_genre = games_data_actual.groupby('genre')[i].sum().reset_index()\n",
    "    regions_genre['part'] = regions_genre[i] / sum_reg\n",
    "    display(regions_genre.sort_values(by='part', ascending=False).head(5))\n",
    "    \n",
    "#share of sales by region for genres and platforms"
   ]
  },
  {
   "cell_type": "markdown",
   "metadata": {},
   "source": [
    "- For Europe and North America, the most popular platforms are X360 and PS3. In Japan, X360 is not the leader, they have big sales from the local manufacturer 3DS.\n",
    "- Also for genres, for Europe and America in 1st place - Action, 2 - Shooter. In Japan, there is again a peculiarity, in the first place - Role-Playing. Most likely the difference between Europe, America and Japan is due to large differences in culture.\n"
   ]
  },
  {
   "cell_type": "code",
   "execution_count": 24,
   "metadata": {},
   "outputs": [
    {
     "data": {
      "image/png": "[encoded data removed]",
      "text/plain": [
       "<Figure size 432x288 with 1 Axes>"
      ]
     },
     "metadata": {
      "needs_background": "light"
     },
     "output_type": "display_data"
    },
    {
     "name": "stdout",
     "output_type": "stream",
     "text": [
      "   age_rating  na_sales\n",
      "0         3.0      1.13\n",
      "1         6.0    271.15\n",
      "2        10.0    159.38\n",
      "3        13.0    160.81\n",
      "4        17.0    382.22\n",
      "            age_rating  na_sales\n",
      "age_rating     1.00000   0.71727\n",
      "na_sales       0.71727   1.00000\n"
     ]
    },
    {
     "data": {
      "image/png": "[encoded data removed]",
      "text/plain": [
       "<Figure size 432x288 with 1 Axes>"
      ]
     },
     "metadata": {
      "needs_background": "light"
     },
     "output_type": "display_data"
    },
    {
     "name": "stdout",
     "output_type": "stream",
     "text": [
      "   age_rating  eu_sales\n",
      "0         3.0      0.00\n",
      "1         6.0    197.34\n",
      "2        10.0     99.28\n",
      "3        13.0    113.08\n",
      "4        17.0    292.04\n",
      "            age_rating  eu_sales\n",
      "age_rating    1.000000  0.711568\n",
      "eu_sales      0.711568  1.000000\n"
     ]
    },
    {
     "data": {
      "image/png": "[encoded data removed]",
      "text/plain": [
       "<Figure size 432x288 with 1 Axes>"
      ]
     },
     "metadata": {
      "needs_background": "light"
     },
     "output_type": "display_data"
    },
    {
     "name": "stdout",
     "output_type": "stream",
     "text": [
      "   age_rating  jp_sales\n",
      "0         3.0      0.00\n",
      "1         6.0     47.87\n",
      "2        10.0     13.22\n",
      "3        13.0     42.11\n",
      "4        17.0     30.45\n",
      "            age_rating  jp_sales\n",
      "age_rating    1.000000  0.394897\n",
      "jp_sales      0.394897  1.000000\n"
     ]
    }
   ],
   "source": [
    "age_games_data = games_data_actual.query('age_rating > 0')\n",
    "    \n",
    "for i in regions_list:\n",
    "    age_games = age_games_data.groupby('age_rating')[i].sum().reset_index()\n",
    "    age_games.plot(kind='bar', y=i, x='age_rating', legend=True) \n",
    "    #plt.bar(age_games['age_rating'], age_games[i], bins=(100))\n",
    "    plt.show()\n",
    "    print(age_games)\n",
    "    print(age_games.corr())\n",
    "# link between age rating and sales"
   ]
  },
  {
   "cell_type": "markdown",
   "metadata": {},
   "source": [
    "For America and Europe, sales by age rating are similar, among games the leading place is occupied with a rating of 17+, and then there are games for children 6+. For Japan, 6+ games come first, followed by 13+. Therefore, in Japan, games are played mainly by children, and in the West (America + Europe) already teenagers and adults."
   ]
  },
  {
   "cell_type": "markdown",
   "metadata": {},
   "source": [
    "Let's test the hypotheses. Null hypothesis: the average user ratings of the XOne and PC platforms are the same, the alternative is not. To test hypotheses, we use the t-test of the hypothesis about the equality of the means of two general populations"
   ]
  },
  {
   "cell_type": "code",
   "execution_count": 25,
   "metadata": {},
   "outputs": [
    {
     "name": "stdout",
     "output_type": "stream",
     "text": [
      "p-значение: 0.6960430378350946\n",
      "Не получилось отвергнуть нулевую гипотезу для тарифов\n"
     ]
    }
   ],
   "source": [
    "games_top_PC_avg = games_data_actual.query('platform == \"PC\"')\n",
    "games_top_XOne_avg = games_data_actual.query('platform == \"XOne\"')\n",
    "\n",
    "alpha = 0.1\n",
    "# hypothesis testing\n",
    "results_platform = st.ttest_ind(games_top_PC_avg['user_score'], games_top_XOne_avg ['user_score'])\n",
    "print('p-значение:', results_platform.pvalue) \n",
    "\n",
    "if (results_platform.pvalue < alpha): \n",
    "    print(\"Отвергаем нулевую гипотезу для тарифов\")\n",
    "else:\n",
    "    print(\"Не получилось отвергнуть нулевую гипотезу для тарифов\")"
   ]
  },
  {
   "cell_type": "markdown",
   "metadata": {},
   "source": [
    "p-value: 0.6960430378350946\n",
    "\n",
    "Failed to reject null hypothesis for tariffs"
   ]
  },
  {
   "cell_type": "markdown",
   "metadata": {},
   "source": [
    "The average user ratings for PC and XOne games were the same."
   ]
  },
  {
   "cell_type": "markdown",
   "metadata": {},
   "source": [
    "Null Hypothesis: Average user ratings for the Action and Sports genres are equal."
   ]
  },
  {
   "cell_type": "code",
   "execution_count": 18,
   "metadata": {},
   "outputs": [
    {
     "name": "stdout",
     "output_type": "stream",
     "text": [
      "p-значение: 1.3090925162637772e-18\n",
      "Отвергаем нулевую гипотезу для тарифов\n"
     ]
    }
   ],
   "source": [
    "games_top_action = games_data_actual.query('genre == \"Action\"')\n",
    "games_top_sports = games_data_actual.query('genre == \"Sports\"')\n",
    "\n",
    "alpha = 0.1\n",
    "# проверка гипотезы\n",
    "results_genre = st.ttest_ind(games_top_action['user_score'], games_top_sports ['user_score'])\n",
    "print('p-значение:', results_genre.pvalue) \n",
    "\n",
    "if (results_genre.pvalue < alpha): \n",
    "    print(\"Отвергаем нулевую гипотезу для тарифов\")\n",
    "else:\n",
    "    print(\"Не получилось отвергнуть нулевую гипотезу для тарифов\")"
   ]
  },
  {
   "cell_type": "markdown",
   "metadata": {},
   "source": [
    "p-value: 1.3090925162637772e-18\n",
    "\n",
    "Rejecting the Null Hypothesis for Tariffs"
   ]
  },
  {
   "cell_type": "markdown",
   "metadata": {},
   "source": [
    "The average user ratings for the Action and Sports genres are unequal."
   ]
  },
  {
   "cell_type": "markdown",
   "metadata": {},
   "source": [
    "### Conclusion "
   ]
  },
  {
   "cell_type": "markdown",
   "metadata": {},
   "source": [
    "Data preprocessing was carried out, gaps were filled in, data were categorized.\n",
    "\n",
    "The period for which the platforms go through their rise and fall is singled out, it is equal to 7 years. It was the last 7 years that were considered for further data analysis.\n",
    "\n",
    "Two promising platforms have been identified that will dominate the gaming industry in the near future in the whole world - these are PS4 and XOne. For these platforms, there is a high average value of game sales, more than for all platforms by almost 2 times ( PS4 = 0.31 million, XOne = 0.34 million, for all other platforms = 0.19)\n",
    "\n",
    "Ratings of games, both from users and from critics, are weakly dependent on the chosen platforms. At the same time, there is a correlation between sales and ratings from critics, for all platforms the dependence is average (correlation coefficient from 0.37 to 0.44)\n",
    "\n",
    "The most popular genres have been identified, for North America and Europe they are Action and Shooter. For the Japanese market, this is Role-Playing.\n",
    "However, this is not the only feature of the Japanese market, at the moment the most popular platform for Japan is the 3DS, from Nintendo (Local manufacturer). And for the Western world, by far the most profitable platforms are from the same manufacturers that produce the PS4 and XOne platforms (X360 and PS3 platforms are popular)\n",
    "\n",
    "The age rating has little effect on sales in the West and slightly worse in Japan.\n",
    "\n",
    "### Results: ###\n",
    "\n",
    "The average user for America and Europe is similar but different from Japan.\n",
    "\n",
    "For America: the most popular platform is X360, the genre is Action. In second place is PS3, the second most popular genre is Shooter. Top selling games rated 17+\n",
    "\n",
    "For Europe: The most popular platform is PS3, the genre is Action. In second place is the X360, the second most popular genre is Shooter. Top selling games rated 17+\n",
    "\n",
    "For Japan: the most popular platform is 3DS, the genre is Role-Playing. In second place is PS3, the second most popular genre is Action. Top selling games rated 6+\n",
    "\n",
    "\n",
    "2 hypotheses were tested. The first - the average user ratings for XOne and PC are equal, turned out to be correct. The second - the average user ratings for the Action and Sports genres are equal, turned out to be wrong.\n"
   ]
  }
 ],
 "metadata": {
  "kernelspec": {
   "display_name": "Python 3",
   "language": "python",
   "name": "python3"
  },
  "language_info": {
   "codemirror_mode": {
    "name": "ipython",
    "version": 3
   },
   "file_extension": ".py",
   "mimetype": "text/x-python",
   "name": "python",
   "nbconvert_exporter": "python",
   "pygments_lexer": "ipython3",
   "version": "3.7.8"
  },
  "toc": {
   "base_numbering": 1,
   "nav_menu": {},
   "number_sections": true,
   "sideBar": true,
   "skip_h1_title": false,
   "title_cell": "Table of Contents",
   "title_sidebar": "Contents",
   "toc_cell": false,
   "toc_position": {},
   "toc_section_display": true,
   "toc_window_display": false
  }
 },
 "nbformat": 4,
 "nbformat_minor": 2
}
