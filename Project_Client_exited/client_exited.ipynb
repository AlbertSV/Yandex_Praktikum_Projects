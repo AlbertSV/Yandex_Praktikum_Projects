{
 "cells": [
  {
   "cell_type": "markdown",
   "metadata": {},
   "source": [
    "# Отток клиентов"
   ]
  },
  {
   "cell_type": "markdown",
   "metadata": {},
   "source": [
    "Из «Бета-Банка» стали уходить клиенты.\n",
    "\n",
    "Нужно спрогнозировать, уйдёт клиент из банка в ближайшее время или нет. \n",
    "\n",
    "Постройте модель с предельно большим значением *F1*-меры. Чтобы сдать проект успешно, нужно довести метрику до 0.59. \n",
    "\n",
    "Источник данных: [https://www.kaggle.com/barelydedicated/bank-customer-churn-modeling](https://www.kaggle.com/barelydedicated/bank-customer-churn-modeling)\n",
    "\n",
    "\n",
    "Описание данных:\n",
    "\n",
    "Признаки\n",
    "- RowNumber — индекс строки в данных\n",
    "- CustomerId — уникальный идентификатор клиента\n",
    "- Surname — фамилия\n",
    "- CreditScore — кредитный рейтинг\n",
    "- Geography — страна проживания\n",
    "- Gender — пол\n",
    "- Age — возраст\n",
    "- Tenure — количество недвижимости у клиента\n",
    "- Balance — баланс на счёте\n",
    "- NumOfProducts — количество продуктов банка, используемых клиентом\n",
    "- HasCrCard — наличие кредитной карты\n",
    "- IsActiveMember — активность клиента\n",
    "- EstimatedSalary — предполагаемая зарплата\n",
    "\n",
    "Целевой признак\n",
    "- Exited — факт ухода клиента\n"
   ]
  },
  {
   "cell_type": "markdown",
   "metadata": {},
   "source": [
    "# 1. Подготовка данных"
   ]
  },
  {
   "cell_type": "code",
   "execution_count": 1,
   "metadata": {},
   "outputs": [],
   "source": [
    "import pandas as pd\n",
    "import matplotlib.pyplot as plt\n",
    "import joblib\n",
    "import numpy as np\n",
    "import warnings\n",
    "\n",
    "from sklearn.model_selection import train_test_split\n",
    "from sklearn.metrics import accuracy_score\n",
    "from sklearn.metrics import classification_report\n",
    "from sklearn.tree import DecisionTreeClassifier\n",
    "from sklearn.ensemble import RandomForestClassifier\n",
    "from sklearn.linear_model import LogisticRegression\n",
    "\n",
    "from sklearn.dummy import DummyClassifier\n",
    "from sklearn.preprocessing import StandardScaler\n",
    "from sklearn.metrics import f1_score\n",
    "from sklearn.metrics import roc_auc_score\n",
    "from sklearn.utils import shuffle\n",
    "from sklearn import metrics\n",
    "from sklearn.model_selection import GridSearchCV\n"
   ]
  },
  {
   "cell_type": "code",
   "execution_count": 2,
   "metadata": {},
   "outputs": [],
   "source": [
    "churn_data = pd.read_csv('/datasets/Churn.csv')"
   ]
  },
  {
   "cell_type": "code",
   "execution_count": 3,
   "metadata": {},
   "outputs": [
    {
     "data": {
      "text/html": [
       "<div>\n",
       "<style scoped>\n",
       "    .dataframe tbody tr th:only-of-type {\n",
       "        vertical-align: middle;\n",
       "    }\n",
       "\n",
       "    .dataframe tbody tr th {\n",
       "        vertical-align: top;\n",
       "    }\n",
       "\n",
       "    .dataframe thead th {\n",
       "        text-align: right;\n",
       "    }\n",
       "</style>\n",
       "<table border=\"1\" class=\"dataframe\">\n",
       "  <thead>\n",
       "    <tr style=\"text-align: right;\">\n",
       "      <th></th>\n",
       "      <th>RowNumber</th>\n",
       "      <th>CustomerId</th>\n",
       "      <th>Surname</th>\n",
       "      <th>CreditScore</th>\n",
       "      <th>Geography</th>\n",
       "      <th>Gender</th>\n",
       "      <th>Age</th>\n",
       "      <th>Tenure</th>\n",
       "      <th>Balance</th>\n",
       "      <th>NumOfProducts</th>\n",
       "      <th>HasCrCard</th>\n",
       "      <th>IsActiveMember</th>\n",
       "      <th>EstimatedSalary</th>\n",
       "      <th>Exited</th>\n",
       "    </tr>\n",
       "  </thead>\n",
       "  <tbody>\n",
       "    <tr>\n",
       "      <td>0</td>\n",
       "      <td>1</td>\n",
       "      <td>15634602</td>\n",
       "      <td>Hargrave</td>\n",
       "      <td>619</td>\n",
       "      <td>France</td>\n",
       "      <td>Female</td>\n",
       "      <td>42</td>\n",
       "      <td>2.0</td>\n",
       "      <td>0.00</td>\n",
       "      <td>1</td>\n",
       "      <td>1</td>\n",
       "      <td>1</td>\n",
       "      <td>101348.88</td>\n",
       "      <td>1</td>\n",
       "    </tr>\n",
       "    <tr>\n",
       "      <td>1</td>\n",
       "      <td>2</td>\n",
       "      <td>15647311</td>\n",
       "      <td>Hill</td>\n",
       "      <td>608</td>\n",
       "      <td>Spain</td>\n",
       "      <td>Female</td>\n",
       "      <td>41</td>\n",
       "      <td>1.0</td>\n",
       "      <td>83807.86</td>\n",
       "      <td>1</td>\n",
       "      <td>0</td>\n",
       "      <td>1</td>\n",
       "      <td>112542.58</td>\n",
       "      <td>0</td>\n",
       "    </tr>\n",
       "    <tr>\n",
       "      <td>2</td>\n",
       "      <td>3</td>\n",
       "      <td>15619304</td>\n",
       "      <td>Onio</td>\n",
       "      <td>502</td>\n",
       "      <td>France</td>\n",
       "      <td>Female</td>\n",
       "      <td>42</td>\n",
       "      <td>8.0</td>\n",
       "      <td>159660.80</td>\n",
       "      <td>3</td>\n",
       "      <td>1</td>\n",
       "      <td>0</td>\n",
       "      <td>113931.57</td>\n",
       "      <td>1</td>\n",
       "    </tr>\n",
       "    <tr>\n",
       "      <td>3</td>\n",
       "      <td>4</td>\n",
       "      <td>15701354</td>\n",
       "      <td>Boni</td>\n",
       "      <td>699</td>\n",
       "      <td>France</td>\n",
       "      <td>Female</td>\n",
       "      <td>39</td>\n",
       "      <td>1.0</td>\n",
       "      <td>0.00</td>\n",
       "      <td>2</td>\n",
       "      <td>0</td>\n",
       "      <td>0</td>\n",
       "      <td>93826.63</td>\n",
       "      <td>0</td>\n",
       "    </tr>\n",
       "    <tr>\n",
       "      <td>4</td>\n",
       "      <td>5</td>\n",
       "      <td>15737888</td>\n",
       "      <td>Mitchell</td>\n",
       "      <td>850</td>\n",
       "      <td>Spain</td>\n",
       "      <td>Female</td>\n",
       "      <td>43</td>\n",
       "      <td>2.0</td>\n",
       "      <td>125510.82</td>\n",
       "      <td>1</td>\n",
       "      <td>1</td>\n",
       "      <td>1</td>\n",
       "      <td>79084.10</td>\n",
       "      <td>0</td>\n",
       "    </tr>\n",
       "    <tr>\n",
       "      <td>5</td>\n",
       "      <td>6</td>\n",
       "      <td>15574012</td>\n",
       "      <td>Chu</td>\n",
       "      <td>645</td>\n",
       "      <td>Spain</td>\n",
       "      <td>Male</td>\n",
       "      <td>44</td>\n",
       "      <td>8.0</td>\n",
       "      <td>113755.78</td>\n",
       "      <td>2</td>\n",
       "      <td>1</td>\n",
       "      <td>0</td>\n",
       "      <td>149756.71</td>\n",
       "      <td>1</td>\n",
       "    </tr>\n",
       "    <tr>\n",
       "      <td>6</td>\n",
       "      <td>7</td>\n",
       "      <td>15592531</td>\n",
       "      <td>Bartlett</td>\n",
       "      <td>822</td>\n",
       "      <td>France</td>\n",
       "      <td>Male</td>\n",
       "      <td>50</td>\n",
       "      <td>7.0</td>\n",
       "      <td>0.00</td>\n",
       "      <td>2</td>\n",
       "      <td>1</td>\n",
       "      <td>1</td>\n",
       "      <td>10062.80</td>\n",
       "      <td>0</td>\n",
       "    </tr>\n",
       "    <tr>\n",
       "      <td>7</td>\n",
       "      <td>8</td>\n",
       "      <td>15656148</td>\n",
       "      <td>Obinna</td>\n",
       "      <td>376</td>\n",
       "      <td>Germany</td>\n",
       "      <td>Female</td>\n",
       "      <td>29</td>\n",
       "      <td>4.0</td>\n",
       "      <td>115046.74</td>\n",
       "      <td>4</td>\n",
       "      <td>1</td>\n",
       "      <td>0</td>\n",
       "      <td>119346.88</td>\n",
       "      <td>1</td>\n",
       "    </tr>\n",
       "    <tr>\n",
       "      <td>8</td>\n",
       "      <td>9</td>\n",
       "      <td>15792365</td>\n",
       "      <td>He</td>\n",
       "      <td>501</td>\n",
       "      <td>France</td>\n",
       "      <td>Male</td>\n",
       "      <td>44</td>\n",
       "      <td>4.0</td>\n",
       "      <td>142051.07</td>\n",
       "      <td>2</td>\n",
       "      <td>0</td>\n",
       "      <td>1</td>\n",
       "      <td>74940.50</td>\n",
       "      <td>0</td>\n",
       "    </tr>\n",
       "    <tr>\n",
       "      <td>9</td>\n",
       "      <td>10</td>\n",
       "      <td>15592389</td>\n",
       "      <td>H?</td>\n",
       "      <td>684</td>\n",
       "      <td>France</td>\n",
       "      <td>Male</td>\n",
       "      <td>27</td>\n",
       "      <td>2.0</td>\n",
       "      <td>134603.88</td>\n",
       "      <td>1</td>\n",
       "      <td>1</td>\n",
       "      <td>1</td>\n",
       "      <td>71725.73</td>\n",
       "      <td>0</td>\n",
       "    </tr>\n",
       "  </tbody>\n",
       "</table>\n",
       "</div>"
      ],
      "text/plain": [
       "   RowNumber  CustomerId   Surname  CreditScore Geography  Gender  Age  \\\n",
       "0          1    15634602  Hargrave          619    France  Female   42   \n",
       "1          2    15647311      Hill          608     Spain  Female   41   \n",
       "2          3    15619304      Onio          502    France  Female   42   \n",
       "3          4    15701354      Boni          699    France  Female   39   \n",
       "4          5    15737888  Mitchell          850     Spain  Female   43   \n",
       "5          6    15574012       Chu          645     Spain    Male   44   \n",
       "6          7    15592531  Bartlett          822    France    Male   50   \n",
       "7          8    15656148    Obinna          376   Germany  Female   29   \n",
       "8          9    15792365        He          501    France    Male   44   \n",
       "9         10    15592389        H?          684    France    Male   27   \n",
       "\n",
       "   Tenure    Balance  NumOfProducts  HasCrCard  IsActiveMember  \\\n",
       "0     2.0       0.00              1          1               1   \n",
       "1     1.0   83807.86              1          0               1   \n",
       "2     8.0  159660.80              3          1               0   \n",
       "3     1.0       0.00              2          0               0   \n",
       "4     2.0  125510.82              1          1               1   \n",
       "5     8.0  113755.78              2          1               0   \n",
       "6     7.0       0.00              2          1               1   \n",
       "7     4.0  115046.74              4          1               0   \n",
       "8     4.0  142051.07              2          0               1   \n",
       "9     2.0  134603.88              1          1               1   \n",
       "\n",
       "   EstimatedSalary  Exited  \n",
       "0        101348.88       1  \n",
       "1        112542.58       0  \n",
       "2        113931.57       1  \n",
       "3         93826.63       0  \n",
       "4         79084.10       0  \n",
       "5        149756.71       1  \n",
       "6         10062.80       0  \n",
       "7        119346.88       1  \n",
       "8         74940.50       0  \n",
       "9         71725.73       0  "
      ]
     },
     "metadata": {},
     "output_type": "display_data"
    }
   ],
   "source": [
    "churn_data.info\n",
    "display(churn_data.head(10))\n",
    "#print(churn_data.corr())\n"
   ]
  },
  {
   "cell_type": "code",
   "execution_count": 4,
   "metadata": {},
   "outputs": [],
   "source": [
    "churn_data.columns = [x.lower() for x in churn_data.columns]"
   ]
  },
  {
   "cell_type": "markdown",
   "metadata": {},
   "source": [
    "Обнаружены пропуски в столбце Tenure, нет корреляции с другими столбцами. Заменим пропуски на среднее по столбцу"
   ]
  },
  {
   "cell_type": "code",
   "execution_count": 5,
   "metadata": {},
   "outputs": [
    {
     "name": "stdout",
     "output_type": "stream",
     "text": [
      "<class 'pandas.core.frame.DataFrame'>\n",
      "RangeIndex: 10000 entries, 0 to 9999\n",
      "Data columns (total 14 columns):\n",
      "rownumber          10000 non-null int64\n",
      "customerid         10000 non-null int64\n",
      "surname            10000 non-null object\n",
      "creditscore        10000 non-null int64\n",
      "geography          10000 non-null object\n",
      "gender             10000 non-null object\n",
      "age                10000 non-null int64\n",
      "tenure             10000 non-null int64\n",
      "balance            10000 non-null float64\n",
      "numofproducts      10000 non-null int64\n",
      "hascrcard          10000 non-null int64\n",
      "isactivemember     10000 non-null int64\n",
      "estimatedsalary    10000 non-null float64\n",
      "exited             10000 non-null int64\n",
      "dtypes: float64(2), int64(9), object(3)\n",
      "memory usage: 1.1+ MB\n"
     ]
    }
   ],
   "source": [
    "churn_data['tenure'] = churn_data['tenure'].fillna(round(churn_data['tenure'].mean()))\n",
    "churn_data['tenure'] = churn_data['tenure'].astype('int')\n",
    "\n",
    "churn_data.info()"
   ]
  },
  {
   "cell_type": "code",
   "execution_count": 6,
   "metadata": {
    "scrolled": false
   },
   "outputs": [
    {
     "name": "stdout",
     "output_type": "stream",
     "text": [
      "count    10000.000000\n",
      "mean       650.528800\n",
      "std         96.653299\n",
      "min        350.000000\n",
      "25%        584.000000\n",
      "50%        652.000000\n",
      "75%        718.000000\n",
      "max        850.000000\n",
      "Name: creditscore, dtype: float64\n"
     ]
    },
    {
     "data": {
      "image/png": "[encoded data removed]",
      "text/plain": [
       "<Figure size 432x288 with 1 Axes>"
      ]
     },
     "metadata": {
      "needs_background": "light"
     },
     "output_type": "display_data"
    },
    {
     "data": {
      "image/png": "[encoded data removed]",
      "text/plain": [
       "<Figure size 432x288 with 1 Axes>"
      ]
     },
     "metadata": {
      "needs_background": "light"
     },
     "output_type": "display_data"
    },
    {
     "name": "stdout",
     "output_type": "stream",
     "text": [
      "count    10000.000000\n",
      "mean        38.921800\n",
      "std         10.487806\n",
      "min         18.000000\n",
      "25%         32.000000\n",
      "50%         37.000000\n",
      "75%         44.000000\n",
      "max         92.000000\n",
      "Name: age, dtype: float64\n"
     ]
    },
    {
     "data": {
      "image/png": "[encoded data removed]",
      "text/plain": [
       "<Figure size 432x288 with 1 Axes>"
      ]
     },
     "metadata": {
      "needs_background": "light"
     },
     "output_type": "display_data"
    },
    {
     "data": {
      "image/png": "[encoded data removed]",
      "text/plain": [
       "<Figure size 432x288 with 1 Axes>"
      ]
     },
     "metadata": {
      "needs_background": "light"
     },
     "output_type": "display_data"
    },
    {
     "name": "stdout",
     "output_type": "stream",
     "text": [
      "count    10000.00000\n",
      "mean         4.99790\n",
      "std          2.76001\n",
      "min          0.00000\n",
      "25%          3.00000\n",
      "50%          5.00000\n",
      "75%          7.00000\n",
      "max         10.00000\n",
      "Name: tenure, dtype: float64\n"
     ]
    },
    {
     "data": {
      "image/png": "[encoded data removed]",
      "text/plain": [
       "<Figure size 432x288 with 1 Axes>"
      ]
     },
     "metadata": {
      "needs_background": "light"
     },
     "output_type": "display_data"
    },
    {
     "data": {
      "image/png": "[encoded data removed]",
      "text/plain": [
       "<Figure size 432x288 with 1 Axes>"
      ]
     },
     "metadata": {
      "needs_background": "light"
     },
     "output_type": "display_data"
    },
    {
     "name": "stdout",
     "output_type": "stream",
     "text": [
      "count     10000.000000\n",
      "mean      76485.889288\n",
      "std       62397.405202\n",
      "min           0.000000\n",
      "25%           0.000000\n",
      "50%       97198.540000\n",
      "75%      127644.240000\n",
      "max      250898.090000\n",
      "Name: balance, dtype: float64\n"
     ]
    },
    {
     "data": {
      "image/png": "[encoded data removed]",
      "text/plain": [
       "<Figure size 432x288 with 1 Axes>"
      ]
     },
     "metadata": {
      "needs_background": "light"
     },
     "output_type": "display_data"
    },
    {
     "data": {
      "image/png": "[encoded data removed]",
      "text/plain": [
       "<Figure size 432x288 with 1 Axes>"
      ]
     },
     "metadata": {
      "needs_background": "light"
     },
     "output_type": "display_data"
    },
    {
     "name": "stdout",
     "output_type": "stream",
     "text": [
      "count    10000.000000\n",
      "mean         1.530200\n",
      "std          0.581654\n",
      "min          1.000000\n",
      "25%          1.000000\n",
      "50%          1.000000\n",
      "75%          2.000000\n",
      "max          4.000000\n",
      "Name: numofproducts, dtype: float64\n"
     ]
    },
    {
     "data": {
      "image/png": "[encoded data removed]",
      "text/plain": [
       "<Figure size 432x288 with 1 Axes>"
      ]
     },
     "metadata": {
      "needs_background": "light"
     },
     "output_type": "display_data"
    },
    {
     "data": {
      "image/png": "[encoded data removed]",
      "text/plain": [
       "<Figure size 432x288 with 1 Axes>"
      ]
     },
     "metadata": {
      "needs_background": "light"
     },
     "output_type": "display_data"
    },
    {
     "name": "stdout",
     "output_type": "stream",
     "text": [
      "count     10000.000000\n",
      "mean     100090.239881\n",
      "std       57510.492818\n",
      "min          11.580000\n",
      "25%       51002.110000\n",
      "50%      100193.915000\n",
      "75%      149388.247500\n",
      "max      199992.480000\n",
      "Name: estimatedsalary, dtype: float64\n"
     ]
    },
    {
     "data": {
      "image/png": "[encoded data removed]",
      "text/plain": [
       "<Figure size 432x288 with 1 Axes>"
      ]
     },
     "metadata": {
      "needs_background": "light"
     },
     "output_type": "display_data"
    },
    {
     "data": {
      "image/png": "[encoded data removed]",
      "text/plain": [
       "<Figure size 432x288 with 1 Axes>"
      ]
     },
     "metadata": {
      "needs_background": "light"
     },
     "output_type": "display_data"
    }
   ],
   "source": [
    "churn_columns = ('creditscore','age','tenure','balance','numofproducts','estimatedsalary')\n",
    "\n",
    "for i in churn_columns:\n",
    "   \n",
    "    print(churn_data[i].describe())\n",
    "    churn_data[i].hist(bins=100)\n",
    "    plt.show()\n",
    "    churn_data.boxplot(column=i)\n",
    "    plt.show()\n"
   ]
  },
  {
   "cell_type": "markdown",
   "metadata": {},
   "source": [
    "Обнаружил два выбивающихся значения в столбце с кредитным рейтингом, значение 850, а также баланс = 0. Решил избавиться от этих значений, так как рейтинг 850 максимальный, следовательно скорее всего это еще и рейтинг присваемый людям, которые не брали кредит. Баланс 0 - пользователи скорее всего не пользуются данным счетом. Оба этих значения искажают данные."
   ]
  },
  {
   "cell_type": "code",
   "execution_count": 7,
   "metadata": {},
   "outputs": [
    {
     "name": "stdout",
     "output_type": "stream",
     "text": [
      "<class 'pandas.core.frame.DataFrame'>\n",
      "Int64Index: 9767 entries, 0 to 9999\n",
      "Data columns (total 11 columns):\n",
      "creditscore        9767 non-null int64\n",
      "geography          9767 non-null object\n",
      "gender             9767 non-null object\n",
      "age                9767 non-null int64\n",
      "tenure             9767 non-null int64\n",
      "balance            9767 non-null float64\n",
      "numofproducts      9767 non-null int64\n",
      "hascrcard          9767 non-null int64\n",
      "isactivemember     9767 non-null int64\n",
      "estimatedsalary    9767 non-null float64\n",
      "exited             9767 non-null int64\n",
      "dtypes: float64(2), int64(7), object(2)\n",
      "memory usage: 915.7+ KB\n"
     ]
    }
   ],
   "source": [
    "churn_data_clean = churn_data.query('creditscore != 850')\n",
    "churn_data_clean = churn_data_clean.drop(churn_data_clean.columns[[0, 1, 2]], axis='columns')\n",
    "warnings.simplefilter(\"ignore\")\n",
    "rows = []\n",
    "churn_data_clean.info()\n"
   ]
  },
  {
   "cell_type": "markdown",
   "metadata": {},
   "source": [
    "Убрал столбцы с фамилией, номер пользователя, индексом строки, так как они не являются инофрмативными "
   ]
  },
  {
   "cell_type": "code",
   "execution_count": 8,
   "metadata": {},
   "outputs": [
    {
     "data": {
      "text/plain": [
       "0    7773\n",
       "1    1994\n",
       "Name: exited, dtype: int64"
      ]
     },
     "execution_count": 8,
     "metadata": {},
     "output_type": "execute_result"
    }
   ],
   "source": [
    "churn_data_clean['exited'].value_counts()"
   ]
  },
  {
   "cell_type": "markdown",
   "metadata": {},
   "source": [
    "Наблюдается дисбаланс классов, разница между классами почти в 4 раза."
   ]
  },
  {
   "cell_type": "markdown",
   "metadata": {},
   "source": [
    "# 2. Исследование задачи"
   ]
  },
  {
   "cell_type": "code",
   "execution_count": 10,
   "metadata": {},
   "outputs": [
    {
     "name": "stdout",
     "output_type": "stream",
     "text": [
      "(5859, 11) (1954, 11) (1954, 11) (5859,) (1954,) (1954,)\n"
     ]
    }
   ],
   "source": [
    "data_ohe = pd.get_dummies(churn_data_clean, drop_first=True)\n",
    "target = data_ohe['exited']\n",
    "features = data_ohe.drop('exited', axis=1)\n",
    "\n",
    "\n",
    "features_train, features_valid, target_train, target_valid = \\\n",
    "    train_test_split(features, target, stratify=target, test_size=0.20, random_state=12345)\n",
    "\n",
    "\n",
    "features_train, features_test, target_train, target_test = \\\n",
    "    train_test_split(features_train, target_train, stratify=target_train, test_size=0.25, random_state=12345)\n",
    "\n",
    "\n",
    "print(features_train.shape, features_valid.shape, features_test.shape, \\\n",
    "      target_train.shape, target_valid.shape, target_test.shape)\n",
    "\n",
    "numeric = ['creditscore','age','balance','numofproducts','estimatedsalary']\n",
    "\n",
    "scaler = StandardScaler()\n",
    "scaler.fit(features_train[numeric])\n",
    "\n",
    "features_train[numeric] = scaler.transform(features_train[numeric])\n",
    "features_valid[numeric] = scaler.transform(features_valid[numeric])\n",
    "features_test[numeric] = scaler.transform(features_test[numeric])\n",
    "\n",
    "#scaler.fit(features_train_grid[numeric]) ### не нужно\n",
    "#features_train_grid_scaled = scaler.transform(features_train_grid[numeric]) ### не нужно\n"
   ]
  },
  {
   "cell_type": "markdown",
   "metadata": {},
   "source": [
    "Разделил данные на три выборки. Провел OHE-коидрование, удалил избыточные столбцы. Провел масштабирование данных."
   ]
  },
  {
   "cell_type": "code",
   "execution_count": 11,
   "metadata": {},
   "outputs": [],
   "source": [
    "def grid_func_dt(features, target, deep_first, deep_last):\n",
    "    param_grid_dt = {'max_depth': [deep for deep in range(deep_first,deep_last)]}\n",
    "\n",
    "    gs = GridSearchCV(DecisionTreeClassifier(), param_grid=param_grid_dt, scoring='f1')\n",
    "\n",
    "    gs.fit(features, target)\n",
    "    \n",
    "    best_param = gs.best_params_\n",
    "    max_depth_dt = gs.best_params_['max_depth']\n",
    "    print('max_depth:',max_depth_dt)\n",
    "    \n",
    "    def func_dec_tree(features_train_dt, target_train_dt, features_valid_dt, target_valid_dt, model_tp):\n",
    "        \n",
    "        model = DecisionTreeClassifier(random_state=12345, max_depth=max_depth_dt)\n",
    "        model.fit(features_train_dt, target_train_dt)\n",
    "        \n",
    "        predictions_valid = model.predict(features_valid_dt)\n",
    "        predictions_train = model.predict(features_train_dt)\n",
    "        \n",
    "        probabilities_valid = model.predict_proba(features_valid_dt)\n",
    "        probabilities_one_valid = probabilities_valid[:, 1]\n",
    "\n",
    "        auc_roc = roc_auc_score(target_valid_dt, probabilities_one_valid)\n",
    "        \n",
    "        f1_train = f1_score(target_train_dt, predictions_train)\n",
    "        f1_valid = f1_score(target_valid_dt, predictions_valid)\n",
    "        \n",
    "        fpr, tpr, threshold = metrics.roc_curve(target_valid_dt, probabilities_one_valid)\n",
    "        roc_auc = metrics.auc(fpr, tpr)\n",
    "\n",
    "\n",
    "\n",
    "        plt.title('Receiver Operating Characteristic')\n",
    "        plt.plot(fpr, tpr, 'b', label = 'AUC = %0.2f' % roc_auc)\n",
    "        plt.legend(loc = 'lower right')\n",
    "        plt.plot([0, 1], [0, 1],'r--')\n",
    "        plt.xlim([0, 1])\n",
    "        plt.ylim([0, 1])\n",
    "        plt.ylabel('True Positive Rate')\n",
    "        plt.xlabel('False Positive Rate')\n",
    "        plt.show()    \n",
    "\n",
    "        \n",
    "        score = {'model':'Decision_tree', 'model_type': model_tp,\\\n",
    "                 'auc_roc': auc_roc, 'train_f1': f1_train, 'f1_score': f1_valid,\n",
    "                'max_depth': max_depth_dt, 'n_estimators' : -1}\n",
    "        \n",
    "        \n",
    "        return score\n",
    "\n",
    "    return func_dec_tree\n",
    "\n"
   ]
  },
  {
   "cell_type": "code",
   "execution_count": 12,
   "metadata": {},
   "outputs": [
    {
     "name": "stdout",
     "output_type": "stream",
     "text": [
      "max_depth: 8\n"
     ]
    },
    {
     "data": {
      "image/png": "[encoded data removed]",
      "text/plain": [
       "<Figure size 432x288 with 1 Axes>"
      ]
     },
     "metadata": {
      "needs_background": "light"
     },
     "output_type": "display_data"
    },
    {
     "name": "stdout",
     "output_type": "stream",
     "text": [
      "{'model': 'Decision_tree', 'model_type': 'classic', 'auc_roc': 0.8093521585313767, 'train_f1': 0.6629944917376064, 'f1_score': 0.5964912280701754, 'max_depth': 8, 'n_estimators': -1}\n"
     ]
    }
   ],
   "source": [
    "best_param_dt = grid_func_dt(features_train, target_train, 1, 16)\n",
    "dec_tree_score = best_param_dt(features_train, target_train, \n",
    "                               features_valid, target_valid, 'classic')\n",
    "\n",
    "print(dec_tree_score)"
   ]
  },
  {
   "cell_type": "code",
   "execution_count": 13,
   "metadata": {},
   "outputs": [
    {
     "name": "stdout",
     "output_type": "stream",
     "text": [
      "8\n"
     ]
    }
   ],
   "source": [
    "max_depth_dec_tree = dec_tree_score['max_depth']\n",
    "rows.append(dec_tree_score)\n",
    "#print(rows)\n",
    "print(max_depth_dec_tree)"
   ]
  },
  {
   "cell_type": "markdown",
   "metadata": {},
   "source": [
    "Написал функцию, которая подбирает оптимальный параметр для дерева решений относительно f1 значения, а также использует этот параметр для построения модели.\n"
   ]
  },
  {
   "cell_type": "code",
   "execution_count": 14,
   "metadata": {},
   "outputs": [],
   "source": [
    "def grid_func_rf(features, target, deep_first, deep_last, n_first, n_last, n_step):\n",
    "    \n",
    "\n",
    "    param_grid_rf = {'max_depth': [deep for deep in range(deep_first, deep_last)],\\\n",
    "                     'n_estimators': [n for n in range(n_first, n_last, n_step)]}\n",
    "\n",
    "    gs = GridSearchCV(RandomForestClassifier(), param_grid=param_grid_rf, scoring='f1')\n",
    "\n",
    "    gs.fit(features, target)\n",
    "    \n",
    "    best_param = gs.best_params_\n",
    "    max_depth_rf = gs.best_params_['max_depth']\n",
    "    n_estimators_rf = gs.best_params_['n_estimators']\n",
    "    \n",
    "    print('max_depth:', max_depth_rf)\n",
    "    print('n_estimators:', n_estimators_rf)\n",
    "    \n",
    "    def func_rand_forest(features_train_rf, target_train_rf, features_valid_rf, target_valid_rf, model_tp):\n",
    "        \n",
    "        model = RandomForestClassifier(random_state=12345,\n",
    "                                       n_estimators=n_estimators_rf,\n",
    "                                       max_depth=max_depth_rf)\n",
    "        model.fit(features_train_rf, target_train_rf)\n",
    "        \n",
    "        predictions_valid = model.predict(features_valid_rf)\n",
    "        predictions_train = model.predict(features_train_rf)\n",
    "        \n",
    "        probabilities_valid = model.predict_proba(features_valid_rf)\n",
    "        probabilities_one_valid = probabilities_valid[:, 1]\n",
    "\n",
    "        auc_roc = roc_auc_score(target_valid_rf, probabilities_one_valid)\n",
    "        \n",
    "        f1_train = f1_score(target_train_rf, predictions_train)\n",
    "        f1_valid = f1_score(target_valid_rf, predictions_valid)\n",
    "        \n",
    "        fpr, tpr, threshold = metrics.roc_curve(target_valid_rf, probabilities_one_valid)\n",
    "        roc_auc = metrics.auc(fpr, tpr)\n",
    "\n",
    "        plt.title('Receiver Operating Characteristic')\n",
    "        plt.plot(fpr, tpr, 'b', label = 'AUC = %0.2f' % roc_auc)\n",
    "        plt.legend(loc = 'lower right')\n",
    "        plt.plot([0, 1], [0, 1],'r--')\n",
    "        plt.xlim([0, 1])\n",
    "        plt.ylim([0, 1])\n",
    "        plt.ylabel('True Positive Rate')\n",
    "        plt.xlabel('False Positive Rate')\n",
    "        plt.show()    \n",
    "        \n",
    "        \n",
    "        score = {'model':'Random_forest', 'model_type': model_tp,\n",
    "                'auc_roc': auc_roc, 'train_f1': f1_train, 'f1_score': f1_valid,\n",
    "                'max_depth': max_depth_rf, 'n_estimators' : n_estimators_rf}\n",
    "        \n",
    "        \n",
    "        return score\n",
    "\n",
    "    return func_rand_forest"
   ]
  },
  {
   "cell_type": "code",
   "execution_count": 15,
   "metadata": {},
   "outputs": [
    {
     "name": "stdout",
     "output_type": "stream",
     "text": [
      "max_depth: 15\n",
      "n_estimators: 51\n"
     ]
    },
    {
     "data": {
      "image/png": "[encoded data removed]",
      "text/plain": [
       "<Figure size 432x288 with 1 Axes>"
      ]
     },
     "metadata": {
      "needs_background": "light"
     },
     "output_type": "display_data"
    },
    {
     "name": "stdout",
     "output_type": "stream",
     "text": [
      "{'model': 'Random_forest', 'model_type': 'classic', 'auc_roc': 0.8490543077952115, 'train_f1': 0.9636048526863085, 'f1_score': 0.5670261941448381, 'max_depth': 15, 'n_estimators': 51}\n"
     ]
    }
   ],
   "source": [
    "best_param_rf = grid_func_rf(features_train, target_train, 1, 16, 1 ,100, 10)\n",
    "rand_forest_score = best_param_rf(features_train, target_train, features_valid, target_valid, 'classic')\n",
    "\n",
    "print(rand_forest_score)"
   ]
  },
  {
   "cell_type": "markdown",
   "metadata": {},
   "source": [
    "Функция для случайного леса."
   ]
  },
  {
   "cell_type": "code",
   "execution_count": 16,
   "metadata": {},
   "outputs": [
    {
     "name": "stdout",
     "output_type": "stream",
     "text": [
      "Глубина: 15 Количество деревьев: 51\n"
     ]
    }
   ],
   "source": [
    "max_depth_rand_for = rand_forest_score['max_depth']\n",
    "n_estimators_rand_for = rand_forest_score['n_estimators']\n",
    "rows.append(rand_forest_score)\n",
    "print('Глубина:', max_depth_rand_for, 'Количество деревьев:',n_estimators_rand_for)\n",
    "#print(rows)"
   ]
  },
  {
   "cell_type": "code",
   "execution_count": 17,
   "metadata": {},
   "outputs": [],
   "source": [
    "def func_lr(features_train, target_train, features_valid, target_valid, model_tp):\n",
    "    model = LogisticRegression(random_state=12345, solver='liblinear') # модель логистическая регрессия\n",
    "\n",
    "    model.fit(features_train, target_train)\n",
    "\n",
    "    predictions_valid = model.predict(features_valid)\n",
    "    predictions_train = model.predict(features_train)\n",
    "\n",
    "    probabilities_valid = model.predict_proba(features_valid)\n",
    "    probabilities_one_valid = probabilities_valid[:, 1]\n",
    "    \n",
    "    \n",
    "    f1_train = f1_score(target_train, predictions_train)\n",
    "    f1_valid = f1_score(target_valid, predictions_valid)\n",
    "    \n",
    "    auc_roc = roc_auc_score(target_valid, probabilities_one_valid)\n",
    "    \n",
    "    fpr, tpr, threshold = metrics.roc_curve(target_valid, probabilities_one_valid)\n",
    "    roc_auc = metrics.auc(fpr, tpr)\n",
    "\n",
    "    plt.title('Receiver Operating Characteristic')\n",
    "    plt.plot(fpr, tpr, 'b', label = 'AUC = %0.2f' % roc_auc)\n",
    "    plt.legend(loc = 'lower right')\n",
    "    plt.plot([0, 1], [0, 1],'r--')\n",
    "    plt.xlim([0, 1])\n",
    "    plt.ylim([0, 1])\n",
    "    plt.ylabel('True Positive Rate')\n",
    "    plt.xlabel('False Positive Rate')\n",
    "    plt.show()    \n",
    "    \n",
    "    score = {'model':'Logistic_regression', 'model_type': model_tp, \n",
    "             'auc_roc': auc_roc, 'train_f1': f1_train, 'f1_score': f1_valid,\n",
    "             'max_depth': -1, 'n_estimators' : -1}\n",
    "    \n",
    "\n",
    "    return score"
   ]
  },
  {
   "cell_type": "code",
   "execution_count": 18,
   "metadata": {},
   "outputs": [
    {
     "data": {
      "image/png": "[encoded data removed]",
      "text/plain": [
       "<Figure size 432x288 with 1 Axes>"
      ]
     },
     "metadata": {
      "needs_background": "light"
     },
     "output_type": "display_data"
    },
    {
     "name": "stdout",
     "output_type": "stream",
     "text": [
      "{'model': 'Logistic_regression', 'model_type': 'classic', 'auc_roc': 0.7621062302057395, 'train_f1': 0.3282114320835894, 'f1_score': 0.29259259259259257, 'max_depth': -1, 'n_estimators': -1}\n"
     ]
    }
   ],
   "source": [
    "log_reg_score = func_lr(features_train, target_train, features_valid, target_valid, 'classic')\n",
    "print(log_reg_score)"
   ]
  },
  {
   "cell_type": "code",
   "execution_count": 19,
   "metadata": {},
   "outputs": [],
   "source": [
    "rows.append(log_reg_score)\n",
    "#print(rows)"
   ]
  },
  {
   "cell_type": "markdown",
   "metadata": {},
   "source": [
    "    В целом все модели показали меньший результат, чем необходим, стоит заняться балансировкой классов. Модель логистическая регрессия показала самый плохой результаты. Значения f1  и данные модели были внесены в список."
   ]
  },
  {
   "cell_type": "markdown",
   "metadata": {},
   "source": [
    "# 3. Борьба с дисбалансом"
   ]
  },
  {
   "cell_type": "markdown",
   "metadata": {},
   "source": [
    "Сбалансируем классы и проверим модели еще раз. Так как данных не так много, увеличим меньший класс."
   ]
  },
  {
   "cell_type": "code",
   "execution_count": 20,
   "metadata": {},
   "outputs": [
    {
     "data": {
      "text/plain": [
       "0    7773\n",
       "1    1994\n",
       "Name: exited, dtype: int64"
      ]
     },
     "execution_count": 20,
     "metadata": {},
     "output_type": "execute_result"
    }
   ],
   "source": [
    "churn_data_clean['exited'].value_counts()"
   ]
  },
  {
   "cell_type": "markdown",
   "metadata": {},
   "source": [
    "Данные несбалансированы , \"1\" почти в 4 раза меньше, чем \"0\"."
   ]
  },
  {
   "cell_type": "code",
   "execution_count": 21,
   "metadata": {},
   "outputs": [],
   "source": [
    "def upsample(features, target, repeat):\n",
    "    features_zeros = features[target == 0]\n",
    "    features_ones = features[target == 1]\n",
    "    target_zeros = target[target == 0]\n",
    "    target_ones = target[target == 1]\n",
    "\n",
    "    features_upsampled = pd.concat([features_zeros] + [features_ones] * repeat)\n",
    "    target_upsampled = pd.concat([target_zeros] + [target_ones] * repeat)\n",
    "    \n",
    "    features_upsampled, target_upsampled = shuffle(\n",
    "        features_upsampled, target_upsampled, random_state=12345)\n",
    "    \n",
    "    return features_upsampled, target_upsampled\n",
    "\n",
    "features_upsampled, target_upsampled = upsample(features_train, target_train, 4) \n"
   ]
  },
  {
   "cell_type": "code",
   "execution_count": 22,
   "metadata": {},
   "outputs": [
    {
     "name": "stdout",
     "output_type": "stream",
     "text": [
      "max_depth: 8\n"
     ]
    },
    {
     "data": {
      "image/png": "[encoded data removed]",
      "text/plain": [
       "<Figure size 432x288 with 1 Axes>"
      ]
     },
     "metadata": {
      "needs_background": "light"
     },
     "output_type": "display_data"
    },
    {
     "name": "stdout",
     "output_type": "stream",
     "text": [
      "{'model': 'Decision_tree', 'model_type': 'upsampled', 'auc_roc': 0.789342326878289, 'train_f1': 0.8271514132604812, 'f1_score': 0.5650406504065041, 'max_depth': 8, 'n_estimators': -1}\n"
     ]
    }
   ],
   "source": [
    "best_param_dt_up = grid_func_dt(features_upsampled, target_upsampled, max_depth_dec_tree, max_depth_dec_tree + 1)\n",
    "dec_tree_score_up = best_param_dt_up(features_upsampled, target_upsampled,\\\n",
    "                                     features_valid, target_valid, 'upsampled')\n",
    "\n",
    "print(dec_tree_score_up)"
   ]
  },
  {
   "cell_type": "markdown",
   "metadata": {},
   "source": [
    "Здесь использовал гиперпараметры, подобранные на этапе 2. "
   ]
  },
  {
   "cell_type": "code",
   "execution_count": 23,
   "metadata": {},
   "outputs": [],
   "source": [
    "rows.append(dec_tree_score_up)"
   ]
  },
  {
   "cell_type": "code",
   "execution_count": 24,
   "metadata": {},
   "outputs": [
    {
     "name": "stdout",
     "output_type": "stream",
     "text": [
      "max_depth: 15\n",
      "n_estimators: 51\n"
     ]
    },
    {
     "data": {
      "image/png": "[encoded data removed]",
      "text/plain": [
       "<Figure size 432x288 with 1 Axes>"
      ]
     },
     "metadata": {
      "needs_background": "light"
     },
     "output_type": "display_data"
    },
    {
     "name": "stdout",
     "output_type": "stream",
     "text": [
      "{'model': 'Random_forest', 'model_type': 'upsampled', 'auc_roc': 0.8464239376576489, 'train_f1': 0.9968743488226713, 'f1_score': 0.608355091383812, 'max_depth': 15, 'n_estimators': 51}\n"
     ]
    }
   ],
   "source": [
    "best_param_rf_up = grid_func_rf(features_upsampled, target_upsampled, max_depth_rand_for, max_depth_rand_for + 1,\n",
    "                                n_estimators_rand_for, n_estimators_rand_for + 1, 1)\n",
    "rand_forest_score_up = best_param_rf_up(features_upsampled, target_upsampled,\\\n",
    "                                     features_valid, target_valid, 'upsampled')\n",
    "\n",
    "print(rand_forest_score_up)"
   ]
  },
  {
   "cell_type": "code",
   "execution_count": 25,
   "metadata": {},
   "outputs": [],
   "source": [
    "rows.append(rand_forest_score_up)"
   ]
  },
  {
   "cell_type": "code",
   "execution_count": 26,
   "metadata": {},
   "outputs": [
    {
     "data": {
      "image/png": "[encoded data removed]",
      "text/plain": [
       "<Figure size 432x288 with 1 Axes>"
      ]
     },
     "metadata": {
      "needs_background": "light"
     },
     "output_type": "display_data"
    },
    {
     "name": "stdout",
     "output_type": "stream",
     "text": [
      "{'model': 'Logistic_regression', 'model_type': 'upsampled', 'auc_roc': 0.7650476674000114, 'train_f1': 0.7012053288221611, 'f1_score': 0.49131944444444453, 'max_depth': -1, 'n_estimators': -1}\n"
     ]
    }
   ],
   "source": [
    "log_reg_score_up = func_lr(features_upsampled, target_upsampled, features_valid, target_valid, 'upsampled')\n",
    "print(log_reg_score_up) "
   ]
  },
  {
   "cell_type": "code",
   "execution_count": 27,
   "metadata": {},
   "outputs": [],
   "source": [
    "rows.append(log_reg_score_up)"
   ]
  },
  {
   "cell_type": "markdown",
   "metadata": {},
   "source": [
    "### Предварительный итог\n",
    "Проверил модели с увеличенным классом, рассматривал масшатабированные и не масшатабированные данные.\n",
    "Лучшей моделью окозалась случайный лес с масштабированием"
   ]
  },
  {
   "cell_type": "markdown",
   "metadata": {},
   "source": [
    "Попробуем сбалансировать с помощью уменьшения большего класса."
   ]
  },
  {
   "cell_type": "code",
   "execution_count": 28,
   "metadata": {},
   "outputs": [],
   "source": [
    "def downsample(features, target, fraction):\n",
    "    features_zeros = features[target == 0]\n",
    "    features_ones = features[target == 1]\n",
    "    target_zeros = target[target == 0]\n",
    "    target_ones = target[target == 1]\n",
    "\n",
    "    features_downsampled = pd.concat(\n",
    "        [features_zeros.sample(frac=fraction, random_state=12345)] + [features_ones])\n",
    "    target_downsampled = pd.concat(\n",
    "        [target_zeros.sample(frac=fraction, random_state=12345)] + [target_ones])\n",
    "    \n",
    "    features_downsampled, target_downsampled = shuffle(\n",
    "        features_downsampled, target_downsampled, random_state=12345)\n",
    "    \n",
    "    return features_downsampled, target_downsampled\n",
    "\n",
    "features_downsampled, target_downsampled = downsample(features_train, target_train, 0.25)"
   ]
  },
  {
   "cell_type": "code",
   "execution_count": 29,
   "metadata": {},
   "outputs": [
    {
     "name": "stdout",
     "output_type": "stream",
     "text": [
      "max_depth: 8\n"
     ]
    },
    {
     "data": {
      "image/png": "[encoded data removed]",
      "text/plain": [
       "<Figure size 432x288 with 1 Axes>"
      ]
     },
     "metadata": {
      "needs_background": "light"
     },
     "output_type": "display_data"
    },
    {
     "name": "stdout",
     "output_type": "stream",
     "text": [
      "{'model': 'Decision_tree', 'model_type': 'downsampled', 'auc_roc': 0.7870826584145251, 'train_f1': 0.8480413258717174, 'f1_score': 0.5268109125117593, 'max_depth': 8, 'n_estimators': -1}\n"
     ]
    }
   ],
   "source": [
    "best_param_dt_down = grid_func_dt(features_downsampled, target_downsampled, max_depth_dec_tree, max_depth_dec_tree + 1)\n",
    "dec_tree_score_down = best_param_dt_down(features_downsampled, target_downsampled,\\\n",
    "                                     features_valid, target_valid, 'downsampled')\n",
    "\n",
    "print(dec_tree_score_down)"
   ]
  },
  {
   "cell_type": "code",
   "execution_count": 30,
   "metadata": {},
   "outputs": [],
   "source": [
    "rows.append(dec_tree_score_down)"
   ]
  },
  {
   "cell_type": "code",
   "execution_count": 31,
   "metadata": {},
   "outputs": [
    {
     "name": "stdout",
     "output_type": "stream",
     "text": [
      "max_depth: 15\n",
      "n_estimators: 51\n"
     ]
    },
    {
     "data": {
      "image/png": "[encoded data removed]",
      "text/plain": [
       "<Figure size 432x288 with 1 Axes>"
      ]
     },
     "metadata": {
      "needs_background": "light"
     },
     "output_type": "display_data"
    },
    {
     "name": "stdout",
     "output_type": "stream",
     "text": [
      "{'model': 'Random_forest', 'model_type': 'downsampled', 'auc_roc': 0.8429868884429724, 'train_f1': 0.9995821145006268, 'f1_score': 0.5703275529865125, 'max_depth': 15, 'n_estimators': 51}\n"
     ]
    }
   ],
   "source": [
    "best_param_rf_down = grid_func_rf(features_downsampled, target_downsampled, max_depth_rand_for, max_depth_rand_for + 1,\n",
    "                                n_estimators_rand_for, n_estimators_rand_for + 1, 1)\n",
    "rand_forest_score_down = best_param_rf_down(features_downsampled, target_downsampled,\\\n",
    "                                     features_valid, target_valid, 'downsampled')\n",
    "\n",
    "print(rand_forest_score_down)"
   ]
  },
  {
   "cell_type": "code",
   "execution_count": 32,
   "metadata": {},
   "outputs": [],
   "source": [
    "rows.append(rand_forest_score_down)"
   ]
  },
  {
   "cell_type": "code",
   "execution_count": 33,
   "metadata": {},
   "outputs": [
    {
     "data": {
      "image/png": "[encoded data removed]",
      "text/plain": [
       "<Figure size 432x288 with 1 Axes>"
      ]
     },
     "metadata": {
      "needs_background": "light"
     },
     "output_type": "display_data"
    },
    {
     "name": "stdout",
     "output_type": "stream",
     "text": [
      "{'model': 'Logistic_regression', 'model_type': 'downsampled', 'auc_roc': 0.7645641434776651, 'train_f1': 0.7016060862214709, 'f1_score': 0.48437499999999994, 'max_depth': -1, 'n_estimators': -1}\n"
     ]
    }
   ],
   "source": [
    "log_reg_score_down = func_lr(features_downsampled, target_downsampled,\\\n",
    "                             features_valid, target_valid, 'downsampled')\n",
    "print(log_reg_score_down)\n"
   ]
  },
  {
   "cell_type": "code",
   "execution_count": 34,
   "metadata": {},
   "outputs": [],
   "source": [
    "rows.append(log_reg_score_down)"
   ]
  },
  {
   "cell_type": "markdown",
   "metadata": {},
   "source": [
    "В целом увеличение меньшего класса показало лучший результат, так как данных было не очень много. Логично именно увеличить класс, а не уменьшать его"
   ]
  },
  {
   "cell_type": "markdown",
   "metadata": {},
   "source": [
    "### ИТОГ"
   ]
  },
  {
   "cell_type": "code",
   "execution_count": 35,
   "metadata": {},
   "outputs": [
    {
     "data": {
      "text/html": [
       "<div>\n",
       "<style scoped>\n",
       "    .dataframe tbody tr th:only-of-type {\n",
       "        vertical-align: middle;\n",
       "    }\n",
       "\n",
       "    .dataframe tbody tr th {\n",
       "        vertical-align: top;\n",
       "    }\n",
       "\n",
       "    .dataframe thead th {\n",
       "        text-align: right;\n",
       "    }\n",
       "</style>\n",
       "<table border=\"1\" class=\"dataframe\">\n",
       "  <thead>\n",
       "    <tr style=\"text-align: right;\">\n",
       "      <th></th>\n",
       "      <th>model</th>\n",
       "      <th>model_type</th>\n",
       "      <th>auc_roc</th>\n",
       "      <th>train_f1</th>\n",
       "      <th>f1_score</th>\n",
       "      <th>max_depth</th>\n",
       "      <th>n_estimators</th>\n",
       "    </tr>\n",
       "  </thead>\n",
       "  <tbody>\n",
       "    <tr>\n",
       "      <td>0</td>\n",
       "      <td>Random_forest</td>\n",
       "      <td>upsampled</td>\n",
       "      <td>0.846424</td>\n",
       "      <td>0.996874</td>\n",
       "      <td>0.608355</td>\n",
       "      <td>15</td>\n",
       "      <td>51</td>\n",
       "    </tr>\n",
       "    <tr>\n",
       "      <td>1</td>\n",
       "      <td>Decision_tree</td>\n",
       "      <td>classic</td>\n",
       "      <td>0.809352</td>\n",
       "      <td>0.662994</td>\n",
       "      <td>0.596491</td>\n",
       "      <td>8</td>\n",
       "      <td>-1</td>\n",
       "    </tr>\n",
       "    <tr>\n",
       "      <td>2</td>\n",
       "      <td>Random_forest</td>\n",
       "      <td>downsampled</td>\n",
       "      <td>0.842987</td>\n",
       "      <td>0.999582</td>\n",
       "      <td>0.570328</td>\n",
       "      <td>15</td>\n",
       "      <td>51</td>\n",
       "    </tr>\n",
       "    <tr>\n",
       "      <td>3</td>\n",
       "      <td>Random_forest</td>\n",
       "      <td>classic</td>\n",
       "      <td>0.849054</td>\n",
       "      <td>0.963605</td>\n",
       "      <td>0.567026</td>\n",
       "      <td>15</td>\n",
       "      <td>51</td>\n",
       "    </tr>\n",
       "    <tr>\n",
       "      <td>4</td>\n",
       "      <td>Decision_tree</td>\n",
       "      <td>upsampled</td>\n",
       "      <td>0.789342</td>\n",
       "      <td>0.827151</td>\n",
       "      <td>0.565041</td>\n",
       "      <td>8</td>\n",
       "      <td>-1</td>\n",
       "    </tr>\n",
       "    <tr>\n",
       "      <td>5</td>\n",
       "      <td>Decision_tree</td>\n",
       "      <td>downsampled</td>\n",
       "      <td>0.787083</td>\n",
       "      <td>0.848041</td>\n",
       "      <td>0.526811</td>\n",
       "      <td>8</td>\n",
       "      <td>-1</td>\n",
       "    </tr>\n",
       "    <tr>\n",
       "      <td>6</td>\n",
       "      <td>Logistic_regression</td>\n",
       "      <td>upsampled</td>\n",
       "      <td>0.765048</td>\n",
       "      <td>0.701205</td>\n",
       "      <td>0.491319</td>\n",
       "      <td>-1</td>\n",
       "      <td>-1</td>\n",
       "    </tr>\n",
       "    <tr>\n",
       "      <td>7</td>\n",
       "      <td>Logistic_regression</td>\n",
       "      <td>downsampled</td>\n",
       "      <td>0.764564</td>\n",
       "      <td>0.701606</td>\n",
       "      <td>0.484375</td>\n",
       "      <td>-1</td>\n",
       "      <td>-1</td>\n",
       "    </tr>\n",
       "    <tr>\n",
       "      <td>8</td>\n",
       "      <td>Logistic_regression</td>\n",
       "      <td>classic</td>\n",
       "      <td>0.762106</td>\n",
       "      <td>0.328211</td>\n",
       "      <td>0.292593</td>\n",
       "      <td>-1</td>\n",
       "      <td>-1</td>\n",
       "    </tr>\n",
       "  </tbody>\n",
       "</table>\n",
       "</div>"
      ],
      "text/plain": [
       "                 model   model_type   auc_roc  train_f1  f1_score  max_depth  \\\n",
       "0        Random_forest    upsampled  0.846424  0.996874  0.608355         15   \n",
       "1        Decision_tree      classic  0.809352  0.662994  0.596491          8   \n",
       "2        Random_forest  downsampled  0.842987  0.999582  0.570328         15   \n",
       "3        Random_forest      classic  0.849054  0.963605  0.567026         15   \n",
       "4        Decision_tree    upsampled  0.789342  0.827151  0.565041          8   \n",
       "5        Decision_tree  downsampled  0.787083  0.848041  0.526811          8   \n",
       "6  Logistic_regression    upsampled  0.765048  0.701205  0.491319         -1   \n",
       "7  Logistic_regression  downsampled  0.764564  0.701606  0.484375         -1   \n",
       "8  Logistic_regression      classic  0.762106  0.328211  0.292593         -1   \n",
       "\n",
       "   n_estimators  \n",
       "0            51  \n",
       "1            -1  \n",
       "2            51  \n",
       "3            51  \n",
       "4            -1  \n",
       "5            -1  \n",
       "6            -1  \n",
       "7            -1  \n",
       "8            -1  "
      ]
     },
     "metadata": {},
     "output_type": "display_data"
    }
   ],
   "source": [
    "table_f1 = pd.DataFrame(rows)\n",
    "table_f1_score = table_f1.sort_values(by='f1_score', ascending=False).reset_index(drop=True)\n",
    "display(table_f1_score)\n",
    "max_depth_final = table_f1_score.get_value(0,'max_depth') \n",
    "n_estimators_final = table_f1_score.get_value(0,'n_estimators')\n",
    "model_type_final = table_f1_score.get_value(0,'model_type')"
   ]
  },
  {
   "cell_type": "markdown",
   "metadata": {},
   "source": [
    "Модель, показавшая удовлетворительный результат, - случайный лес с увеличением класса.\n",
    "Проверим на тестовой выборке"
   ]
  },
  {
   "cell_type": "markdown",
   "metadata": {},
   "source": [
    "# 4. Тестирование модели"
   ]
  },
  {
   "cell_type": "code",
   "execution_count": 36,
   "metadata": {},
   "outputs": [
    {
     "name": "stdout",
     "output_type": "stream",
     "text": [
      "max_depth: 15\n",
      "n_estimators: 51\n"
     ]
    },
    {
     "data": {
      "image/png": "[encoded data removed]",
      "text/plain": [
       "<Figure size 432x288 with 1 Axes>"
      ]
     },
     "metadata": {
      "needs_background": "light"
     },
     "output_type": "display_data"
    },
    {
     "name": "stdout",
     "output_type": "stream",
     "text": [
      "{'model': 'Random_forest', 'model_type': 'upsampled', 'auc_roc': 0.8491260305103593, 'train_f1': 0.9968743488226713, 'f1_score': 0.6103038309114928, 'max_depth': 15, 'n_estimators': 51}\n"
     ]
    }
   ],
   "source": [
    "best_param_rf_final = grid_func_rf(features_upsampled, target_upsampled, max_depth_final,\n",
    "                                   max_depth_final + 1, n_estimators_final, n_estimators_final + 1, 1)\n",
    "rand_forest_score_final = best_param_rf_final(features_upsampled, target_upsampled,\\\n",
    "                                     features_test, target_test, model_type_final)\n",
    "\n",
    "print(rand_forest_score_final)"
   ]
  },
  {
   "cell_type": "markdown",
   "metadata": {},
   "source": [
    "Модель показала нужный результат выше 0.59 на тестовой выборке, а именно f1 = 0.61"
   ]
  },
  {
   "cell_type": "markdown",
   "metadata": {},
   "source": [
    "# Выводы"
   ]
  },
  {
   "cell_type": "markdown",
   "metadata": {},
   "source": [
    "Проведена предобработка данных:\n",
    "- Удалены пропуски\n",
    "- Удалены столбцы, которые не являлись информативными\n",
    "- Обнаружены выпадающие значени, которые были исключены при дальнейшем рассмотрении\n",
    "\n",
    "Ислледование:\n",
    "- Обучено три различных модели : Decision Tree, Random Forest, Linear Regression\n",
    "- Для моделей написаны функции, где на вход принимаются данные по признакам. Подбираются наилучшие гиперпараметры, в зависимости от значения F1-меры\n",
    "- Проведены исследования на эффективность моделей при увеличении меньшего класса и уменьшении большего\n",
    "\n",
    "По итогу была выбрана модель случайного леса, с увеличенным меньшим классом, которая показала значение F1-меры на тестовой выборке в 0.61."
   ]
  }
 ],
 "metadata": {
  "kernelspec": {
   "display_name": "Python 3",
   "language": "python",
   "name": "python3"
  },
  "language_info": {
   "codemirror_mode": {
    "name": "ipython",
    "version": 3
   },
   "file_extension": ".py",
   "mimetype": "text/x-python",
   "name": "python",
   "nbconvert_exporter": "python",
   "pygments_lexer": "ipython3",
   "version": "3.7.8"
  },
  "toc": {
   "base_numbering": 1,
   "nav_menu": {},
   "number_sections": true,
   "sideBar": true,
   "skip_h1_title": false,
   "title_cell": "Table of Contents",
   "title_sidebar": "Contents",
   "toc_cell": false,
   "toc_position": {},
   "toc_section_display": true,
   "toc_window_display": false
  }
 },
 "nbformat": 4,
 "nbformat_minor": 2
}
