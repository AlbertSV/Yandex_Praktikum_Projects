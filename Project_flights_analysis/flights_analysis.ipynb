{
 "cells": [
  {
   "cell_type": "markdown",
   "metadata": {},
   "source": [
    "## Airline Data Exploration\n",
    "\n",
    "You are an analyst for the Russian domestic airline F9. It is important to understand the preferences of users who buy tickets to different destinations.\n",
    "\n",
    "You have to study the database and analyze the demand of passengers for flights to cities where the largest cultural festivals take place."
   ]
  },
  {
   "cell_type": "markdown",
   "metadata": {},
   "source": [
    "**Step 1.  Python Analysis **\n",
    "\n",
    "You have files that contain query results from previous jobs.\n",
    "\n",
    "query_1.csv — first request result.\n",
    "\n",
    "- *model* - airplane model\n",
    "- *flights_amount* - number of flights for each model aircraft model in September 2018\n",
    "\n",
    "query_3.csv - third query result\n",
    "\n",
    "- *city* - city\n",
    "- *average_flights* - average number of flights arriving in a city per day in September 2018\n",
    "\n",
    " For these two datasets you need:\n",
    "\n",
    "- import files;\n",
    "- to study the data in them;\n",
    "- check data types for correctness;\n",
    "- choose the top 10 cities by the number of flights;\n",
    "- build graphs: aircraft models and the number of flights, cities and the number of flights, top 10 cities and the number of flights;\n",
    "- draw conclusions for each of the graphs, explain the result.\n",
    "\n",
    "**Step 2.  Hypothesis Testing with Python**\n",
    "\n",
    "query_last.csv — last query result.\n",
    "\n",
    "- *week_number* - week number\n",
    "- *ticket_amount* - number of tickets sold per week\n",
    "- *festival_name* - festival name\n",
    "- *festival_week* - is there a festival this week\n",
    "\n",
    "Test the hypothesis: “Average demand for tickets during festivals does not differ from average demand for tickets during normal times.”\n"
   ]
  },
  {
   "cell_type": "markdown",
   "metadata": {},
   "source": [
    "*Before the implementation of this project, it was preceded by working with data using SQL*"
   ]
  },
  {
   "cell_type": "markdown",
   "metadata": {},
   "source": [
    "```mysql\n",
    "\n",
    "SELECT\n",
    "    t.week_number,\n",
    "    t.tickets_amount,\n",
    "    t.festival_week,\n",
    "    t.festival_name\n",
    "FROM\n",
    "(\n",
    "    (SELECT\n",
    "        EXTRACT(week from flights.departure_time) AS week_number,\n",
    "        COUNT(ticket_flights.ticket_no) as tickets_amount\n",
    "     FROM\n",
    "         airports\n",
    "     INNER JOIN\n",
    "         flights ON airports.airport_code = flights.arrival_airport\n",
    "     INNER JOIN\n",
    "         ticket_flights ON flights.flight_id = ticket_flights.flight_id\n",
    "     WHERE\n",
    "         airports.city='Москва' AND CAST(flights.departure_time as date) BETWEEN '2018-07-23' and  '2018-09-30'\n",
    "     GROUP BY\n",
    "     week_number)\n",
    "     as t1\n",
    "    LEFT JOIN\n",
    "        (SELECT\n",
    "        festival_name,\n",
    "        EXTRACT(week from festivals.festival_date) AS festival_week\n",
    "        FROM\n",
    "        festivals\n",
    "        WHERE\n",
    "        festivals.festival_city='Москва' AND CAST(festivals.festival_date as date) BETWEEN '2018-07-23' and  '2018-09-30'\n",
    "        ) as t2\n",
    "     ON\n",
    "     t1.week_number = t2.festival_week\n",
    "     ) as t\n",
    "\n",
    "```"
   ]
  },
  {
   "cell_type": "markdown",
   "metadata": {},
   "source": [
    "# 1. Analytics"
   ]
  },
  {
   "cell_type": "code",
   "execution_count": 1,
   "metadata": {},
   "outputs": [],
   "source": [
    "import numpy as np\n",
    "import pandas as pd\n",
    "import matplotlib.pyplot as plt\n",
    "\n",
    "from scipy import stats as st"
   ]
  },
  {
   "cell_type": "code",
   "execution_count": 2,
   "metadata": {},
   "outputs": [],
   "source": [
    "query_1 = pd.read_csv('/datasets/query_1.csv')\n",
    "query_3 = pd.read_csv('/datasets/query_3.csv')\n",
    "query_last = pd.read_csv('/datasets/query_last.csv')"
   ]
  },
  {
   "cell_type": "code",
   "execution_count": 3,
   "metadata": {},
   "outputs": [
    {
     "name": "stdout",
     "output_type": "stream",
     "text": [
      "<class 'pandas.core.frame.DataFrame'>\n",
      "RangeIndex: 8 entries, 0 to 7\n",
      "Data columns (total 2 columns):\n",
      "model             8 non-null object\n",
      "flights_amount    8 non-null int64\n",
      "dtypes: int64(1), object(1)\n",
      "memory usage: 256.0+ bytes\n"
     ]
    },
    {
     "data": {
      "text/html": [
       "<div>\n",
       "<style scoped>\n",
       "    .dataframe tbody tr th:only-of-type {\n",
       "        vertical-align: middle;\n",
       "    }\n",
       "\n",
       "    .dataframe tbody tr th {\n",
       "        vertical-align: top;\n",
       "    }\n",
       "\n",
       "    .dataframe thead th {\n",
       "        text-align: right;\n",
       "    }\n",
       "</style>\n",
       "<table border=\"1\" class=\"dataframe\">\n",
       "  <thead>\n",
       "    <tr style=\"text-align: right;\">\n",
       "      <th></th>\n",
       "      <th>model</th>\n",
       "      <th>flights_amount</th>\n",
       "    </tr>\n",
       "  </thead>\n",
       "  <tbody>\n",
       "    <tr>\n",
       "      <td>0</td>\n",
       "      <td>Airbus A319-100</td>\n",
       "      <td>607</td>\n",
       "    </tr>\n",
       "    <tr>\n",
       "      <td>1</td>\n",
       "      <td>Airbus A321-200</td>\n",
       "      <td>960</td>\n",
       "    </tr>\n",
       "    <tr>\n",
       "      <td>2</td>\n",
       "      <td>Boeing 737-300</td>\n",
       "      <td>630</td>\n",
       "    </tr>\n",
       "    <tr>\n",
       "      <td>3</td>\n",
       "      <td>Boeing 767-300</td>\n",
       "      <td>600</td>\n",
       "    </tr>\n",
       "    <tr>\n",
       "      <td>4</td>\n",
       "      <td>Boeing 777-300</td>\n",
       "      <td>300</td>\n",
       "    </tr>\n",
       "    <tr>\n",
       "      <td>5</td>\n",
       "      <td>Bombardier CRJ-200</td>\n",
       "      <td>4446</td>\n",
       "    </tr>\n",
       "    <tr>\n",
       "      <td>6</td>\n",
       "      <td>Cessna 208 Caravan</td>\n",
       "      <td>4557</td>\n",
       "    </tr>\n",
       "    <tr>\n",
       "      <td>7</td>\n",
       "      <td>Sukhoi SuperJet-100</td>\n",
       "      <td>4185</td>\n",
       "    </tr>\n",
       "  </tbody>\n",
       "</table>\n",
       "</div>"
      ],
      "text/plain": [
       "                 model  flights_amount\n",
       "0      Airbus A319-100             607\n",
       "1      Airbus A321-200             960\n",
       "2       Boeing 737-300             630\n",
       "3       Boeing 767-300             600\n",
       "4       Boeing 777-300             300\n",
       "5   Bombardier CRJ-200            4446\n",
       "6   Cessna 208 Caravan            4557\n",
       "7  Sukhoi SuperJet-100            4185"
      ]
     },
     "metadata": {},
     "output_type": "display_data"
    },
    {
     "name": "stdout",
     "output_type": "stream",
     "text": [
      "<class 'pandas.core.frame.DataFrame'>\n",
      "RangeIndex: 101 entries, 0 to 100\n",
      "Data columns (total 2 columns):\n",
      "city               101 non-null object\n",
      "average_flights    101 non-null float64\n",
      "dtypes: float64(1), object(1)\n",
      "memory usage: 1.7+ KB\n"
     ]
    },
    {
     "data": {
      "text/html": [
       "<div>\n",
       "<style scoped>\n",
       "    .dataframe tbody tr th:only-of-type {\n",
       "        vertical-align: middle;\n",
       "    }\n",
       "\n",
       "    .dataframe tbody tr th {\n",
       "        vertical-align: top;\n",
       "    }\n",
       "\n",
       "    .dataframe thead th {\n",
       "        text-align: right;\n",
       "    }\n",
       "</style>\n",
       "<table border=\"1\" class=\"dataframe\">\n",
       "  <thead>\n",
       "    <tr style=\"text-align: right;\">\n",
       "      <th></th>\n",
       "      <th>city</th>\n",
       "      <th>average_flights</th>\n",
       "    </tr>\n",
       "  </thead>\n",
       "  <tbody>\n",
       "    <tr>\n",
       "      <td>0</td>\n",
       "      <td>Абакан</td>\n",
       "      <td>3.870968</td>\n",
       "    </tr>\n",
       "    <tr>\n",
       "      <td>1</td>\n",
       "      <td>Анадырь</td>\n",
       "      <td>1.000000</td>\n",
       "    </tr>\n",
       "    <tr>\n",
       "      <td>2</td>\n",
       "      <td>Анапа</td>\n",
       "      <td>2.161290</td>\n",
       "    </tr>\n",
       "    <tr>\n",
       "      <td>3</td>\n",
       "      <td>Архангельск</td>\n",
       "      <td>5.354839</td>\n",
       "    </tr>\n",
       "    <tr>\n",
       "      <td>4</td>\n",
       "      <td>Астрахань</td>\n",
       "      <td>2.451613</td>\n",
       "    </tr>\n",
       "    <tr>\n",
       "      <td>...</td>\n",
       "      <td>...</td>\n",
       "      <td>...</td>\n",
       "    </tr>\n",
       "    <tr>\n",
       "      <td>96</td>\n",
       "      <td>Чита</td>\n",
       "      <td>1.580645</td>\n",
       "    </tr>\n",
       "    <tr>\n",
       "      <td>97</td>\n",
       "      <td>Элиста</td>\n",
       "      <td>4.870968</td>\n",
       "    </tr>\n",
       "    <tr>\n",
       "      <td>98</td>\n",
       "      <td>Южно-Сахалинск</td>\n",
       "      <td>4.290323</td>\n",
       "    </tr>\n",
       "    <tr>\n",
       "      <td>99</td>\n",
       "      <td>Якутск</td>\n",
       "      <td>2.741935</td>\n",
       "    </tr>\n",
       "    <tr>\n",
       "      <td>100</td>\n",
       "      <td>Ярославль</td>\n",
       "      <td>1.322581</td>\n",
       "    </tr>\n",
       "  </tbody>\n",
       "</table>\n",
       "<p>101 rows × 2 columns</p>\n",
       "</div>"
      ],
      "text/plain": [
       "               city  average_flights\n",
       "0            Абакан         3.870968\n",
       "1           Анадырь         1.000000\n",
       "2             Анапа         2.161290\n",
       "3       Архангельск         5.354839\n",
       "4         Астрахань         2.451613\n",
       "..              ...              ...\n",
       "96             Чита         1.580645\n",
       "97           Элиста         4.870968\n",
       "98   Южно-Сахалинск         4.290323\n",
       "99           Якутск         2.741935\n",
       "100       Ярославль         1.322581\n",
       "\n",
       "[101 rows x 2 columns]"
      ]
     },
     "metadata": {},
     "output_type": "display_data"
    },
    {
     "name": "stdout",
     "output_type": "stream",
     "text": [
      "<class 'pandas.core.frame.DataFrame'>\n",
      "RangeIndex: 10 entries, 0 to 9\n",
      "Data columns (total 4 columns):\n",
      "week_number      10 non-null int64\n",
      "ticket_amount    10 non-null int64\n",
      "festival_week    3 non-null float64\n",
      "festival_name    3 non-null object\n",
      "dtypes: float64(1), int64(2), object(1)\n",
      "memory usage: 448.0+ bytes\n"
     ]
    },
    {
     "data": {
      "text/html": [
       "<div>\n",
       "<style scoped>\n",
       "    .dataframe tbody tr th:only-of-type {\n",
       "        vertical-align: middle;\n",
       "    }\n",
       "\n",
       "    .dataframe tbody tr th {\n",
       "        vertical-align: top;\n",
       "    }\n",
       "\n",
       "    .dataframe thead th {\n",
       "        text-align: right;\n",
       "    }\n",
       "</style>\n",
       "<table border=\"1\" class=\"dataframe\">\n",
       "  <thead>\n",
       "    <tr style=\"text-align: right;\">\n",
       "      <th></th>\n",
       "      <th>week_number</th>\n",
       "      <th>ticket_amount</th>\n",
       "      <th>festival_week</th>\n",
       "      <th>festival_name</th>\n",
       "    </tr>\n",
       "  </thead>\n",
       "  <tbody>\n",
       "    <tr>\n",
       "      <td>0</td>\n",
       "      <td>30</td>\n",
       "      <td>43568</td>\n",
       "      <td>30.0</td>\n",
       "      <td>Park Live</td>\n",
       "    </tr>\n",
       "    <tr>\n",
       "      <td>1</td>\n",
       "      <td>31</td>\n",
       "      <td>51034</td>\n",
       "      <td>31.0</td>\n",
       "      <td>Пикник Афиши</td>\n",
       "    </tr>\n",
       "    <tr>\n",
       "      <td>2</td>\n",
       "      <td>32</td>\n",
       "      <td>51675</td>\n",
       "      <td>NaN</td>\n",
       "      <td>NaN</td>\n",
       "    </tr>\n",
       "    <tr>\n",
       "      <td>3</td>\n",
       "      <td>33</td>\n",
       "      <td>51378</td>\n",
       "      <td>NaN</td>\n",
       "      <td>NaN</td>\n",
       "    </tr>\n",
       "    <tr>\n",
       "      <td>4</td>\n",
       "      <td>34</td>\n",
       "      <td>51492</td>\n",
       "      <td>NaN</td>\n",
       "      <td>NaN</td>\n",
       "    </tr>\n",
       "    <tr>\n",
       "      <td>5</td>\n",
       "      <td>35</td>\n",
       "      <td>51360</td>\n",
       "      <td>NaN</td>\n",
       "      <td>NaN</td>\n",
       "    </tr>\n",
       "    <tr>\n",
       "      <td>6</td>\n",
       "      <td>36</td>\n",
       "      <td>51386</td>\n",
       "      <td>36.0</td>\n",
       "      <td>Видфест</td>\n",
       "    </tr>\n",
       "    <tr>\n",
       "      <td>7</td>\n",
       "      <td>37</td>\n",
       "      <td>51670</td>\n",
       "      <td>NaN</td>\n",
       "      <td>NaN</td>\n",
       "    </tr>\n",
       "    <tr>\n",
       "      <td>8</td>\n",
       "      <td>38</td>\n",
       "      <td>51518</td>\n",
       "      <td>NaN</td>\n",
       "      <td>NaN</td>\n",
       "    </tr>\n",
       "    <tr>\n",
       "      <td>9</td>\n",
       "      <td>39</td>\n",
       "      <td>51623</td>\n",
       "      <td>NaN</td>\n",
       "      <td>NaN</td>\n",
       "    </tr>\n",
       "  </tbody>\n",
       "</table>\n",
       "</div>"
      ],
      "text/plain": [
       "   week_number  ticket_amount  festival_week festival_name\n",
       "0           30          43568           30.0     Park Live\n",
       "1           31          51034           31.0  Пикник Афиши\n",
       "2           32          51675            NaN           NaN\n",
       "3           33          51378            NaN           NaN\n",
       "4           34          51492            NaN           NaN\n",
       "5           35          51360            NaN           NaN\n",
       "6           36          51386           36.0       Видфест\n",
       "7           37          51670            NaN           NaN\n",
       "8           38          51518            NaN           NaN\n",
       "9           39          51623            NaN           NaN"
      ]
     },
     "metadata": {},
     "output_type": "display_data"
    }
   ],
   "source": [
    "query_1.info()\n",
    "display(query_1)\n",
    "query_3.info()\n",
    "display(query_3)\n",
    "query_last.info()\n",
    "display(query_last)"
   ]
  },
  {
   "cell_type": "code",
   "execution_count": 4,
   "metadata": {},
   "outputs": [
    {
     "name": "stdout",
     "output_type": "stream",
     "text": [
      "<class 'pandas.core.frame.DataFrame'>\n",
      "RangeIndex: 10 entries, 0 to 9\n",
      "Data columns (total 4 columns):\n",
      "week_number      10 non-null int64\n",
      "ticket_amount    10 non-null int64\n",
      "festival_week    10 non-null int64\n",
      "festival_name    10 non-null object\n",
      "dtypes: int64(3), object(1)\n",
      "memory usage: 448.0+ bytes\n"
     ]
    },
    {
     "data": {
      "text/html": [
       "<div>\n",
       "<style scoped>\n",
       "    .dataframe tbody tr th:only-of-type {\n",
       "        vertical-align: middle;\n",
       "    }\n",
       "\n",
       "    .dataframe tbody tr th {\n",
       "        vertical-align: top;\n",
       "    }\n",
       "\n",
       "    .dataframe thead th {\n",
       "        text-align: right;\n",
       "    }\n",
       "</style>\n",
       "<table border=\"1\" class=\"dataframe\">\n",
       "  <thead>\n",
       "    <tr style=\"text-align: right;\">\n",
       "      <th></th>\n",
       "      <th>week_number</th>\n",
       "      <th>ticket_amount</th>\n",
       "      <th>festival_week</th>\n",
       "      <th>festival_name</th>\n",
       "    </tr>\n",
       "  </thead>\n",
       "  <tbody>\n",
       "    <tr>\n",
       "      <td>0</td>\n",
       "      <td>30</td>\n",
       "      <td>43568</td>\n",
       "      <td>30</td>\n",
       "      <td>Park Live</td>\n",
       "    </tr>\n",
       "    <tr>\n",
       "      <td>1</td>\n",
       "      <td>31</td>\n",
       "      <td>51034</td>\n",
       "      <td>31</td>\n",
       "      <td>Пикник Афиши</td>\n",
       "    </tr>\n",
       "    <tr>\n",
       "      <td>2</td>\n",
       "      <td>32</td>\n",
       "      <td>51675</td>\n",
       "      <td>-1</td>\n",
       "      <td>no_festival</td>\n",
       "    </tr>\n",
       "    <tr>\n",
       "      <td>3</td>\n",
       "      <td>33</td>\n",
       "      <td>51378</td>\n",
       "      <td>-1</td>\n",
       "      <td>no_festival</td>\n",
       "    </tr>\n",
       "    <tr>\n",
       "      <td>4</td>\n",
       "      <td>34</td>\n",
       "      <td>51492</td>\n",
       "      <td>-1</td>\n",
       "      <td>no_festival</td>\n",
       "    </tr>\n",
       "    <tr>\n",
       "      <td>5</td>\n",
       "      <td>35</td>\n",
       "      <td>51360</td>\n",
       "      <td>-1</td>\n",
       "      <td>no_festival</td>\n",
       "    </tr>\n",
       "    <tr>\n",
       "      <td>6</td>\n",
       "      <td>36</td>\n",
       "      <td>51386</td>\n",
       "      <td>36</td>\n",
       "      <td>Видфест</td>\n",
       "    </tr>\n",
       "    <tr>\n",
       "      <td>7</td>\n",
       "      <td>37</td>\n",
       "      <td>51670</td>\n",
       "      <td>-1</td>\n",
       "      <td>no_festival</td>\n",
       "    </tr>\n",
       "    <tr>\n",
       "      <td>8</td>\n",
       "      <td>38</td>\n",
       "      <td>51518</td>\n",
       "      <td>-1</td>\n",
       "      <td>no_festival</td>\n",
       "    </tr>\n",
       "    <tr>\n",
       "      <td>9</td>\n",
       "      <td>39</td>\n",
       "      <td>51623</td>\n",
       "      <td>-1</td>\n",
       "      <td>no_festival</td>\n",
       "    </tr>\n",
       "  </tbody>\n",
       "</table>\n",
       "</div>"
      ],
      "text/plain": [
       "   week_number  ticket_amount  festival_week festival_name\n",
       "0           30          43568             30     Park Live\n",
       "1           31          51034             31  Пикник Афиши\n",
       "2           32          51675             -1   no_festival\n",
       "3           33          51378             -1   no_festival\n",
       "4           34          51492             -1   no_festival\n",
       "5           35          51360             -1   no_festival\n",
       "6           36          51386             36       Видфест\n",
       "7           37          51670             -1   no_festival\n",
       "8           38          51518             -1   no_festival\n",
       "9           39          51623             -1   no_festival"
      ]
     },
     "metadata": {},
     "output_type": "display_data"
    }
   ],
   "source": [
    "query_last['festival_name'] = query_last['festival_name'].fillna('no_festival') \n",
    "query_last['festival_week'] = query_last['festival_week'].fillna(-1)\n",
    "query_last['festival_week'] = query_last['festival_week'].astype('int')\n",
    "query_last.info()\n",
    "display(query_last)"
   ]
  },
  {
   "cell_type": "code",
   "execution_count": 5,
   "metadata": {},
   "outputs": [
    {
     "name": "stdout",
     "output_type": "stream",
     "text": [
      "city               0\n",
      "average_flights    0\n",
      "dtype: int64\n",
      "0\n"
     ]
    }
   ],
   "source": [
    "print(query_3.isnull().sum())\n",
    "print(query_3.duplicated().sum())"
   ]
  },
  {
   "cell_type": "code",
   "execution_count": 6,
   "metadata": {},
   "outputs": [
    {
     "data": {
      "text/html": [
       "<div>\n",
       "<style scoped>\n",
       "    .dataframe tbody tr th:only-of-type {\n",
       "        vertical-align: middle;\n",
       "    }\n",
       "\n",
       "    .dataframe tbody tr th {\n",
       "        vertical-align: top;\n",
       "    }\n",
       "\n",
       "    .dataframe thead th {\n",
       "        text-align: right;\n",
       "    }\n",
       "</style>\n",
       "<table border=\"1\" class=\"dataframe\">\n",
       "  <thead>\n",
       "    <tr style=\"text-align: right;\">\n",
       "      <th></th>\n",
       "      <th>city</th>\n",
       "      <th>average_flights</th>\n",
       "    </tr>\n",
       "  </thead>\n",
       "  <tbody>\n",
       "    <tr>\n",
       "      <td>43</td>\n",
       "      <td>Москва</td>\n",
       "      <td>129</td>\n",
       "    </tr>\n",
       "    <tr>\n",
       "      <td>70</td>\n",
       "      <td>Санкт-Петербург</td>\n",
       "      <td>31</td>\n",
       "    </tr>\n",
       "    <tr>\n",
       "      <td>54</td>\n",
       "      <td>Новосибирск</td>\n",
       "      <td>17</td>\n",
       "    </tr>\n",
       "    <tr>\n",
       "      <td>20</td>\n",
       "      <td>Екатеринбург</td>\n",
       "      <td>11</td>\n",
       "    </tr>\n",
       "    <tr>\n",
       "      <td>33</td>\n",
       "      <td>Красноярск</td>\n",
       "      <td>11</td>\n",
       "    </tr>\n",
       "    <tr>\n",
       "      <td>63</td>\n",
       "      <td>Пермь</td>\n",
       "      <td>10</td>\n",
       "    </tr>\n",
       "    <tr>\n",
       "      <td>67</td>\n",
       "      <td>Ростов-на-Дону</td>\n",
       "      <td>10</td>\n",
       "    </tr>\n",
       "    <tr>\n",
       "      <td>10</td>\n",
       "      <td>Брянск</td>\n",
       "      <td>10</td>\n",
       "    </tr>\n",
       "    <tr>\n",
       "      <td>84</td>\n",
       "      <td>Ульяновск</td>\n",
       "      <td>9</td>\n",
       "    </tr>\n",
       "    <tr>\n",
       "      <td>73</td>\n",
       "      <td>Советский</td>\n",
       "      <td>9</td>\n",
       "    </tr>\n",
       "  </tbody>\n",
       "</table>\n",
       "</div>"
      ],
      "text/plain": [
       "               city  average_flights\n",
       "43           Москва              129\n",
       "70  Санкт-Петербург               31\n",
       "54      Новосибирск               17\n",
       "20     Екатеринбург               11\n",
       "33       Красноярск               11\n",
       "63            Пермь               10\n",
       "67   Ростов-на-Дону               10\n",
       "10           Брянск               10\n",
       "84        Ульяновск                9\n",
       "73        Советский                9"
      ]
     },
     "execution_count": 6,
     "metadata": {},
     "output_type": "execute_result"
    }
   ],
   "source": [
    "query_3['average_flights'] = query_3['average_flights'].astype('int')\n",
    "query_3.sort_values('average_flights', ascending=False).head(10)"
   ]
  },
  {
   "cell_type": "code",
   "execution_count": 7,
   "metadata": {},
   "outputs": [],
   "source": [
    "query_1_sort = query_1.sort_values(['flights_amount'],ascending=False)\n",
    "query_3_sort = query_3.sort_values(['average_flights'],ascending=True)\n",
    "color_rectangle = np.random.rand(25, 3)"
   ]
  },
  {
   "cell_type": "code",
   "execution_count": 8,
   "metadata": {},
   "outputs": [],
   "source": [
    "def histogram(data, n_bins, x, y, title, x_label, y_label,size_1,size_2):\n",
    "    plt.figure(figsize=(size_1,size_2))\n",
    "    plt.barh(x, y, color=color_rectangle)\n",
    "    plt.title(title)\n",
    "    plt.xlabel(x_label)\n",
    "    plt.xticks(rotation=90) \n",
    "    plt.ylabel(y_label)"
   ]
  },
  {
   "cell_type": "code",
   "execution_count": 9,
   "metadata": {},
   "outputs": [
    {
     "data": {
      "image/png": "[encoded data removed]",
      "text/plain": [
       "<Figure size 360x360 with 1 Axes>"
      ]
     },
     "metadata": {
      "needs_background": "light"
     },
     "output_type": "display_data"
    }
   ],
   "source": [
    "figure_1 = histogram(query_1_sort, 8, query_1_sort['model'], query_1_sort['flights_amount'],'model_flights_amount',\n",
    "                    'model', 'amount', 5, 5)"
   ]
  },
  {
   "cell_type": "code",
   "execution_count": 10,
   "metadata": {},
   "outputs": [
    {
     "data": {
      "image/png": "[encoded data removed]",
      "text/plain": [
       "<Figure size 360x1440 with 1 Axes>"
      ]
     },
     "metadata": {
      "needs_background": "light"
     },
     "output_type": "display_data"
    }
   ],
   "source": [
    "figure_2 = histogram(query_3_sort, 100, query_3_sort['city'], query_3_sort['average_flights'],'city_flights',\n",
    "                    'city', 'flights',5,20)"
   ]
  },
  {
   "cell_type": "code",
   "execution_count": 11,
   "metadata": {},
   "outputs": [
    {
     "data": {
      "image/png": "[encoded data removed]",
      "text/plain": [
       "<Figure size 360x360 with 1 Axes>"
      ]
     },
     "metadata": {
      "needs_background": "light"
     },
     "output_type": "display_data"
    }
   ],
   "source": [
    "figure_2 = histogram(query_3_sort, 100, query_3_sort['city'].tail(10), query_3_sort['average_flights'].tail(10),'city_flights',\n",
    "                    'city', 'flights',5,5)"
   ]
  },
  {
   "cell_type": "markdown",
   "metadata": {},
   "source": [
    "Only one model of the aircraft from the above list of Russian production, but it is included in the top three in operation. Apparently the data is given not only for Russia, since the first two models of American production are operated in America.\n",
    "\n",
    "The largest number of flights is in Moscow and St. Petersburg, which is logical, followed by cities that are quite remote from Moscow. The farther from Moscow, the more profitable it is to fly, the closer - it is better to use a train / car, so you can save more time"
   ]
  },
  {
   "cell_type": "markdown",
   "metadata": {},
   "source": [
    "# 2. Hypothesis testing"
   ]
  },
  {
   "cell_type": "markdown",
   "metadata": {},
   "source": [
    "The average demand for tickets during festivals does not differ from the average demand for tickets during normal times.\n",
    "\n",
    "Let's put forward a null hypothesis: the average of two populations (demand, when there are festivals and when they are not) are equal. And the alternative is unequal. To test hypotheses, we use the t-test of the hypothesis about the equality of the means of two general populations."
   ]
  },
  {
   "cell_type": "code",
   "execution_count": 12,
   "metadata": {},
   "outputs": [],
   "source": [
    "def fest_func(row):\n",
    "    i =row['festival_name']\n",
    "    if i == 'no_festival':\n",
    "        return 'no'\n",
    "    else:\n",
    "        return 'yes'\n",
    "query_last['festival'] = query_last.apply(fest_func, axis=1)\n",
    "\n",
    "fest_no = query_last.query('festival == \"no\"')\n",
    "fest_yes = query_last.query('festival != \"no\"')"
   ]
  },
  {
   "cell_type": "code",
   "execution_count": 13,
   "metadata": {},
   "outputs": [
    {
     "name": "stdout",
     "output_type": "stream",
     "text": [
      "p-значение: 0.09688869045922928\n",
      "Не получилось отвергнуть нулевую гипотезу для спроса\n"
     ]
    }
   ],
   "source": [
    "alpha = 0.05\n",
    "\n",
    "results = st.ttest_ind(fest_no['ticket_amount'], fest_yes['ticket_amount'])\n",
    "print('p-значение:', results.pvalue) \n",
    "\n",
    "if (results.pvalue < alpha): \n",
    "    print(\"Отвергаем нулевую гипотезу для спроса на билеты\")\n",
    "else:\n",
    "    print(\"Не получилось отвергнуть нулевую гипотезу для спроса\")"
   ]
  },
  {
   "cell_type": "markdown",
   "metadata": {},
   "source": [
    "p-value: 0.09688869045922928\n",
    "\n",
    "Failed to reject the null hypothesis for demand"
   ]
  },
  {
   "cell_type": "markdown",
   "metadata": {},
   "source": [
    "## CONCLUSION\n",
    "\n",
    "Conducted data analytics, changed the data type in the columns to more appropriate one.\n",
    "\n",
    "Diagrams are constructed by the number of flights of various aircraft models and to various cities.\n",
    "\n",
    "The hypothesis about the demand for tickets is investigated.\n",
    "\n",
    "It turns out that the demand is the same, but it is worth noting that in the populations there is a very small sample - 10 values for two populations is extremely small, for a more accurate answer, you need to increase the sample."
   ]
  }
 ],
 "metadata": {
  "kernelspec": {
   "display_name": "Python 3",
   "language": "python",
   "name": "python3"
  },
  "language_info": {
   "codemirror_mode": {
    "name": "ipython",
    "version": 3
   },
   "file_extension": ".py",
   "mimetype": "text/x-python",
   "name": "python",
   "nbconvert_exporter": "python",
   "pygments_lexer": "ipython3",
   "version": "3.7.8"
  },
  "toc": {
   "base_numbering": 1,
   "nav_menu": {},
   "number_sections": true,
   "sideBar": true,
   "skip_h1_title": false,
   "title_cell": "Table of Contents",
   "title_sidebar": "Contents",
   "toc_cell": false,
   "toc_position": {},
   "toc_section_display": true,
   "toc_window_display": false
  }
 },
 "nbformat": 4,
 "nbformat_minor": 2
}
