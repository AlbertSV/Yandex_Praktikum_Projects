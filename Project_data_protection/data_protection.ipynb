{
 "cells": [
  {
   "cell_type": "markdown",
   "metadata": {},
   "source": [
    "## Development of an algorithm for data protection\n",
    "\n",
    "ou need to protect the data of customers of the insurance company \"Though the Flood\". Develop a data transformation method that makes it difficult to recover personal information from it. Justify the correctness of its work.\n",
    "\n",
    "You need to protect the data so that the quality of the machine learning models does not deteriorate during the transformation.\n",
    "\n",
    "**Data**\n",
    "\n",
    "- *Пол* - Gender\n",
    "- *Возраст* - Age\n",
    "- *Зарплата* - Salary\n",
    "- *Члены семьи* - Family members\n",
    "- *Страховые выплаты* - Insurance payments"
   ]
  },
  {
   "cell_type": "markdown",
   "metadata": {},
   "source": [
    "## 1. Data Upload"
   ]
  },
  {
   "cell_type": "code",
   "execution_count": 2,
   "metadata": {},
   "outputs": [],
   "source": [
    "import pandas as pd\n",
    "import numpy as np\n",
    "import matplotlib.pyplot as plt\n",
    "\n",
    "from sklearn.model_selection import train_test_split\n",
    "from sklearn.linear_model import LinearRegression\n",
    "from sklearn.metrics import r2_score"
   ]
  },
  {
   "cell_type": "code",
   "execution_count": 3,
   "metadata": {},
   "outputs": [],
   "source": [
    "insurance = pd.read_csv('/datasets/insurance.csv')"
   ]
  },
  {
   "cell_type": "code",
   "execution_count": 4,
   "metadata": {},
   "outputs": [
    {
     "name": "stdout",
     "output_type": "stream",
     "text": [
      "<class 'pandas.core.frame.DataFrame'>\n",
      "RangeIndex: 5000 entries, 0 to 4999\n",
      "Data columns (total 5 columns):\n",
      "Пол                  5000 non-null int64\n",
      "Возраст              5000 non-null float64\n",
      "Зарплата             5000 non-null float64\n",
      "Члены семьи          5000 non-null int64\n",
      "Страховые выплаты    5000 non-null int64\n",
      "dtypes: float64(2), int64(3)\n",
      "memory usage: 195.4 KB\n"
     ]
    },
    {
     "data": {
      "text/html": [
       "<div>\n",
       "<style scoped>\n",
       "    .dataframe tbody tr th:only-of-type {\n",
       "        vertical-align: middle;\n",
       "    }\n",
       "\n",
       "    .dataframe tbody tr th {\n",
       "        vertical-align: top;\n",
       "    }\n",
       "\n",
       "    .dataframe thead th {\n",
       "        text-align: right;\n",
       "    }\n",
       "</style>\n",
       "<table border=\"1\" class=\"dataframe\">\n",
       "  <thead>\n",
       "    <tr style=\"text-align: right;\">\n",
       "      <th></th>\n",
       "      <th>Пол</th>\n",
       "      <th>Возраст</th>\n",
       "      <th>Зарплата</th>\n",
       "      <th>Члены семьи</th>\n",
       "      <th>Страховые выплаты</th>\n",
       "    </tr>\n",
       "  </thead>\n",
       "  <tbody>\n",
       "    <tr>\n",
       "      <td>0</td>\n",
       "      <td>1</td>\n",
       "      <td>41.0</td>\n",
       "      <td>49600.0</td>\n",
       "      <td>1</td>\n",
       "      <td>0</td>\n",
       "    </tr>\n",
       "    <tr>\n",
       "      <td>1</td>\n",
       "      <td>0</td>\n",
       "      <td>46.0</td>\n",
       "      <td>38000.0</td>\n",
       "      <td>1</td>\n",
       "      <td>1</td>\n",
       "    </tr>\n",
       "    <tr>\n",
       "      <td>2</td>\n",
       "      <td>0</td>\n",
       "      <td>29.0</td>\n",
       "      <td>21000.0</td>\n",
       "      <td>0</td>\n",
       "      <td>0</td>\n",
       "    </tr>\n",
       "    <tr>\n",
       "      <td>3</td>\n",
       "      <td>0</td>\n",
       "      <td>21.0</td>\n",
       "      <td>41700.0</td>\n",
       "      <td>2</td>\n",
       "      <td>0</td>\n",
       "    </tr>\n",
       "    <tr>\n",
       "      <td>4</td>\n",
       "      <td>1</td>\n",
       "      <td>28.0</td>\n",
       "      <td>26100.0</td>\n",
       "      <td>0</td>\n",
       "      <td>0</td>\n",
       "    </tr>\n",
       "  </tbody>\n",
       "</table>\n",
       "</div>"
      ],
      "text/plain": [
       "   Пол  Возраст  Зарплата  Члены семьи  Страховые выплаты\n",
       "0    1     41.0   49600.0            1                  0\n",
       "1    0     46.0   38000.0            1                  1\n",
       "2    0     29.0   21000.0            0                  0\n",
       "3    0     21.0   41700.0            2                  0\n",
       "4    1     28.0   26100.0            0                  0"
      ]
     },
     "metadata": {},
     "output_type": "display_data"
    }
   ],
   "source": [
    "insurance.info()\n",
    "display(insurance.head())"
   ]
  },
  {
   "cell_type": "code",
   "execution_count": 5,
   "metadata": {},
   "outputs": [],
   "source": [
    "insurance['Возраст'] = insurance['Возраст'].astype('int')\n",
    "insurance['Зарплата'] = insurance['Зарплата'].astype('int')"
   ]
  },
  {
   "cell_type": "code",
   "execution_count": 6,
   "metadata": {},
   "outputs": [
    {
     "name": "stdout",
     "output_type": "stream",
     "text": [
      "153\n",
      "<class 'pandas.core.frame.DataFrame'>\n",
      "RangeIndex: 4847 entries, 0 to 4846\n",
      "Data columns (total 5 columns):\n",
      "Пол                  4847 non-null int64\n",
      "Возраст              4847 non-null int64\n",
      "Зарплата             4847 non-null int64\n",
      "Члены семьи          4847 non-null int64\n",
      "Страховые выплаты    4847 non-null int64\n",
      "dtypes: int64(5)\n",
      "memory usage: 189.5 KB\n"
     ]
    }
   ],
   "source": [
    "print(insurance.duplicated().sum())\n",
    "insurance = insurance.drop_duplicates().reset_index(drop=True)\n",
    "insurance.info()"
   ]
  },
  {
   "cell_type": "markdown",
   "metadata": {},
   "source": [
    "Two columns are converted to integer type. Duplicate data found and removed."
   ]
  },
  {
   "cell_type": "code",
   "execution_count": 7,
   "metadata": {
    "scrolled": false
   },
   "outputs": [
    {
     "name": "stdout",
     "output_type": "stream",
     "text": [
      "count    4847.000000\n",
      "mean       31.023932\n",
      "std         8.487995\n",
      "min        18.000000\n",
      "25%        24.000000\n",
      "50%        30.000000\n",
      "75%        37.000000\n",
      "max        65.000000\n",
      "Name: Возраст, dtype: float64\n"
     ]
    },
    {
     "data": {
      "image/png": "[encoded data removed]",
      "text/plain": [
       "<Figure size 432x288 with 1 Axes>"
      ]
     },
     "metadata": {
      "needs_background": "light"
     },
     "output_type": "display_data"
    },
    {
     "data": {
      "image/png": "[encoded data removed]",
      "text/plain": [
       "<Figure size 432x288 with 1 Axes>"
      ]
     },
     "metadata": {
      "needs_background": "light"
     },
     "output_type": "display_data"
    },
    {
     "name": "stdout",
     "output_type": "stream",
     "text": [
      "count     4847.000000\n",
      "mean     39895.811223\n",
      "std       9972.952441\n",
      "min       5300.000000\n",
      "25%      33200.000000\n",
      "50%      40200.000000\n",
      "75%      46600.000000\n",
      "max      79000.000000\n",
      "Name: Зарплата, dtype: float64\n"
     ]
    },
    {
     "data": {
      "image/png": "[encoded data removed]",
      "text/plain": [
       "<Figure size 432x288 with 1 Axes>"
      ]
     },
     "metadata": {
      "needs_background": "light"
     },
     "output_type": "display_data"
    },
    {
     "data": {
      "image/png": "[encoded data removed]",
      "text/plain": [
       "<Figure size 432x288 with 1 Axes>"
      ]
     },
     "metadata": {
      "needs_background": "light"
     },
     "output_type": "display_data"
    },
    {
     "name": "stdout",
     "output_type": "stream",
     "text": [
      "count    4847.000000\n",
      "mean        1.203425\n",
      "std         1.098664\n",
      "min         0.000000\n",
      "25%         0.000000\n",
      "50%         1.000000\n",
      "75%         2.000000\n",
      "max         6.000000\n",
      "Name: Члены семьи, dtype: float64\n"
     ]
    },
    {
     "data": {
      "image/png": "[encoded data removed]",
      "text/plain": [
       "<Figure size 432x288 with 1 Axes>"
      ]
     },
     "metadata": {
      "needs_background": "light"
     },
     "output_type": "display_data"
    },
    {
     "data": {
      "image/png": "[encoded data removed]",
      "text/plain": [
       "<Figure size 432x288 with 1 Axes>"
      ]
     },
     "metadata": {
      "needs_background": "light"
     },
     "output_type": "display_data"
    },
    {
     "name": "stdout",
     "output_type": "stream",
     "text": [
      "count    4847.000000\n",
      "mean        0.152259\n",
      "std         0.468934\n",
      "min         0.000000\n",
      "25%         0.000000\n",
      "50%         0.000000\n",
      "75%         0.000000\n",
      "max         5.000000\n",
      "Name: Страховые выплаты, dtype: float64\n"
     ]
    },
    {
     "data": {
      "image/png": "[encoded data removed]",
      "text/plain": [
       "<Figure size 432x288 with 1 Axes>"
      ]
     },
     "metadata": {
      "needs_background": "light"
     },
     "output_type": "display_data"
    },
    {
     "data": {
      "image/png": "[encoded data removed]",
      "text/plain": [
       "<Figure size 432x288 with 1 Axes>"
      ]
     },
     "metadata": {
      "needs_background": "light"
     },
     "output_type": "display_data"
    }
   ],
   "source": [
    "ins_columns = ('Возраст','Зарплата','Члены семьи','Страховые выплаты')\n",
    "\n",
    "for i in ins_columns:\n",
    "   \n",
    "    print(insurance[i].describe())\n",
    "    insurance[i].hist(bins=100)\n",
    "    plt.show()\n",
    "    insurance.boxplot(column=i)\n",
    "    plt.show()"
   ]
  },
  {
   "cell_type": "markdown",
   "metadata": {},
   "source": [
    "The average age of clients is 31 years. Salaries are distributed normally. The average for insurance payments is close to zero, which is good. But there is also with 5 payments for 5 years (hard life)."
   ]
  },
  {
   "cell_type": "markdown",
   "metadata": {},
   "source": [
    "## 2. Matrix multiplication"
   ]
  },
  {
   "cell_type": "markdown",
   "metadata": {},
   "source": [
    "Designations:\n",
    "\n",
    "- $X$ — feature matrix (zero column consists of ones)\n",
    "\n",
    "- $y$ — target feature vector\n",
    "\n",
    "- $P$ — the matrix by which the features are multiplied\n",
    "\n",
    "- $w$ — vector of linear regression weights (zero element equals shift)\n",
    "\n",
    "Answer the question and justify your decision.\n",
    "\n",
    "The features are multiplied by an invertible matrix. Will the quality of linear regression change? (It can be retrained.)\n",
    "\n",
    "a. Will change. Give examples of matrices.\n",
    "\n",
    "b. Will not change. Specify how the linear regression parameters are related in the original problem and in the transformed one."
   ]
  },
  {
   "cell_type": "markdown",
   "metadata": {},
   "source": [
    "Predictions:\n",
    "\n",
    "$$\n",
    "a = Xw\n",
    "$$\n",
    "\n",
    "Training task:\n",
    "\n",
    "$$\n",
    "w = \\arg\\min_w MSE(Xw, y)\n",
    "$$\n",
    "\n",
    "Training formula:\n",
    "\n",
    "$$\n",
    "w = (X^T X)^{-1} X^T y\n",
    "$$"
   ]
  },
  {
   "cell_type": "markdown",
   "metadata": {},
   "source": [
    "**Answer:** The quality of the linear regression should not change.\n",
    "\n",
    "**Rationale:** let $ a = Xw, a' = X'w'$, where X' features multiplied by an invertible matrix. $ X' = XP $\n",
    "$$ w = (X^T X) ^ {-1}  X^T y $$\n",
    "$$ w' = ((XP)^T XP)^{-1} (XP)^T y $$\n",
    "Matrix Properties: $ (A^T)^{-1} = (A^{-1})^T ; (AB)^T = B^TA^T ; AA^{-1} = E ; AE = EA = A; (AB)^{-1} = B^{-1}A^{-1}$\n",
    "\n",
    "$ a'= XP((XP)^T XP)^{-1} (XP)^T y = XP(P^T X^T XP)^{-1}P^T X^T y = XP(XP)^{-1}(P^TX^T)^{-1}P^T X^T y\n",
    "= XPP^{-1}X^{-1}(X^T)^{-1}(P^T)^{-1}P^T X^T y = XEX^{-1}(X^T)^{-1}EX^T y = X (X^TX)^{-1} X^T y = Xw = a $\n",
    "\n",
    "Proved that $ a' = X'w' = Xw = a$\n",
    "Therefore, the quality will not change.\n"
   ]
  },
  {
   "cell_type": "markdown",
   "metadata": {},
   "source": [
    "## 3. Conversion algorithm"
   ]
  },
  {
   "cell_type": "markdown",
   "metadata": {},
   "source": [
    "**Algorithm**\n",
    "\n",
    "To transform the data, let's create a reversible matrix of the size of our original insurance matrix, then multiply the insurance matrix by the reversible matrix. The matrix obtained during the transformation will give the same result."
   ]
  },
  {
   "cell_type": "markdown",
   "metadata": {},
   "source": [
    "**Rationale**\n",
    "\n",
    "In task 2, we proved that such a feature-homing will not affect linear regression, since $a' = X'w' = Xw = a$, where X' features multiplied by an invertible matrix. $ X' = XP $\n",
    "\n",
    "For linear regression, we have the equation $a = Xw + w0$, obtained to change the result of linear regression, you need to change either the weight vector or the shift"
   ]
  },
  {
   "cell_type": "markdown",
   "metadata": {},
   "source": [
    "## 4. Algorithm verification"
   ]
  },
  {
   "cell_type": "code",
   "execution_count": 9,
   "metadata": {},
   "outputs": [
    {
     "name": "stdout",
     "output_type": "stream",
     "text": [
      "(4847, 4)\n"
     ]
    }
   ],
   "source": [
    "insurance_ohe = pd.get_dummies(insurance, drop_first=True)\n",
    "\n",
    "target_insurance = insurance_ohe['Страховые выплаты']\n",
    "features_insurance = insurance_ohe.drop('Страховые выплаты', axis=1)\n",
    "print(features_insurance.shape)"
   ]
  },
  {
   "cell_type": "code",
   "execution_count": 12,
   "metadata": {},
   "outputs": [
    {
     "name": "stdout",
     "output_type": "stream",
     "text": [
      "[[-0.14612546 -0.55403043 -0.09673651 -2.26787467]\n",
      " [-1.54397412  0.13835044 -0.83263315 -0.27937987]\n",
      " [ 1.09828879  1.86345813  2.05711175  0.68967423]\n",
      " [-0.34951706  0.13112547 -0.30517375  0.35843297]]\n",
      "[[ 1.16121618 -1.96532583  0.09478276  5.63299483]\n",
      " [ 1.43008777 -1.30031525  0.5701684   6.93783132]\n",
      " [-1.64896949  2.10838644 -0.03270101 -8.72704981]\n",
      " [-0.79478812  0.35435839 -0.14400154 -1.68557344]]\n"
     ]
    }
   ],
   "source": [
    "#create an invertible matrix and check it for invertibility\n",
    "transformation_matrix = np.random.randn(4,4)\n",
    "print(transformation_matrix)\n",
    "transformation_matrix_inv = np.linalg.inv(transformation_matrix)\n",
    "print(transformation_matrix_inv)"
   ]
  },
  {
   "cell_type": "code",
   "execution_count": 13,
   "metadata": {},
   "outputs": [],
   "source": [
    "#transform features through matrix multiplication\n",
    "features_insurance_transfromed = features_insurance @ transformation_matrix_inv "
   ]
  },
  {
   "cell_type": "code",
   "execution_count": 14,
   "metadata": {},
   "outputs": [
    {
     "name": "stdout",
     "output_type": "stream",
     "text": [
      "(3635, 4) (1212, 4) (3635,) (1212,) (3635, 4) (1212, 4)\n"
     ]
    }
   ],
   "source": [
    "features_train_tr, features_test_tr, target_train, target_test, features_train, features_test = \\\n",
    "    train_test_split(features_insurance_transfromed, target_insurance, features_insurance, \n",
    "                     test_size=0.25, random_state=12345)\n",
    "print(features_train_tr.shape, features_test_tr.shape, target_train.shape, target_test.shape, \n",
    "      features_train.shape,features_test.shape)"
   ]
  },
  {
   "cell_type": "code",
   "execution_count": 15,
   "metadata": {},
   "outputs": [
    {
     "data": {
      "text/html": [
       "<div>\n",
       "<style scoped>\n",
       "    .dataframe tbody tr th:only-of-type {\n",
       "        vertical-align: middle;\n",
       "    }\n",
       "\n",
       "    .dataframe tbody tr th {\n",
       "        vertical-align: top;\n",
       "    }\n",
       "\n",
       "    .dataframe thead th {\n",
       "        text-align: right;\n",
       "    }\n",
       "</style>\n",
       "<table border=\"1\" class=\"dataframe\">\n",
       "  <thead>\n",
       "    <tr style=\"text-align: right;\">\n",
       "      <th></th>\n",
       "      <th>0</th>\n",
       "      <th>1</th>\n",
       "      <th>2</th>\n",
       "      <th>3</th>\n",
       "    </tr>\n",
       "  </thead>\n",
       "  <tbody>\n",
       "    <tr>\n",
       "      <td>4460</td>\n",
       "      <td>-89830.384250</td>\n",
       "      <td>114871.360907</td>\n",
       "      <td>-1766.528401</td>\n",
       "      <td>-475433.326773</td>\n",
       "    </tr>\n",
       "    <tr>\n",
       "      <td>3773</td>\n",
       "      <td>-83548.043311</td>\n",
       "      <td>106844.169596</td>\n",
       "      <td>-1636.324090</td>\n",
       "      <td>-442193.840595</td>\n",
       "    </tr>\n",
       "    <tr>\n",
       "      <td>4561</td>\n",
       "      <td>-46137.618364</td>\n",
       "      <td>59003.967132</td>\n",
       "      <td>-902.088275</td>\n",
       "      <td>-244192.572434</td>\n",
       "    </tr>\n",
       "    <tr>\n",
       "      <td>1385</td>\n",
       "      <td>-63912.802034</td>\n",
       "      <td>81744.279082</td>\n",
       "      <td>-1242.001322</td>\n",
       "      <td>-338283.454740</td>\n",
       "    </tr>\n",
       "    <tr>\n",
       "      <td>724</td>\n",
       "      <td>-53535.099658</td>\n",
       "      <td>68470.901071</td>\n",
       "      <td>-1040.120131</td>\n",
       "      <td>-283353.291300</td>\n",
       "    </tr>\n",
       "  </tbody>\n",
       "</table>\n",
       "</div>"
      ],
      "text/plain": [
       "                 0              1            2              3\n",
       "4460 -89830.384250  114871.360907 -1766.528401 -475433.326773\n",
       "3773 -83548.043311  106844.169596 -1636.324090 -442193.840595\n",
       "4561 -46137.618364   59003.967132  -902.088275 -244192.572434\n",
       "1385 -63912.802034   81744.279082 -1242.001322 -338283.454740\n",
       "724  -53535.099658   68470.901071 -1040.120131 -283353.291300"
      ]
     },
     "metadata": {},
     "output_type": "display_data"
    },
    {
     "data": {
      "text/html": [
       "<div>\n",
       "<style scoped>\n",
       "    .dataframe tbody tr th:only-of-type {\n",
       "        vertical-align: middle;\n",
       "    }\n",
       "\n",
       "    .dataframe tbody tr th {\n",
       "        vertical-align: top;\n",
       "    }\n",
       "\n",
       "    .dataframe thead th {\n",
       "        text-align: right;\n",
       "    }\n",
       "</style>\n",
       "<table border=\"1\" class=\"dataframe\">\n",
       "  <thead>\n",
       "    <tr style=\"text-align: right;\">\n",
       "      <th></th>\n",
       "      <th>Пол</th>\n",
       "      <th>Возраст</th>\n",
       "      <th>Зарплата</th>\n",
       "      <th>Члены семьи</th>\n",
       "    </tr>\n",
       "  </thead>\n",
       "  <tbody>\n",
       "    <tr>\n",
       "      <td>4460</td>\n",
       "      <td>0</td>\n",
       "      <td>28</td>\n",
       "      <td>54500</td>\n",
       "      <td>2</td>\n",
       "    </tr>\n",
       "    <tr>\n",
       "      <td>3773</td>\n",
       "      <td>1</td>\n",
       "      <td>38</td>\n",
       "      <td>50700</td>\n",
       "      <td>1</td>\n",
       "    </tr>\n",
       "    <tr>\n",
       "      <td>4561</td>\n",
       "      <td>0</td>\n",
       "      <td>24</td>\n",
       "      <td>28000</td>\n",
       "      <td>1</td>\n",
       "    </tr>\n",
       "    <tr>\n",
       "      <td>1385</td>\n",
       "      <td>0</td>\n",
       "      <td>47</td>\n",
       "      <td>38800</td>\n",
       "      <td>0</td>\n",
       "    </tr>\n",
       "    <tr>\n",
       "      <td>724</td>\n",
       "      <td>0</td>\n",
       "      <td>40</td>\n",
       "      <td>32500</td>\n",
       "      <td>1</td>\n",
       "    </tr>\n",
       "  </tbody>\n",
       "</table>\n",
       "</div>"
      ],
      "text/plain": [
       "      Пол  Возраст  Зарплата  Члены семьи\n",
       "4460    0       28     54500            2\n",
       "3773    1       38     50700            1\n",
       "4561    0       24     28000            1\n",
       "1385    0       47     38800            0\n",
       "724     0       40     32500            1"
      ]
     },
     "metadata": {},
     "output_type": "display_data"
    }
   ],
   "source": [
    "display(features_train_tr.head(5)) # with transformation\n",
    "display(features_train.head(5)) # and without it"
   ]
  },
  {
   "cell_type": "code",
   "execution_count": 16,
   "metadata": {},
   "outputs": [],
   "source": [
    "model = LinearRegression()\n",
    "model_trans = LinearRegression()"
   ]
  },
  {
   "cell_type": "code",
   "execution_count": 17,
   "metadata": {},
   "outputs": [
    {
     "data": {
      "text/plain": [
       "LinearRegression(copy_X=True, fit_intercept=True, n_jobs=None, normalize=False)"
      ]
     },
     "execution_count": 17,
     "metadata": {},
     "output_type": "execute_result"
    }
   ],
   "source": [
    "model.fit(features_train, target_train)\n",
    "model_trans.fit(features_train_tr, target_train)"
   ]
  },
  {
   "cell_type": "code",
   "execution_count": 18,
   "metadata": {},
   "outputs": [],
   "source": [
    "pred = model.predict(features_test)\n",
    "pred_trans = model_trans.predict(features_test_tr)"
   ]
  },
  {
   "cell_type": "code",
   "execution_count": 19,
   "metadata": {},
   "outputs": [
    {
     "name": "stdout",
     "output_type": "stream",
     "text": [
      "Значение r2 без преобразования признаков: 0.4230772761583642\n",
      "Значение r2 с домножением на обратимую матрицу: 0.4230772761580791\n"
     ]
    }
   ],
   "source": [
    "r2 = r2_score(target_test, pred)\n",
    "r2_trans = r2_score(target_test, pred_trans)\n",
    "print('r2 value without feature transformation:', r2)\n",
    "print('The value of r2 multiplied by an invertible matrix:', r2_trans)"
   ]
  },
  {
   "cell_type": "markdown",
   "metadata": {},
   "source": [
    "**Results**\n",
    "\n",
    "As a result of feature augmentation on an invertible matrix, it was proved that linear regression, in particular the metric r2, will not change"
   ]
  }
 ],
 "metadata": {
  "kernelspec": {
   "display_name": "Python 3",
   "language": "python",
   "name": "python3"
  },
  "language_info": {
   "codemirror_mode": {
    "name": "ipython",
    "version": 3
   },
   "file_extension": ".py",
   "mimetype": "text/x-python",
   "name": "python",
   "nbconvert_exporter": "python",
   "pygments_lexer": "ipython3",
   "version": "3.7.8"
  },
  "toc": {
   "base_numbering": 1,
   "nav_menu": {},
   "number_sections": true,
   "sideBar": true,
   "skip_h1_title": false,
   "title_cell": "Table of Contents",
   "title_sidebar": "Contents",
   "toc_cell": false,
   "toc_position": {},
   "toc_section_display": true,
   "toc_window_display": false
  }
 },
 "nbformat": 4,
 "nbformat_minor": 2
}
